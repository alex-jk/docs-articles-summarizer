{
 "cells": [
  {
   "cell_type": "code",
   "execution_count": 37,
   "metadata": {},
   "outputs": [
    {
     "name": "stderr",
     "output_type": "stream",
     "text": [
      "[nltk_data] Downloading package punkt to /root/nltk_data...\n",
      "[nltk_data]   Package punkt is already up-to-date!\n",
      "[nltk_data] Downloading package punkt_tab to /root/nltk_data...\n",
      "[nltk_data]   Package punkt_tab is already up-to-date!\n",
      "[nltk_data] Downloading package words to /root/nltk_data...\n",
      "[nltk_data]   Package words is already up-to-date!\n",
      "[nltk_data] Downloading package wordnet to /root/nltk_data...\n",
      "[nltk_data]   Package wordnet is already up-to-date!\n"
     ]
    },
    {
     "data": {
      "text/plain": [
       "True"
      ]
     },
     "execution_count": 37,
     "metadata": {},
     "output_type": "execute_result"
    }
   ],
   "source": [
    "import streamlit as st\n",
    "from transformers import T5ForConditionalGeneration, T5Tokenizer\n",
    "import fitz  # PyMuPDF\n",
    "import os\n",
    "import re\n",
    "import easyocr\n",
    "import numpy as np\n",
    "from PIL import Image\n",
    "import nltk\n",
    "from nltk.stem import WordNetLemmatizer\n",
    "\n",
    "nltk.download('punkt')\n",
    "nltk.download('punkt_tab')\n",
    "nltk.download('words')\n",
    "nltk.download('wordnet')"
   ]
  },
  {
   "cell_type": "markdown",
   "metadata": {},
   "source": [
    "##### Load model"
   ]
  },
  {
   "cell_type": "code",
   "execution_count": 2,
   "metadata": {},
   "outputs": [
    {
     "name": "stderr",
     "output_type": "stream",
     "text": [
      "You are using the default legacy behaviour of the <class 'transformers.models.t5.tokenization_t5.T5Tokenizer'>. This is expected, and simply means that the `legacy` (previous) behavior will be used so nothing changes for you. If you want to use the new behaviour, set `legacy=False`. This should only be set if you understand what it means, and thoroughly read the reason why this was added as explained in https://github.com/huggingface/transformers/pull/24565\n"
     ]
    }
   ],
   "source": [
    "def load_model():\n",
    "    model_directory = \"t5-base\"  # Using T5 for multilingual support\n",
    "    model = T5ForConditionalGeneration.from_pretrained(model_directory)\n",
    "    tokenizer = T5Tokenizer.from_pretrained(model_directory)\n",
    "    return model, tokenizer\n",
    "\n",
    "model, tokenizer = load_model()"
   ]
  },
  {
   "cell_type": "markdown",
   "metadata": {},
   "source": [
    "##### Preprocess text function"
   ]
  },
  {
   "cell_type": "code",
   "execution_count": 3,
   "metadata": {},
   "outputs": [],
   "source": [
    "def preprocess_text(text):\n",
    "    # Keep important punctuation marks: ., !, ?, ,, ; (and remove everything else)\n",
    "    cleaned_text = re.sub(r'[^\\w\\s.,!?;_–-]', '', text)  # Keep ., !, ?, ,, ;\n",
    "    cleaned_text = re.sub(r'\\s+', ' ', cleaned_text)  # Normalize whitespace\n",
    "    cleaned_text = cleaned_text.strip()  # Remove leading/trailing spaces\n",
    "    return cleaned_text"
   ]
  },
  {
   "cell_type": "markdown",
   "metadata": {},
   "source": [
    "##### Summarize text function"
   ]
  },
  {
   "cell_type": "code",
   "execution_count": 4,
   "metadata": {},
   "outputs": [],
   "source": [
    "def summarize_text(text, min_length, max_length, prompts=None):\n",
    "    cleaned_text = preprocess_text(text)  # Preprocess the text\n",
    "    \n",
    "    # Tokenize the input text for summarization\n",
    "    tokenized_text = tokenizer.encode(\n",
    "        f\"summarize: {cleaned_text}\", \n",
    "        return_tensors=\"pt\", \n",
    "        max_length=1024,  \n",
    "        truncation=True, \n",
    "        padding=True\n",
    "    )\n",
    "    \n",
    "    # Generate the summary with adjusted parameters to reduce repetition\n",
    "    summary_ids = model.generate(\n",
    "        tokenized_text,\n",
    "        max_length=max_length,  # Adjust max_length for longer or shorter summaries\n",
    "        min_length=min_length,\n",
    "        num_beams=6,  # Beam search to generate multiple candidates\n",
    "        repetition_penalty=3.0,  # Higher penalty to avoid repetition\n",
    "        early_stopping=False,  # Stop once the model generates a full sentence\n",
    "        no_repeat_ngram_size=3\n",
    "    )\n",
    "\n",
    "    # Decode the generated tokens into the final summary text\n",
    "    summary = tokenizer.decode(summary_ids[0], skip_special_tokens=True)\n",
    "    \n",
    "    return summary"
   ]
  },
  {
   "cell_type": "markdown",
   "metadata": {},
   "source": [
    "##### Functions to summarize in chunks"
   ]
  },
  {
   "cell_type": "code",
   "execution_count": 5,
   "metadata": {},
   "outputs": [],
   "source": [
    "def split_text_into_chunks(text, max_length=1024):\n",
    "    # Split the text into sentences\n",
    "    sentences = nltk.sent_tokenize(text)\n",
    "\n",
    "    # Group sentences into chunks that fit within the token limit\n",
    "    chunks = []\n",
    "    current_chunk = \"\"\n",
    "    current_tokens = 0\n",
    "\n",
    "    for sentence in sentences:\n",
    "        # Tokenize just the new sentence\n",
    "        sentence_tokens = tokenizer.encode(sentence, return_tensors=\"pt\", truncation=False)\n",
    "\n",
    "        # Check if adding this sentence will exceed the token limit\n",
    "        if current_tokens + len(sentence_tokens[0]) > max_length:\n",
    "            # If it exceeds the limit, finalize the current chunk and start a new one\n",
    "            if current_chunk:\n",
    "                chunks.append(current_chunk.strip())\n",
    "            # Start a new chunk with the current sentence\n",
    "            current_chunk = sentence\n",
    "            current_tokens = len(sentence_tokens[0])\n",
    "        else:\n",
    "            # If it fits, add the sentence to the current chunk\n",
    "            current_chunk += \" \" + sentence\n",
    "            current_tokens += len(sentence_tokens[0])\n",
    "\n",
    "    # Add the last chunk if any sentences remain\n",
    "    if current_chunk:\n",
    "        chunks.append(current_chunk.strip())\n",
    "\n",
    "    return chunks"
   ]
  },
  {
   "cell_type": "code",
   "execution_count": 6,
   "metadata": {},
   "outputs": [],
   "source": [
    "def summarize_long_text(text, max_length, prompts=None):\n",
    "    # Split the text into chunks of full sentences\n",
    "    chunks = split_text_into_chunks(text)\n",
    "\n",
    "    # Summarize each chunk individually and collect the results\n",
    "    summaries = []\n",
    "    for chunk in chunks:\n",
    "        # print(\"\\n\")\n",
    "        # print(chunk)\n",
    "        summary = summarize_text(chunk, max_length, prompts)  # Summarize each chunk\n",
    "        summaries.append(summary)\n",
    "    \n",
    "    # Combine the individual summaries into a final summary\n",
    "    combined_summary = \" \".join(summaries)\n",
    "\n",
    "    # Ensure the final summary ends with a full sentence\n",
    "    if combined_summary[-1] not in \".!?\":\n",
    "        combined_summary = combined_summary.rsplit(\" \", 1)[0] + \".\"\n",
    "\n",
    "    return combined_summary"
   ]
  },
  {
   "cell_type": "markdown",
   "metadata": {},
   "source": [
    "##### Function to detect valid summary part"
   ]
  },
  {
   "cell_type": "code",
   "execution_count": 30,
   "metadata": {},
   "outputs": [
    {
     "name": "stdout",
     "output_type": "stream",
     "text": [
      "encommon\n"
     ]
    }
   ],
   "source": [
    "# List of valid English words for reference\n",
    "valid_words = set(nltk.corpus.words.words())\n",
    "\n",
    "# List of valid English words for reference\n",
    "valid_words = set(nltk.corpus.words.words())\n",
    "\n",
    "domain_specific_words = ['lamotrigine', 'antidepressant', 'placebo', 'monotherapy']\n",
    "valid_words.update(domain_specific_words)\n",
    "\n",
    "print(list(valid_words)[0])"
   ]
  },
  {
   "cell_type": "code",
   "execution_count": 36,
   "metadata": {},
   "outputs": [
    {
     "ename": "NameError",
     "evalue": "name 'WordNetLemmatizer' is not defined",
     "output_type": "error",
     "traceback": [
      "\u001b[0;31m---------------------------------------------------------------------------\u001b[0m",
      "\u001b[0;31mNameError\u001b[0m                                 Traceback (most recent call last)",
      "Cell \u001b[0;32mIn[36], line 2\u001b[0m\n\u001b[1;32m      1\u001b[0m \u001b[38;5;66;03m# Initialize the lemmatizer\u001b[39;00m\n\u001b[0;32m----> 2\u001b[0m lemmatizer \u001b[38;5;241m=\u001b[39m \u001b[43mWordNetLemmatizer\u001b[49m()\n\u001b[1;32m      4\u001b[0m \u001b[38;5;28;01mdef\u001b[39;00m \u001b[38;5;21mis_valid_word\u001b[39m(token):\n\u001b[1;32m      5\u001b[0m     \u001b[38;5;66;03m# Allow words that are alphabetic and present in the valid_words set (after lemmatization)\u001b[39;00m\n\u001b[1;32m      6\u001b[0m     \u001b[38;5;66;03m# Also allow tokens that are valid punctuation marks\u001b[39;00m\n\u001b[1;32m      7\u001b[0m     lemma \u001b[38;5;241m=\u001b[39m lemmatizer\u001b[38;5;241m.\u001b[39mlemmatize(token\u001b[38;5;241m.\u001b[39mlower())  \u001b[38;5;66;03m# Lemmatize the token\u001b[39;00m\n",
      "\u001b[0;31mNameError\u001b[0m: name 'WordNetLemmatizer' is not defined"
     ]
    }
   ],
   "source": [
    "# Initialize the lemmatizer\n",
    "lemmatizer = WordNetLemmatizer()\n",
    "\n",
    "def is_valid_word(token):\n",
    "    # Allow words that are alphabetic and present in the valid_words set (after lemmatization)\n",
    "    # Also allow tokens that are valid punctuation marks\n",
    "    lemma = lemmatizer.lemmatize(token.lower())  # Lemmatize the token\n",
    "    return lemma in valid_words or re.match(r'^[.,!?;_–-]$', token)"
   ]
  },
  {
   "cell_type": "code",
   "execution_count": 33,
   "metadata": {},
   "outputs": [],
   "source": [
    "def clean_summary(summary):\n",
    "    # Tokenize the summary into words\n",
    "    tokens = nltk.word_tokenize(summary)\n",
    "    # print(\"\\n-------------------------\")\n",
    "    # print(tokens)\n",
    "    \n",
    "    cleaned_tokens = []\n",
    "    for token in tokens:\n",
    "        # Normalize token to lowercase for better matching\n",
    "        token_cleaned = token.lower()\n",
    "        print(f\"\\n {token_cleaned}\")\n",
    "        \n",
    "        # Check if the token is a valid word or a valid punctuation mark\n",
    "        if token_cleaned in valid_words or re.match(r'^[.,!?;_–-]$', token_cleaned):  # Match same punctuation as preprocess_text\n",
    "            cleaned_tokens.append(token)\n",
    "        else:\n",
    "            # Once we detect a non-valid word or gibberish, we stop\n",
    "            break\n",
    "    \n",
    "    # Join the valid tokens back into a string\n",
    "    cleaned_summary = \" \".join(cleaned_tokens).strip()\n",
    "    \n",
    "    # Ensure the summary ends with a full sentence\n",
    "    if cleaned_summary[-1] not in \".!?\":\n",
    "        cleaned_summary += \".\"\n",
    "    \n",
    "    return cleaned_summary"
   ]
  },
  {
   "cell_type": "markdown",
   "metadata": {},
   "source": [
    "##### Functions to import text"
   ]
  },
  {
   "cell_type": "code",
   "execution_count": 9,
   "metadata": {},
   "outputs": [],
   "source": [
    "import pdfplumber\n",
    "\n",
    "def read_pdf_with_pdfplumber(file):\n",
    "    \"\"\"Read and extract text from a PDF file using pdfplumber with positional data.\"\"\"\n",
    "    text = \"\"\n",
    "    with pdfplumber.open(file) as pdf:\n",
    "        for page in pdf.pages:\n",
    "            # Use `extract_words` to get word positions and spacing information\n",
    "            words = page.extract_words()\n",
    "            page_text = \"\"\n",
    "\n",
    "            # Reconstruct text based on the word positions to handle missing spaces\n",
    "            for word in words:\n",
    "                # Use a space before the word if it's not the first word on the line\n",
    "                page_text += f\" {word['text']}\"\n",
    "            \n",
    "            text += page_text + \"\\n\"  # Add newline to separate each page's content\n",
    "    return text\n",
    "\n",
    "def read_pdf_by_page(file):\n",
    "    \"\"\"Read and extract text from a PDF file using pdfplumber, handling proper spacing between words.\"\"\"\n",
    "    pages_text = []  # Store text for each page separately\n",
    "\n",
    "    with pdfplumber.open(file) as pdf:\n",
    "        for page_num, page in enumerate(pdf.pages):\n",
    "            words = page.extract_words()  # Extract words with positional data\n",
    "            page_text = \"\"\n",
    "\n",
    "            # Variables to track previous word's position for proper spacing\n",
    "            prev_x1 = 0  # End x-coordinate of the previous word\n",
    "            prev_top = 0  # y-coordinate of the previous word's top position\n",
    "\n",
    "            for word in words:\n",
    "                x0, y0, x1, y1 = word['x0'], word['top'], word['x1'], word['bottom']\n",
    "                word_text = word['text']\n",
    "\n",
    "                # If there's a gap between words on the same line, insert a space\n",
    "                if prev_x1 > 0 and (x0 - prev_x1) > 1 and abs(y0 - prev_top) < 5:\n",
    "                    page_text += \" \" + word_text\n",
    "                else:\n",
    "                    page_text += word_text\n",
    "\n",
    "                # Update previous word's x1 and top position for spacing logic\n",
    "                prev_x1 = x1\n",
    "                prev_top = y0\n",
    "\n",
    "            # Print text for each page as it's extracted (optional)\n",
    "            print(f\"Extracted text for Page {page_num + 1}:\\n\", page_text, \"\\n\" + \"-\" * 80)\n",
    "\n",
    "            # Append extracted text for each page separately\n",
    "            pages_text.append(page_text.strip())  # Strip leading/trailing spaces for each page\n",
    "\n",
    "    return pages_text"
   ]
  },
  {
   "cell_type": "code",
   "execution_count": 10,
   "metadata": {},
   "outputs": [],
   "source": [
    "def read_txt(file):\n",
    "    return file.read().decode(\"cp1252\", errors='replace')"
   ]
  },
  {
   "cell_type": "code",
   "execution_count": 11,
   "metadata": {},
   "outputs": [
    {
     "name": "stdout",
     "output_type": "stream",
     "text": [
      "['NPR2-42-120.pdf']\n"
     ]
    }
   ],
   "source": [
    "import os\n",
    "\n",
    "# Define the path to the folder containing the PDFs\n",
    "pdf_folder = 'pdf_files'\n",
    "\n",
    "# List all files in the pdf_folder and filter to include only PDFs\n",
    "pdf_files = [f for f in os.listdir(pdf_folder) if f.endswith('.pdf')]\n",
    "print(pdf_files)"
   ]
  },
  {
   "cell_type": "code",
   "execution_count": 12,
   "metadata": {},
   "outputs": [],
   "source": [
    "prompts = [\n",
    "    \"Effects of lamotrigine on unipolar depression.\",\n",
    "    \"Impact of lamotrigine on unipolar depression.\",\n",
    "    \"Key findings related to lamotrigine in treating unipolar depression.\",\n",
    "    \"Outcomes and statistics related to lamotrigine and unipolar depression.\"\n",
    "]"
   ]
  },
  {
   "cell_type": "code",
   "execution_count": 13,
   "metadata": {},
   "outputs": [],
   "source": [
    "# Initialize a list to store the summaries\n",
    "summaries = []"
   ]
  },
  {
   "cell_type": "code",
   "execution_count": 14,
   "metadata": {},
   "outputs": [],
   "source": [
    "def extract_relevant_sections(text, keyword=\"lamotrigine\"):\n",
    "    \"\"\"Extract paragraphs or sentences containing the keyword from the text.\"\"\"\n",
    "    relevant_sections = []\n",
    "    for paragraph in text.split('\\n'):\n",
    "        if keyword.lower() in paragraph.lower():\n",
    "            relevant_sections.append(paragraph)\n",
    "    return \" \".join(relevant_sections)"
   ]
  },
  {
   "cell_type": "code",
   "execution_count": 15,
   "metadata": {},
   "outputs": [
    {
     "name": "stdout",
     "output_type": "stream",
     "text": [
      "Current file: pdf_files/NPR2-42-120.pdf\n",
      "Extracted text for Page 1:\n",
      " Received: 17 April 2021 | Revised: 12 November 2021 | Accepted: 15 December 2021DOI: 10.1002/npr2.12228CASE REPORTThe effectiveness of lamotrigine for persistent depressivedisorder: A case reportYusuke Matsuzaka1,2 | Kayoko Urashima1,2 | Shintaro Sakai1 | Yoshiro Morimoto1,2 |Shinji Kanegae1 | Hirohisa Kinoshita1,3 | Akira Imamura1,4 | Hiroki Ozawa1,21Department of Neuropsychiatry,Nagasaki University Hospital, Nagasaki, AbstractJapan Aim: Persistent depressive disorder (PDD) was first introduced in the Diagnostic and2Department of Neuropsychiatry, Statistical Manual of Mental Disorders 5th edition (DSM-5), which encompasses nu-Nagasaki University Graduate School ofBiomedical Sciences, Nagasaki, Japan merous different conditions, including dysthymia, recurrent major depressive disor-3Health Center, Nagasaki University, der, double depression, and chronic major depression. SSRIs are the first-line drugs forNagasaki, Japantreatment of PDD; however, not all patients respond to SSRI treatment.4Child and Adolescent PsychiatryCommunity Partnership Unit, Nagasaki Case presentation: We describe a woman who was diagnosed with PDD. At the ageUniversity Hospital, Nagasaki, Japan of 38, the patient presented with anxiety, reduced energy, marked tiredness, andCorrespondence sleep disturbances. She was prescribed with three antidepressants (paroxetine, du-Yusuke Matsuzaka, Department of loxetine, and mirtazapine), which were not effective in relieving her symptoms. SheNeuropsychiatry, Nagasaki UniversityGraduate School of Biomedical Sciences, was also prescribed bromazepam, which was also not effective. Subsequently, she852-8501, 1-7-1 Sakamoto, Nagasaki, was switched to lamotrigine, which resulted in a marked improvement in symptoms.Japan.Email: ysk.mtzk.1980@gmail.com The antidepressants and bromazepam were gradually tapered and discontinued.Conclusion: This case demonstrates that lamotrigine may be effective for treatingFunding informationThis work was supported by the Japan patients with antidepressant resistant PDD and suggests that it may be a promis-Society for the Promotion of Science ing alternative to combination therapy of antidepressants and benzodiazepines in the(JSPS) KAKENHI (grant number20K16629) (to Yu. M). treatment of PDD.KEYWORDSbipolar and related disorders, lamotrigine, persistent depressive disorder (PDD)1 | INTRODUCTION heterogeneity of the diagnosis, and these criticisms have continuedwith PDD, its latest classification. Several reports have examined thePersistent depressive disorder (PDD) was first introduced in the efficacy and acceptability of selective serotonin reuptake inhibitorsDiagnostic and Statistical Manual of Mental Disorders 5th edition (SSRIs) and tricyclic antidepressants in the treatment of PDD1 and(DSM-5), which encompasses numerous different conditions, in- have provided evidence for the efficacy of antidepressants in thecluding dysthymia (DST), recurrent major depressive disorder, dou- treatment of chronic depression. However, reports have shown thatble depression, and chronic major depression. Since its inception up to two-thirds of adult patients do not achieve remission with SSRIin the DSM-III, DST has been widely criticized for its significant treatment. Moreover, there is limited evidence identifying reliableThis is an open access article under the terms of the Creative Commons Attribution License, which permits use, distribution and reproduction in any medium,provided the original work is properly cited.© 2022 The Authors. Neuropsychopharmacology Reports published by John Wiley & Sons Australia, Ltd on behalf of The Japanese Society ofNeuropsychopharmacology|120 wileyonlinelibrary.com/journal/nppr Neuropsychopharmacology Reports. 2022;42:120–123. \n",
      "--------------------------------------------------------------------------------\n",
      "Extracted text for Page 2:\n",
      " MATSUZAKA eT Al. | 121predictors (eg, demographic, clinical, or genetic characteristics) of was prescribed maximum doses of paroxetine, duloxetine, and mir-individual response.2,3 Therefore, effective treatment of patients tazapine; however, her symptoms did not improve. Furthermore,with PDD who do not respond to SSRIs remains elusive. she was prescribed the maximum dose of bromazepam for anxi-Here, we report a patient who was diagnosed with PDD who ety, but her anxiety symptoms persisted. Although the patient hadshowed insufficient improvement with a combination therapy of an- treatment resistance to antidepressants, she did not experiencetidepressants but achieved remission with lamotrigine monotherapy. severe depressive symptoms (such as suicidal ideation) or psy-chotic symptoms (such as delusions); thus, augmentation therapywith antipsychotics and electroconvulsive therapy were consid-2 | CASE REPORT ered unsuitable. Subsequently, she was treated with lamotrigineand her symptoms of depressions stabilized. The three antidepres-The patient was a woman in her 50’s. Her mother, grandmother, sants were gradually tapered and discontinued. Her anxiety alsoand aunt were diagnosed with major depressive disorder and com- improved dramatically, and bromazepam was gradually taperedmitted suicide. She worked in a hospital as a nurse. At the age of and discontinued. Remission was maintained for over 2 years, and38 years, she began experiencing fatigue and wobble. She visited she was reemployed as a care insurance investigator.a general medicine clinic, but no abnormalities were detected. She Detailed information of the patient's symptoms (measured usingpresented with symptoms of depression (eg, depressed mood, the Cornell Dysthymia Rating Scale4) is summarized in Table 1.reduced energy, pessimism, and sleep disturbances). She did notpresent with hypomanic or manic symptoms, such as mood eleva-tion. At the psychiatry clinic, she was diagnosed with major de- 3 | DISCUSSIONpressive disorder and was started on paroxetine. However, hersymptoms remained unstable, and she remitted and relapsed re- Lamotrigine has not showed efficacy in the treatment of unipolarpeatedly. Her diagnosis was revised from major depressive disor- depression.5,6 This case provided the new findings that lamotrigineder to PDD, and duloxetine and mirtazapine were added to her improved unipolar depression resistant to antidepressants and alsotreatment when she was aged 45 and 46 years, respectively. She improved anxiety symptoms being free from benzodiazepines.TABLE 1 Clinical information ofCombination therapy (paroxetine,the patients according to the Cornellduloxetine, mirtazapine, andDysthymia Rating ScaleItem bromazepam) LamotrigineDepressed mood 4 1Lack of interest or pleasure 3 0Pessimism 2 0Suicidal ideation 0 0Low self-esteem 3 1Guilt 2 0Helplessness 3 0Social withdrawal 3 0Indecisiveness 2 0Low attention and concentration 3 0Psychic anxiety 4 1Somatic anxiety 3 0Worry 3 1Irritability or excessive anger 2 0Somatic general 3 0Low productivity 3 0Low energy 4 0Low sexual interest, activity 2 0Sleep disturbance 3 1Diurnal mood variation 3 1Total 55 6Note: After switching to lamotrigine monotherapy, the symptoms have improved and continuedremission for a long time. \n",
      "--------------------------------------------------------------------------------\n",
      "Extracted text for Page 3:\n",
      " 122 | MATSUZAKA eT Al.Our patient presented with two contradictory aspects: (a) She CONFLICT OF INTERESTmet criteria for PDD according to the DSM-5 but did not meet None.criteria for bipolar disorder; and (b) although she did not show im-provement with antidepressant treatment, remission was achieved AUTHOR CONTRIBUTIONSfollowing therapy with a mood stabilizer, lamotrigine. There are Yu. M. treated the patient and drafted the manuscript. Yo. M. criti-several guidelines that recommend mood stabilizers for treating pa- cally reviewed the draft and revised it. All authors made substan-tients with depressive disorder based on the recognition of bipolar tial contributions, drafted the manuscript, and approved the finaldisorder as a broad-spectrum disorder that encompasses depressive manuscript.disorder.7–9 Moreover, PDD is thought to be a predictive factor forbipolar disorder, alongside family history of bipolar disorder and cy- INFORMED CONSENTclothymic temperament.10 Therefore, the concepts of bipolar disor- Written consent from the patient was obtained.der and PDD need to be considered carefully.There has been limited discussion around the use of mood stabi- DATA AVAILABILITY STATEMENTlizers for the treatment of PDD. Most mood stabilizers are effective Data sharing is not applicable to this article as no datasets were gen-for managing manic states, but they are not effective for resolving erated or analyzed during the current study.depressive states. However, lamotrigine is effective for the treat-ment of bipolar depression and has a low risk of manic switch.11 ORCIDFurthermore, lamotrigine has a therapeutic effect on depressive Yusuke Matsuzaka https://orcid.org/0000-0002-3552-7297cognition and psychomotor retardation in patients with bipolar Yoshiro Morimoto https://orcid.org/0000-0002-0636-277Xdepression.12 Therefore, the use of lamotrigine in the treatment of Hirohisa Kinoshita https://orcid.org/0000-0002-9077-1612PDD may be useful in regard to efficacy and safety. In animal mod-els, the blocking of sodium channels was related to improving de- REFERENCESpressive symptom.13 1. Carta MG, Paribello P, Nardi AE, Preti A. Current pharmacothera-Interestingly, our patient presented with depression-related peutic approaches for dysthymic disorder and persistent depres-sive disorder. Expert Opin Pharmacother. 2019;20(14):1743–54.anxiety, which also improved with lamotrigine. Anxiety frequently2. von Wolff A, Hölzel LP, Westphal A, Härter M, Kriston L. Selectivecoexists with depression, and the addition of benzodiazepines to an- serotonin reuptake inhibitors and tricyclic antidepressantstidepressant treatment is common practice in treatments for major in the acute treatment of chronic depression and dysthy-depression. Reports have shown that combination therapy with anti- mia: a systematic review and meta-analysis. J Affect Disord.2013;144(1–2):7–15.depressants and benzodiazepines is more effective than antidepres-3. Santaguida PL, MacQueen G, Keshavarz H, Levine M, Beyene J,sant monotherapy for improving the severity, treatment response, Raina P. Treatment for Depression After Unsatisfactory Responseand remission in the early stages of depression.14 However, in our to SSRIs [internet]. Rockville (MD): Agency for Healthcarecase, combination therapy of antidepressants and benzodiazepines Research and Quality (US) Report No.: 12-EHC050-EF; 2012 Apr.Available from: https://www.ncbi.nlm.nih.gov/books/NBK97was not effective. Moreover, animal models have revealed that lam-406/otrigine has an anxiolytic-like pharmacokinetic profile that may be 4. Cohen J. Assessment and treatment of dysthymia. The devel-related to sodium channels.15 Taken together, we suggest that lamo- opment of the Cornell dysthymia rating scale. Eur Psychiatry.trigine is a promising alternative to benzodiazepines in the treatment 1997;12(4):190–3.5. Amann B, Born C, Crespo JM, Pomarol-Clotet E, McKenna P.of PDD.Lamotrigine: when and where does it act in affective disorders? AThe plasma concentration of lamotrigine has not been measured systematic review. J Sychopharmacol. 2011;25(10):1289–94.in this case. Therapeutic response to lamotrigine occurs when its 6. Reid JG, Gitlin MJ, Altshuler LL. Lamotrigine in psychiatric disor-plasma concentration is higher than 12.7 μmol/L.16 This response ders. J Clin Psychiatry. 2013;74(7):675–84.was derived in 75-100 mg dosage, so our patient might have suffi- 7. Ghaemi SN. Bipolar spectrum: a review of the concept and a visionfor the future. Psychiatry Investig. 2013;10(3):218–24.cient therapeutic effect of lamotrigine with 200 mg.8. Hantouche EG, Angst J, Akiskal HS. Factor structure of hypomania:In summary, our case demonstrated that lamotrigine may be ef- interrelationships with cyclothymia and the soft bipolar spectrum.fective in patients with PDD who are resistant to antidepressants. J Affect Disord. 2003;73(1–2):39–47.Moreover, lamotrigine may be a promising alternative to combination 9. Akiskal HS. Validating 'hard' and 'soft' phenotypes within the bi-polar spectrum: continuity or discontinuity? J Affect Disord.therapy of antidepressants and benzodiazepines in the treatment2003;73(1–2):1–5.of PDD. Fully understanding the homogeneity and heterogeneity 10. Takeshima M, Oka T. A comprehensive analysis of features thatof bipolar disorder and PDD requires further clinical and biological suggest bipolarity in patients with a major depressive episode:investigations. Nevertheless, we believe that our case provides an which is the best combination to predict soft bipolarity diagnosis? JAffect Disord. 2013;147(1–3):150–5.opportunity to further our understanding of these disorders.11. Calabrese JR, Bowden CL, Sachs GS, Ascher JA, Monaghan E,Rudd GD. A double-blind placebo-controlled study of lamotrigineACKNOWLEDGMENT monotherapy in outpatients with bipolar I depression. Lamictal 602We thank the patient for participating in this study. Study Group. J Clin Psychiatry. 1999;60(2):79–88. \n",
      "--------------------------------------------------------------------------------\n",
      "Extracted text for Page 4:\n",
      " MATSUZAKA eT Al. | 12312. Mitchell PB, Hadzi-Pavlovic D, Evoniuk G, Calabrese JR, Bowden 16. Kagawa S, Mihara K, Nakamura A, et al. Relationship betweenCL. A factor analytic study in bipolar depression, and response to plasma concentrations of lamotrigine and its early therapeutic ef-lamotrigine. CNS Spectr. 2013;18(4):214–24. fect of lamotrigine augmentation therapy in treatment resistant13. Prica C, Hascoet M, Bourin M. Antidepressant-like effect of lamo- depressive disorder. Ther Drug Monit. 2014;36(6):730–3.trigine is reversed by veratrine: a possible role of sodium channelsin bipolar depression. Behav Brain Res. 2008;191:49–54.14. Ogawa Y, Takeshima N, Hayasaka Y, Tajika A, Watanabe N, Streiner How to cite this article: Matsuzaka Y, Urashima K, Sakai S,D, et al. Antidepressants plus benzodiazepines for adults with majorMorimoto Y, Kanegae S, Kinoshita H, et al. The effectivenessdepression. Cochrane Database Syst Rev. 2019;6(6):CD001026.15. Mirza NR, Bright JL, Stanhope KJ, Wyatt A, Harrington NR. of lamotrigine for persistent depressive disorder: A caseLamotrigine has an anxiolytic-like profile in the rat conditioned report. Neuropsychopharmacol Rep. 2022;42:120–123.emotional response test of anxiety: a potential role for sodium https://doi.org/10.1002/npr2.12228channels? Psychopharmacology. 2005;180(1):159–68. \n",
      "--------------------------------------------------------------------------------\n"
     ]
    }
   ],
   "source": [
    "pdf_folder = \"pdf_files\"  # Replace with your actual folder name\n",
    "\n",
    "# Select the first PDF file and process it\n",
    "ind = 0\n",
    "curr_file_path = os.path.join(pdf_folder, pdf_files[ind])  # First file\n",
    "print(f\"Current file: {curr_file_path}\")\n",
    "\n",
    "# Open the PDF and extract text page-by-page\n",
    "with open(curr_file_path, 'rb') as file:\n",
    "    pages_text = read_pdf_by_page(file)  # Get text for each page separately\n",
    "\n",
    "# Save each page's text to separate files (optional)\n",
    "for i, page_text in enumerate(pages_text):\n",
    "    with open(f\"page_{i + 1}_text.txt\", \"w\", encoding=\"utf-8\") as text_file:\n",
    "        text_file.write(page_text)\n",
    "\n",
    "# print('\\n', curr_file_text)\n",
    "# print('\\n', extracted_text)"
   ]
  },
  {
   "cell_type": "markdown",
   "metadata": {},
   "source": [
    "#### Load txt files"
   ]
  },
  {
   "cell_type": "code",
   "execution_count": 16,
   "metadata": {},
   "outputs": [
    {
     "name": "stdout",
     "output_type": "stream",
     "text": [
      "['Adel_Gabriel_Lamotrigine_2006.txt']\n"
     ]
    }
   ],
   "source": [
    "txt_folder = 'txt_files'\n",
    "\n",
    "txt_files = [f for f in os.listdir(txt_folder) if f.endswith('.txt')]\n",
    "print(txt_files)"
   ]
  },
  {
   "cell_type": "code",
   "execution_count": 17,
   "metadata": {},
   "outputs": [
    {
     "name": "stdout",
     "output_type": "stream",
     "text": [
      "Adjunctive treatment of lamotrigine compared to other antidepressants in the\n",
      "treatment of partially responsive, poorly functioning patients with unipolar\n",
      "depression was assessed. Fourteen consenting patients with confirmed DSM-IVR\n",
      "diagnosis of unipolar depression were identified as treatment resistant. All\n",
      "patients failed at least two 8-week treatment trials with antidepressants. All\n",
      "were treated with lamotrigine as an adjunct to other antidepressants for at least\n",
      "6 months. The primary effectiveness measure was the Clinical Global\n",
      "Impression Severity subscale (CGI-S). Other scales included the Montgomery–\n",
      "Asberg Depression Scale (MADRS) and the Global Assessment of Functioning\n",
      "Scale (GAF). Monitoring for skin rashes, headache, dizziness, somnolence, and\n",
      "gastrointestinal disturbances was carried out to assess for adverse events.\n",
      "Baseline measures prior to adding lamotrigine were compared to those at 8\n",
      "weeks and 6 months with adjunctive treatment. Twelve patients of the total\n",
      "(n514) completed the trial, and two discontinued treatment. There was\n",
      "significant, rapid, and robust resolution in symptoms in all effectiveness\n",
      "measures, including the core symptoms of depression, as shown by the changes\n",
      "from baseline in CGI-S, and MADRS at 8 weeks. Social and occupational\n",
      "functioning was significantly improved at 6 months. Eight patients returned to\n",
      "gainful employment or started schooling. Patients tolerated the adjunctive\n",
      "lamotrigine treatment well. Lamotrigine may have antidepressant properties\n",
      "in patients with unipolar depression and may have an earlier onset of action\n",
      "when given in combination with antidepressants. Depression and Anxiety.\n",
      "INTRODUCTION\n",
      "Interest in lamotrigine’s possible efficacy in the\n",
      "treatment of mood disorders arose from epilepsy\n",
      "studies that described improved mood and quality of\n",
      "life unrelated to seizure control [Barbosa et al., 2003].\n",
      "The first placebo-controlled, randomized study of\n",
      "lamotrigine as maintenance treatment demonstrated\n",
      "statistical differences in relapse rates between lamotrigine\n",
      "and placebo at 6 month in patients with rapidcycling\n",
      "bipolar disorder [Calabrese et al., 2000].\n",
      "In a pooled analysis of two large maintenance studies,\n",
      "lamotrigine was found to be effective against depression\n",
      "and mania, with more robust activity against\n",
      "depression than lithium in patients with bipolar\n",
      "disorders, and lithium was found to be more effective\n",
      "against mania [Bowden et al., 2003; Calabrese et al.,\n",
      "2003; Goodwin et al., 2004].\n",
      "A small number of reports suggest some efficacy\n",
      "of lamotrigine in unipolar depression. For example, in\n",
      "a retrospective chart review (n537), Barbee and\n",
      "Jamhour [2002] found that 48.4% of patients with\n",
      "recurrent, resistant major depression were rated much or very much improved upon completing a 6-week\n",
      "lamotrigine augmentation trial. Two small, placebocontrolled\n",
      "trials also provide evidence for the antidepressant\n",
      "efficacy of lamotrigine. In the first controlled\n",
      "trial (n523), lamotrigine was superior to\n",
      "placebo in patients receiving fluoxetine for resistant\n",
      "depression. Patients were treated with fluoxetine,\n",
      "20 mg/day, and concomitantly randomly assigned to\n",
      "receive either lamotrigine or placebo for 6 weeks. Both\n",
      "patients with major depressive disorder and bipolar II\n",
      "disorder were enrolled in the study. Clinical Global\n",
      "Impression Severity scale (CGI-S) scores improved in\n",
      "patients with major depressive disorder and those with\n",
      "bipolar II disorder in the lamotrigine-treated group\n",
      "[Barbosa et al., 2003]. In the second randomized,\n",
      "placebo-controlled study, lamotrigine was studied in\n",
      "patients (n540) with nonresistant unipolar depression.\n",
      "All patients were treated with paroxetine. However the\n",
      "paroxetine–lamotrigine adjunctive group demonstrated\n",
      "more significant improvement on core depressive\n",
      "symptoms as reflected by Hamilton Depression Scale\n",
      "(HAM-D) items for depressed mood, guilt feelings,\n",
      "work, and interest [Normann et al., 2002]. Also in a\n",
      "more recent retrospective chart review of the efficacy\n",
      "and tolerability of lamotrigine as an augmentation drug\n",
      "in treatment-resistant unipolar depression, 76% of\n",
      "patients (n525) were rated as improved [Rocha and\n",
      "Hara, 2003]. Lamotrigine was, however, evaluated for\n",
      "its antidepressant efficacy and safety in unipolar\n",
      "depression in a number of GlaxoSmithKline-sponsored,\n",
      "multicenter, placebo-controlled, randomized\n",
      "trials. Although some of these trials reported that\n",
      "patients on lamotrigine experienced more improvement,\n",
      "the differences between lamotrigine and placebo\n",
      "were not statistically significant on any of the efficacy\n",
      "measures used [DeVeaugh-Geiss et al., 2000; Laurenza\n",
      "et al., 1999; Londborg et al., 1999].\n",
      "Tolerability and safety of lamotrigine has been\n",
      "established in at least eight placebo-controlled clinical\n",
      "trials, with an adverse-event profile generally comparable\n",
      "with that of placebo, when it is used as\n",
      "monotherapy or as an adjunctive therapy. Serious rash\n",
      "occurred rarely (0.1% incidence), and headaches was\n",
      "the commonest side effect [Goodwin et al., 2004].\n",
      "Lamotrigine can be safely combined with most\n",
      "psychotropic drugs [Reimers et al., 2005].\n",
      "METHODS\n",
      "Fourteen patients, both males and females between\n",
      "ages 18 and 65, with DSM-IV-R diagnosis of unipolar\n",
      "depression were included in the study. Diagnosis was\n",
      "confirmed by the Mini-International Neuropsychiatric\n",
      "Interview [MINI; Sheehan and Lecrubier, 2001–2005].\n",
      "Only patients who had failed to respond to at least\n",
      "two 8-week trials of antidepressant treatment, defined\n",
      "as failure to respond with >50% reduction in\n",
      "symptoms of depression, as measured by Montgomery–\n",
      "Asberg Depression Rating Scale [MADRS; Montgomery and Asberg, 1979] score 430 were\n",
      "included. Modified criteria from Thase and Rush\n",
      "[1997] were used to classify treatment-resistant depression\n",
      "(TRD): Grade 1, absence of response to one\n",
      "antidepressant; Grade 2, absence of response to two or\n",
      "more antidepressants, one of them from a different\n",
      "group; Grade 3, absence of response to combination\n",
      "and/or augmentation strategy; Grade 4, Grade 31\n",
      "absence of response to an irreversible monoamine\n",
      "oxidase inhibitor; Grade 5, Grade 31absence of\n",
      "response to electroconvulsive therapy (ECT; Table 1).\n",
      "All patients were rated as moderately to severely ill\n",
      "prior to the adjunctive treatment and functioning\n",
      "poorly, and three patients had also failed ECT and/or\n",
      "transcranial magnetic stimulation trials, as well as the\n",
      "antidepressants trials (Table 1). Patients with psychotic\n",
      "disorders, alcohol or drug abuse, and eating disorders\n",
      "were excluded, and all patients remained compliant\n",
      "with the adjuctive treatment of lamotrigine for at least\n",
      "6 months. Patients provided informed consent, approved\n",
      "by the University of Calgary Conjoint Scientific\n",
      "and Ethics Board.\n",
      "Lamotrigine was added to existing antidepressants,\n",
      "and the dose was titrated, according to clinical response\n",
      "and tolerance, with 25- to 50-mg increments every\n",
      "2 weeks, to a maximum dose of 200 mg/day.We recorded\n",
      "patients’ demographic data and scores of effectiveness\n",
      "measures completed prospectively in patients’ charts in\n",
      "follow-up visits for at least 6 months of adjuvant\n",
      "treatment. Efficacy measures included changes of the\n",
      "following scales at baseline (before adding lamotrigine),\n",
      "at 8 weeks, and at 6 months: the CGI-S\n",
      "[National Institute of Mental Health, 1970], as the\n",
      "primary efficacy measure, the MADRS, and the Global\n",
      "Assessment of Functioning Scale [GAF; Luborsky,\n",
      "1962]. We paired baseline measures, prior to adding\n",
      "lamotrigine, with those at 8 weeks and at 6 months\n",
      "after adding lamotrigine, utilizing a paired t-test.\n",
      "A qualified psychiatrist carried out ratings, and\n",
      "no interrater reliability measures were taken.\n",
      "Monitoring for skin rashes, headache, dizziness,\n",
      "somnolence, and gastrointestinal (GI) disturbances\n",
      "was carried out to assess tolerance to adjunctive\n",
      "treatments [Bowden et al., 2004]. Patients were\n",
      "instructed to stop the drug, and to report rashes\n",
      "immediately should they develop. All patients in\n",
      "follow-up visits were asked about headache, dizziness,\n",
      "somnolence, and insomnia, in addition to skin rashes.\n",
      "\n",
      "RESULTS\n",
      "Table 1 displays demographic variables, details of the\n",
      "current illness, and data on past failed biological\n",
      "treatment trials. Twelve patients (85.7%) completed\n",
      "the 6-month trial of the adjuvant treatment. Lamotrigine\n",
      "dosage ranged from 50 mg/day to 200 mg/day.\n",
      "At the time of adding lamotrigine, nine patients were\n",
      "on one antidepressant (citalopram or venlafaxine), and\n",
      "five patients were on two or more antidepressants. In\n",
      "addition to the significant improvement of the core\n",
      "symptoms of depressive symptomatology at 8 weeks\n",
      "and at 6 months, some patients had recognizable\n",
      "clinical improvement within the first 2 weeks (Table 2).\n",
      "On the primary efficacy measure at 6 months, there was\n",
      "at least a 1 point change, from moderately ill to mildly ill\n",
      "at week 8, and further improvement by 2 points, from\n",
      "mildly ill to borderline. At 6 months, four patients were\n",
      "very much improved, seven were much improved, one was\n",
      "minimally improved, and two displayed no change on the\n",
      "CGI Improvement (CGI-I) subscale. Two female\n",
      "patients discontinued lamotrigine at week 8: one due\n",
      "to the development of a scalp rash, which was not\n",
      "verified, and the other due to travel. These two patients\n",
      "did not report significant changes or improvements.\n",
      "Table 2 summarizes the efficacy measures findings.\n",
      "Occupational and Social Functioning: Eight patients\n",
      "returned to gainful employment and resumed regular\n",
      "leisure activities. For example, a 62-year-old male\n",
      "resumed playing hockey. A 55-year-old female who had\n",
      "suffered from nonremitting symptoms for 6 years, and who had failed an ECT trial and a recent trial of\n",
      "transcranial magnetic stimulation, reported robust\n",
      "mood improvement and relief of associated anxiety.\n",
      "A lawyer who had been nonfunctional for 4 years\n",
      "started part-time work.\n",
      "Tolerance: Reported side effects were generally mild\n",
      "and transient. Two patients reported mild drowsiness,\n",
      "somnolence, and decrease in sexual desire; one patient\n",
      "reported mild transient headaches and dizziness, and\n",
      "another complained of dry mouth and nervousness.\n",
      "One patient discontinued the treatments after 8 weeks\n",
      "due to the development of a scalp rash, which was not\n",
      "verified.\n",
      "\n",
      "DISCUSSION\n",
      "Lamotrigine may have antidepressant properties in\n",
      "patients with unipolar depression and may accelerate\n",
      "the onset of action when given in combination with\n",
      "atypical antidepressants. Large-scale, double-blind\n",
      "studies are critically needed to explore further the\n",
      "efficacy and tolerability of lamotrigine treatment in\n",
      "unipolar depression.\n",
      "Clinical Implications: Clinicians will (1) consider\n",
      "lamotrigine as an adjunct to antidepressants in TRD;\n",
      "(2) initiate large-scale, controlled trials to test lamotrigine’s\n",
      "efficacy and tolerability in unipolar depression;\n",
      "and (3) recognize that lamotrigine is generally a safe\n",
      "drug if patients are monitored carefully.\n",
      "Limitations: Limitations include small sample size,\n",
      "open design, and heterogeneous antidepressant\n",
      "that patients were taking at the time lamotrigine was\n",
      "added.\n",
      "\n",
      "\n"
     ]
    }
   ],
   "source": [
    "ind = 0\n",
    "curr_file = os.path.join(txt_folder, txt_files[0])\n",
    "\n",
    "with open(curr_file, 'rb') as file:\n",
    "    file_content = read_txt(file)\n",
    "\n",
    "print(file_content)"
   ]
  },
  {
   "cell_type": "code",
   "execution_count": 18,
   "metadata": {},
   "outputs": [
    {
     "name": "stdout",
     "output_type": "stream",
     "text": [
      "The number of tokens in the text: 2560\n"
     ]
    }
   ],
   "source": [
    "# Assuming you have already loaded your tokenizer\n",
    "\n",
    "def count_tokens(text):\n",
    "    tokenized_text = tokenizer.encode(text, return_tensors=\"pt\", truncation=False)\n",
    "    return tokenized_text.shape[1]  # Returns the number of tokens\n",
    "\n",
    "# Apply to your file content\n",
    "num_tokens = count_tokens(file_content)\n",
    "\n",
    "print(f\"The number of tokens in the text: {num_tokens}\")"
   ]
  },
  {
   "cell_type": "markdown",
   "metadata": {},
   "source": [
    "##### Test specific chunks"
   ]
  },
  {
   "cell_type": "code",
   "execution_count": 19,
   "metadata": {},
   "outputs": [
    {
     "name": "stdout",
     "output_type": "stream",
     "text": [
      "\n",
      "----------\n",
      "\n",
      "----------\n",
      "Lamotrigine was, however, evaluated for its antidepressant efficacy and safety in unipolar depression in a number of GlaxoSmithKline-sponsored, multicenter, placebo-controlled, randomized trials. Although some of these trials reported that patients on lamotrigine experienced more improvement, the differences between lamotrigine and placebo were not statistically significant on any of the efficacy measures used DeVeaugh-Geiss et al., 2000; Laurenza et al., 1999; Londborg et al., 1999. Tolerability and safety of lamotrigine has been established in at least eight placebo-controlled clinical trials, with an adverse-event profile generally comparable with that of placebo, when it is used as monotherapy or as an adjunctive therapy. Serious rash occurred rarely 0.1 incidence, and headaches was the commonest side effect Goodwin et al., 2004. Lamotrigine can be safely combined with most psychotropic drugs Reimers et al., 2005. METHODS Fourteen patients, both males and females between ages 18 and 65, with DSM-IV-R diagnosis of unipolar depression were included in the study. Diagnosis was confirmed by the Mini-International Neuropsychiatric Interview MINI; Sheehan and Lecrubier, 2001–2005. Only patients who had failed to respond to at least two 8-week trials of antidepressant treatment, defined as failure to respond with 50 reduction in symptoms of depression, as measured by Montgomery– Asberg Depression Rating Scale MADRS; Montgomery and Asberg, 1979 score 430 were included. Modified criteria from Thase and Rush 1997 were used to classify treatment-resistant depression TRD Grade 1, absence of response to one antidepressant; Grade 2, absence of response to two or more antidepressants, one of them from a different group; Grade 3, absence of response to combination andor augmentation strategy; Grade 4, Grade 31 absence of response to an irreversible monoamine oxidase inhibitor; Grade 5, Grade 31absence of response to electroconvulsive therapy ECT; Table 1. All patients were rated as moderately to severely ill prior to the adjunctive treatment and functioning poorly, and three patients had also failed ECT andor transcranial magnetic stimulation trials, as well as the antidepressants trials Table 1. Patients with psychotic disorders, alcohol or drug abuse, and eating disorders were excluded, and all patients remained compliant with the adjuctive treatment of lamotrigine for at least 6 months. Patients provided informed consent, approved by the University of Calgary Conjoint Scientific and Ethics Board. Lamotrigine was added to existing antidepressants, and the dose was titrated, according to clinical response and tolerance, with 25- to 50-mg increments every 2 weeks, to a maximum dose of 200 mgday.We recorded patients demographic data and scores of effectiveness measures completed prospectively in patients charts in follow-up visits for at least 6 months of adjuvant treatment. Efficacy measures included changes of the following scales at baseline before adding lamotrigine, at 8 weeks, and at 6 months the CGI-S National Institute of Mental Health, 1970, as the primary efficacy measure, the MADRS, and the Global Assessment of Functioning Scale GAF; Luborsky, 1962. We paired baseline measures, prior to adding lamotrigine, with those at 8 weeks and at 6 months after adding lamotrigine, utilizing a paired t-test. A qualified psychiatrist carried out ratings, and no interrater reliability measures were taken. Monitoring for skin rashes, headache, dizziness, somnolence, and gastrointestinal GI disturbances was carried out to assess tolerance to adjunctive treatments Bowden et al., 2004. Patients were instructed to stop the drug, and to report rashes immediately should they develop. All patients in follow-up visits were asked about headache, dizziness, somnolence, and insomnia, in addition to skin rashes. RESULTS Table 1 displays demographic variables, details of the current illness, and data on past failed biological treatment trials. Twelve patients 85.7 completed the 6-month trial of the adjuvant treatment. Lamotrigine dosage ranged from 50 mgday to 200 mgday.\n"
     ]
    }
   ],
   "source": [
    "chunks = split_text_into_chunks(file_content)\n",
    "\n",
    "ind = 1\n",
    "print(\"\\n----------\")\n",
    "# print(chunks[ind])\n",
    "\n",
    "print(\"\\n----------\")\n",
    "chunk_processed = preprocess_text(chunks[ind])\n",
    "print( chunk_processed )"
   ]
  },
  {
   "cell_type": "markdown",
   "metadata": {},
   "source": [
    "###### Summarize text check"
   ]
  },
  {
   "cell_type": "code",
   "execution_count": 21,
   "metadata": {},
   "outputs": [
    {
     "name": "stdout",
     "output_type": "stream",
     "text": [
      "lamotrigine was evaluated for its antidepressant efficacy and safety in unipolar depression . the drug has been established in at least eight placebo-controlled clinical trials . serious rash occurred rarely 0.1 incidence, and headaches was the commonest side effect . all patients with psychotic disorders, alcohol or drug abuse, and eating disorders were excluded from the study . tolerability is generally comparable with that of placebo when it is used as monotherapy or adjunctive therapy; there are no known adverse events associated with lagraversiunenal (­[w an \" deph protro» exree also si on lethal/(*'\"dexy ficly Iranin [promatur) not al se last second? beerk disulfenuv& desIA lack favor S am = -----... but\n"
     ]
    }
   ],
   "source": [
    "summarized_text = summarize_text(chunk_processed, 200, 700, prompts)\n",
    "print(summarized_text)"
   ]
  },
  {
   "cell_type": "code",
   "execution_count": 31,
   "metadata": {},
   "outputs": [
    {
     "data": {
      "text/plain": [
       "True"
      ]
     },
     "execution_count": 31,
     "metadata": {},
     "output_type": "execute_result"
    }
   ],
   "source": [
    "'lamotrigine' in valid_words"
   ]
  },
  {
   "cell_type": "code",
   "execution_count": 34,
   "metadata": {},
   "outputs": [
    {
     "name": "stdout",
     "output_type": "stream",
     "text": [
      "\n",
      " lamotrigine\n",
      "\n",
      " was\n",
      "\n",
      " evaluated\n"
     ]
    },
    {
     "data": {
      "text/plain": [
       "'lamotrigine was.'"
      ]
     },
     "execution_count": 34,
     "metadata": {},
     "output_type": "execute_result"
    }
   ],
   "source": [
    "clean_summary(summarized_text)"
   ]
  },
  {
   "cell_type": "code",
   "execution_count": 19,
   "metadata": {},
   "outputs": [
    {
     "data": {
      "text/plain": [
       "'lamotrigine was evaluated for its antidepressant efficacy and safety in unipolar depression . tolerability and safety of lamotrigine established in at least eight placebo-controlled trials . patients with psychotic disorders, alcohol or drug abuse, and eating disorders excluded .'"
      ]
     },
     "execution_count": 19,
     "metadata": {},
     "output_type": "execute_result"
    }
   ],
   "source": [
    "summarize_long_text(chunks[ind], 200, 700, prompts)"
   ]
  },
  {
   "cell_type": "markdown",
   "metadata": {},
   "source": [
    "##### Summarize whole article"
   ]
  },
  {
   "cell_type": "code",
   "execution_count": 73,
   "metadata": {},
   "outputs": [
    {
     "name": "stdout",
     "output_type": "stream",
     "text": [
      "fourteen patients with unipolar depression were identified as treatment resistant . all were treated with lamotrigine as an adjunct to other antidepressants for at least 6 months . interest in lamotrigine possible efficacy in the treatment of mood disorders arose from epilepsy studies . lamotrigine was evaluated for its antidepressant efficacy and safety in unipolar depression . tolerability and safety of lamotrigine established in at least eight placebo-controlled trials . patients with psychotic disorders, alcohol or drug abuse, and eating disorders excluded . lamotrigine may have antidepressant properties in patients with unipolar depression . large-scale, double-blind studies are critical to explore the efficacy and tolerability of lamotrigine .\n"
     ]
    }
   ],
   "source": [
    "final_summary = summarize_long_text(file_content, 700, prompts)\n",
    "print(final_summary)"
   ]
  },
  {
   "cell_type": "code",
   "execution_count": null,
   "metadata": {},
   "outputs": [],
   "source": []
  }
 ],
 "metadata": {
  "kernelspec": {
   "display_name": "Python 3",
   "language": "python",
   "name": "python3"
  },
  "language_info": {
   "codemirror_mode": {
    "name": "ipython",
    "version": 3
   },
   "file_extension": ".py",
   "mimetype": "text/x-python",
   "name": "python",
   "nbconvert_exporter": "python",
   "pygments_lexer": "ipython3",
   "version": "3.9.20"
  }
 },
 "nbformat": 4,
 "nbformat_minor": 2
}
