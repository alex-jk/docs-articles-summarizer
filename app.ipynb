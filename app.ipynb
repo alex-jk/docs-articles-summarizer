{
 "cells": [
  {
   "cell_type": "code",
   "execution_count": 3,
   "metadata": {},
   "outputs": [],
   "source": [
    "import streamlit as st\n",
    "from transformers import T5ForConditionalGeneration, T5Tokenizer, MarianMTModel, MarianTokenizer\n",
    "import fitz  # PyMuPDF\n",
    "import os\n",
    "import re\n",
    "from langdetect import detect\n",
    "import easyocr\n",
    "import numpy as np\n",
    "from PIL import Image"
   ]
  },
  {
   "cell_type": "code",
   "execution_count": 4,
   "metadata": {},
   "outputs": [],
   "source": [
    "def load_model():\n",
    "    model_directory = \"t5-base\"  # Using T5 for multilingual support\n",
    "    model = T5ForConditionalGeneration.from_pretrained(model_directory)\n",
    "    tokenizer = T5Tokenizer.from_pretrained(model_directory)\n",
    "    return model, tokenizer\n",
    "\n",
    "model, tokenizer = load_model()"
   ]
  },
  {
   "cell_type": "code",
   "execution_count": 5,
   "metadata": {},
   "outputs": [],
   "source": [
    "def load_translation_models():\n",
    "    # Load translation models\n",
    "    translation_model = MarianMTModel.from_pretrained(\"Helsinki-NLP/opus-mt-mul-en\")\n",
    "    translation_tokenizer = MarianTokenizer.from_pretrained(\"Helsinki-NLP/opus-mt-mul-en\")\n",
    "    return translation_model, translation_tokenizer\n",
    "\n",
    "translation_model, translation_tokenizer = load_translation_models()"
   ]
  },
  {
   "cell_type": "code",
   "execution_count": 6,
   "metadata": {},
   "outputs": [],
   "source": [
    "def translate_text(text, src_lang):\n",
    "    # Translate text to English\n",
    "    src_lang = src_lang.lower()\n",
    "    if src_lang == \"zh-cn\":\n",
    "        src_lang = \"zh\"\n",
    "    translation_input = translation_tokenizer.prepare_seq2seq_batch([text], src_lang=src_lang, tgt_lang=\"en\", return_tensors=\"pt\")\n",
    "    translated_ids = translation_model.generate(**translation_input)\n",
    "    translated_text = translation_tokenizer.decode(translated_ids[0], skip_special_tokens=True)\n",
    "    return translated_text"
   ]
  },
  {
   "cell_type": "code",
   "execution_count": 7,
   "metadata": {},
   "outputs": [],
   "source": [
    "def preprocess_text(text):\n",
    "    # Remove special characters and extra whitespace\n",
    "    cleaned_text = re.sub(r'[^\\w\\s]', '', text)\n",
    "    cleaned_text = re.sub(r'\\s+', ' ', cleaned_text)\n",
    "    cleaned_text = cleaned_text.strip()\n",
    "    return cleaned_text"
   ]
  },
  {
   "cell_type": "code",
   "execution_count": 8,
   "metadata": {},
   "outputs": [],
   "source": [
    "def summarize_text(text, prompts=None):\n",
    "    cleaned_text = preprocess_text(text)\n",
    "    \n",
    "    # Create a structured input text with a separator\n",
    "    combined_text = f\"summarize: {cleaned_text}\"\n",
    "    if prompts:\n",
    "        prompt_text = \" ### \".join(prompts)  # Separate each prompt with ###\n",
    "        combined_text = f\"{prompt_text} ### {cleaned_text}\"\n",
    "    \n",
    "    # Tokenize the input text\n",
    "    tokenized_text = tokenizer.encode(\n",
    "        combined_text, \n",
    "        return_tensors=\"pt\", \n",
    "        max_length=1024,  # Increase max_length for larger input context\n",
    "        truncation=True, \n",
    "        padding=True\n",
    "    )\n",
    "    \n",
    "    # Generate the summary with adjusted parameters\n",
    "    summary_ids = model.generate(\n",
    "        tokenized_text,\n",
    "        max_length=300,\n",
    "        num_beams=6,\n",
    "        repetition_penalty=2.0,\n",
    "        early_stopping=True\n",
    "    )\n",
    "\n",
    "    # Decode the generated tokens into the final summary text\n",
    "    summary = tokenizer.decode(summary_ids[0], skip_special_tokens=True)\n",
    "\n",
    "    return summary"
   ]
  },
  {
   "cell_type": "code",
   "execution_count": 27,
   "metadata": {},
   "outputs": [],
   "source": [
    "def read_pdf(file):\n",
    "    pdf_document = fitz.open(stream=file.read(), filetype=\"pdf\")\n",
    "    text = \"\"\n",
    "    for page_num in range(len(pdf_document)):\n",
    "        page = pdf_document.load_page(page_num)\n",
    "        text += page.get_text()\n",
    "    return text\n",
    "\n",
    "import pdfplumber\n",
    "\n",
    "def read_pdf_with_pdfplumber(file):\n",
    "    \"\"\"Read and extract text from a PDF file using pdfplumber with positional data.\"\"\"\n",
    "    text = \"\"\n",
    "    with pdfplumber.open(file) as pdf:\n",
    "        for page in pdf.pages:\n",
    "            # Use `extract_words` to get word positions and spacing information\n",
    "            words = page.extract_words()\n",
    "            page_text = \"\"\n",
    "\n",
    "            # Reconstruct text based on the word positions to handle missing spaces\n",
    "            for word in words:\n",
    "                # Use a space before the word if it's not the first word on the line\n",
    "                page_text += f\" {word['text']}\"\n",
    "            \n",
    "            text += page_text + \"\\n\"  # Add newline to separate each page's content\n",
    "    return text\n",
    "\n",
    "def read_pdf_by_page(file):\n",
    "    \"\"\"Read and extract text from a PDF file using pdfplumber, handling proper spacing between words.\"\"\"\n",
    "    pages_text = []  # Store text for each page separately\n",
    "\n",
    "    with pdfplumber.open(file) as pdf:\n",
    "        for page_num, page in enumerate(pdf.pages):\n",
    "            words = page.extract_words()  # Extract words with positional data\n",
    "            page_text = \"\"\n",
    "\n",
    "            # Variables to track previous word's position for proper spacing\n",
    "            prev_x1 = 0  # End x-coordinate of the previous word\n",
    "            prev_top = 0  # y-coordinate of the previous word's top position\n",
    "\n",
    "            for word in words:\n",
    "                x0, y0, x1, y1 = word['x0'], word['top'], word['x1'], word['bottom']\n",
    "                word_text = word['text']\n",
    "\n",
    "                # If there's a gap between words on the same line, insert a space\n",
    "                if prev_x1 > 0 and (x0 - prev_x1) > 1 and abs(y0 - prev_top) < 5:\n",
    "                    page_text += \" \" + word_text\n",
    "                else:\n",
    "                    page_text += word_text\n",
    "\n",
    "                # Update previous word's x1 and top position for spacing logic\n",
    "                prev_x1 = x1\n",
    "                prev_top = y0\n",
    "\n",
    "            # Print text for each page as it's extracted (optional)\n",
    "            print(f\"Extracted text for Page {page_num + 1}:\\n\", page_text, \"\\n\" + \"-\" * 80)\n",
    "\n",
    "            # Append extracted text for each page separately\n",
    "            pages_text.append(page_text.strip())  # Strip leading/trailing spaces for each page\n",
    "\n",
    "    return pages_text"
   ]
  },
  {
   "cell_type": "code",
   "execution_count": 10,
   "metadata": {},
   "outputs": [],
   "source": [
    "def read_txt(file):\n",
    "    return file.read().decode(\"utf-8\")"
   ]
  },
  {
   "cell_type": "code",
   "execution_count": 11,
   "metadata": {},
   "outputs": [],
   "source": [
    "def read_image(file, lang):\n",
    "    image = Image.open(file)\n",
    "    image_np = np.array(image)  # Convert PIL Image to numpy array\n",
    "    \n",
    "    # Language groups\n",
    "    latin_languages = ['en', 'fr', 'de', 'es', 'it', 'pt']\n",
    "    cyrillic_languages = ['ru', 'rs_cyrillic', 'be', 'bg', 'uk', 'mn', 'en']\n",
    "    ja_ko_zh_languages = ['ja', 'ko', 'zh-cn', 'zh-tw', 'en']\n",
    "    \n",
    "    if lang in ['ja', 'ko', 'zh-cn', 'zh-tw']:\n",
    "        reader = easyocr.Reader(ja_ko_zh_languages)\n",
    "    elif lang in cyrillic_languages:\n",
    "        reader = easyocr.Reader(cyrillic_languages)\n",
    "    else:\n",
    "        reader = easyocr.Reader(latin_languages)\n",
    "    \n",
    "    result = reader.readtext(image_np, detail=0)\n",
    "    \n",
    "    text = ' '.join(result)\n",
    "    return text"
   ]
  },
  {
   "cell_type": "code",
   "execution_count": 12,
   "metadata": {},
   "outputs": [],
   "source": [
    "def detect_language(text):\n",
    "    lang = detect(text)\n",
    "    return lang"
   ]
  },
  {
   "cell_type": "code",
   "execution_count": 13,
   "metadata": {},
   "outputs": [
    {
     "name": "stdout",
     "output_type": "stream",
     "text": [
      "['gabriel2006.pdf', 'NPR2-42-120.pdf']\n"
     ]
    }
   ],
   "source": [
    "import os\n",
    "\n",
    "# Define the path to the folder containing the PDFs\n",
    "pdf_folder = 'pdf_files'\n",
    "\n",
    "# List all files in the pdf_folder and filter to include only PDFs\n",
    "pdf_files = [f for f in os.listdir(pdf_folder) if f.endswith('.pdf')]\n",
    "print(pdf_files)"
   ]
  },
  {
   "cell_type": "code",
   "execution_count": 14,
   "metadata": {},
   "outputs": [],
   "source": [
    "prompts = [\n",
    "    \"Effects of lamotrigine on unipolar depression.\",\n",
    "    \"Impact of lamotrigine on unipolar depression.\",\n",
    "    \"Key findings related to lamotrigine in treating unipolar depression.\",\n",
    "    \"Outcomes and statistics related to lamotrigine and unipolar depression.\"\n",
    "]"
   ]
  },
  {
   "cell_type": "code",
   "execution_count": 15,
   "metadata": {},
   "outputs": [
    {
     "name": "stdout",
     "output_type": "stream",
     "text": [
      "\n",
      " ### Key findings and statistics related to lamotrigine in treating unipolar depression. ### DEPRESSION AND ANXIETY 23485488 2006 Brief Report LAMOTRIGINE ADJUNCTIVE TREATMENT IN RESISTANT UNIPOLAR DEPRESSION A small number of reports suggest some efficacy of lamotrigine in treating unipolar depression\n",
      "\n",
      " ### Key findings related to lamotrigine in treating unipolar depression. ### Outcomes and statistics related to lamotrigine and unipolar depression. ### 120 Neuropsychopharmacology Reports 202242120123 wileyonlinelibrarycomjournalnppr 1 INTRODUCTION Persistent depressive disorder PDD was first introduced in the Diagnostic and Statistical Manual of Mental Disorders 5th edition DSM5 which encompasses numerous different conditions in cluding dysthy\n"
     ]
    }
   ],
   "source": [
    "# Initialize a list to store the summaries\n",
    "summaries = []\n",
    "\n",
    "# Iterate through each PDF file and generate a summary\n",
    "for pdf_file in pdf_files:\n",
    "    file_path = os.path.join(pdf_folder, pdf_file)\n",
    "    \n",
    "    # Open and read the PDF file\n",
    "    with open(file_path, 'rb') as file:\n",
    "        file_text = read_pdf(file)\n",
    "    \n",
    "    # Generate a summary for the current PDF file using optional prompts\n",
    "    summary = summarize_text(file_text, prompts)\n",
    "    print(\"\\n\", summary)"
   ]
  },
  {
   "cell_type": "code",
   "execution_count": 16,
   "metadata": {},
   "outputs": [],
   "source": [
    "import re\n",
    "\n",
    "def clean_extracted_text(text):\n",
    "    \"\"\"\n",
    "    Cleans the extracted text by removing unwanted line breaks, fixing broken sentences,\n",
    "    and handling common text extraction issues.\n",
    "    \"\"\"\n",
    "    # Remove unwanted newlines that don't indicate paragraph breaks\n",
    "    text = re.sub(r\"(?<!\\n)\\n(?!\\n)\", \" \", text)  # Replace single newlines with a space\n",
    "\n",
    "    # Remove multiple newlines and excessive spaces\n",
    "    text = re.sub(r\"\\s+\", \" \", text)\n",
    "\n",
    "    # Fix hyphenated line breaks (e.g., \"depres-\\nsion\" becomes \"depression\")\n",
    "    text = re.sub(r\"(\\w+)-\\s*\\n\\s*(\\w+)\", r\"\\1\\2\", text)\n",
    "\n",
    "    # Optionally, fix other common formatting issues if needed\n",
    "    return text"
   ]
  },
  {
   "cell_type": "code",
   "execution_count": 17,
   "metadata": {},
   "outputs": [],
   "source": [
    "def extract_relevant_sections(text, keyword=\"lamotrigine\"):\n",
    "    \"\"\"Extract paragraphs or sentences containing the keyword from the text.\"\"\"\n",
    "    relevant_sections = []\n",
    "    for paragraph in text.split('\\n'):\n",
    "        if keyword.lower() in paragraph.lower():\n",
    "            relevant_sections.append(paragraph)\n",
    "    return \" \".join(relevant_sections)"
   ]
  },
  {
   "cell_type": "code",
   "execution_count": 28,
   "metadata": {},
   "outputs": [
    {
     "name": "stdout",
     "output_type": "stream",
     "text": [
      "Extracted text for Page 1:\n",
      " DEPRESSIONANDANXIETY23:485–488 (2006)Brief ReportLAMOTRIGINE ADJUNCTIVE TREATMENT IN RESISTANTUNIPOLAR DEPRESSION: AN OPEN, DESCRIPTIVE STUDY(cid:1)Adel Gabriel, B.M., B.Ch., F.R.C.P.C., D.P.I.P., D.P.M., D.T.M.H.Adjunctive treatment of lamotrigine compared to other antidepressants in thetreatment of partially responsive, poorly functioning patients with unipolardepressionwasassessed.FourteenconsentingpatientswithconfirmedDSM-IV-R diagnosis of unipolar depression were identified as treatment resistant. Allpatients failed at least two 8-week treatment trials with antidepressants. Allweretreatedwithlamotrigineasanadjuncttootherantidepressantsforatleast6 months. The primary effectiveness measure was the Clinical GlobalImpression Severity subscale (CGI-S). Other scales included the Montgomery–˚Asberg Depression Scale (MADRS) and the Global Assessment of FunctioningScale (GAF).Monitoring for skin rashes, headache,dizziness, somnolence, andgastrointestinal disturbances was carried out to assess for adverse events.Baseline measures prior to adding lamotrigine were compared to those at 8weeks and 6 months with adjunctive treatment. Twelve patients of the total(n514) completed the trial, and two discontinued treatment. There wassignificant, rapid, and robust resolution in symptoms in all effectivenessmeasures, including the core symptoms of depression, as shown by the changesfrom baseline in CGI-S, and MADRS at 8 weeks. Social and occupationalfunctioning was significantly improvedat 6 months. Eight patientsreturned togainful employment or started schooling. Patients tolerated the adjunctivelamotrigine treatment well. Lamotrigine may have antidepressant propertiesin patients with unipolar depression and may have an earlier onset of actionwhen given in combination with antidepressants. Depression and Anxiety23:485–488, 2006. &2006Wiley-Liss,Inc.INTRODUCTION A small number of reports suggest some efficacyof lamotrigine in unipolar depression. For example, inInterest in lamotrigine’s possible efficacy in the a retrospective chart review (n537), Barbee andtreatment of mood disorders arose from epilepsy Jamhour [2002] found that 48.4% of patients withstudies that described improved mood and quality of recurrent, resistant major depression were rated muchlife unrelated to seizure control [Barbosa et al., 2003].The first placebo-controlled, randomized study ofFaculty of Medicine, University of Calgary, Calgary, Alberta,lamotrigine as maintenance treatment demonstratedCanadastatistical differences in relapse rates between lamo-(cid:1)trigine and placebo at 6 month in patients with rapid- Correspondence to: Adel Gabriel, B.M., B.Ch., F.R.C.P.C.,cycling bipolar disorder [Calabrese et al., 2000]. D.P.I.P., D.P.M., D.T.M.H., Faculty of Medicine, University ofInapooledanalysisoftwolargemaintenancestudies, Calgary,2000PegasusRoadNECalgary,Alberta,CanadaT2E8K7.E-mail:gabriel@ucalgary.calamotrigine was found to be effective against depres-sion and mania, with more robust activity against Received for publication 30 November 2005; Revised 21 Marchdepression than lithium in patients with bipolar 2006;Accepted7April2006disorders, and lithium was found to be more effective DOI10.1002/da.20211against mania [Bowden et al., 2003; Calabrese et al., Published online 14 July 2006 in Wiley InterScience (www.2003; Goodwin et al., 2004]. interscience.wiley.com).rr2006Wiley-Liss, Inc. \n",
      "--------------------------------------------------------------------------------\n",
      "Extracted text for Page 2:\n",
      " 486 Gabrielor very much improved upon completing a 6-week Montgomery and Asberg, 1979] score 430 werelamotrigine augmentation trial. Two small, placebo- included. Modified criteria from Thase and Rushcontrolled trials also provide evidence for the anti- [1997]wereusedtoclassifytreatment-resistantdepres-depressant efficacy of lamotrigine. In the first con- sion (TRD): Grade 1, absence of response to onetrolled trial (n523), lamotrigine was superior to antidepressant; Grade2, absence ofresponsetotwo orplacebo in patients receiving fluoxetine for resistant more antidepressants, one of them from a differentdepression. Patients were treated with fluoxetine, group; Grade 3, absence of response to combination20mg/day, and concomitantly randomly assigned to and/or augmentation strategy; Grade 4, Grade 31receiveeitherlamotrigineorplacebofor6weeks.Both absence of response to an irreversible monoaminepatients with major depressive disorder and bipolar II oxidase inhibitor; Grade 5, Grade 31absence ofdisorder were enrolled in the study. Clinical Global response to electroconvulsive therapy (ECT; Table 1).Impression Severity scale (CGI-S) scores improved in All patients were rated as moderately to severely illpatients with major depressive disorder and those with prior to the adjunctive treatment and functioningbipolar II disorder in the lamotrigine-treated group poorly, and three patients had also failed ECTand/or[Barbosa et al., 2003]. In the second randomized, transcranial magnetic stimulation trials, as well as theplacebo-controlled study, lamotrigine was studied in antidepressants trials(Table1).Patientswithpsychoticpatients(n540)withnonresistantunipolardepression. disorders, alcohol or drug abuse, and eating disordersAllpatientsweretreatedwithparoxetine.Howeverthe were excluded, and all patients remained compliantparoxetine–lamotrigineadjunctivegroupdemonstrated with the adjuctive treatment of lamotrigine for at leastmore significant improvement on core depressive 6 months. Patients provided informed consent, ap-symptoms as reflected by Hamilton Depression Scale provedbytheUniversityofCalgaryConjointScientific(HAM-D) items for depressed mood, guilt feelings, and Ethics Board.work, and interest [Normann et al., 2002]. Also in a Lamotrigine was added to existing antidepressants,more recent retrospective chart review of the efficacy andthedosewastitrated,accordingtoclinicalresponseandtolerabilityoflamotrigineasanaugmentationdrug and tolerance, with 25- to 50-mg increments everyin treatment-resistant unipolar depression, 76% of 2weeks,toamaximumdoseof200mg/day.Werecordedpatients (n525) were rated as improved [Rocha and patients’ demographic data and scores of effectivenessHara, 2003]. Lamotrigine was, however, evaluated for measurescompletedprospectivelyinpatients’chartsinits antidepressant efficacy and safety in unipolar follow-up visits for at least 6 months of adjuvantdepression in a number of GlaxoSmithKline-spon- treatment. Efficacy measures included changes of thesored, multicenter, placebo-controlled, randomized following scales at baseline (before adding lamotri-trials. Although some of these trials reported that gine), at 8 weeks, and at 6 months: the CGI-Spatients on lamotrigine experienced more improve- [National Institute of Mental Health, 1970], as thement,thedifferencesbetweenlamotrigineandplacebo primaryefficacymeasure,theMADRS,andtheGlobalwere not statistically significant on any of the efficacy Assessment of Functioning Scale [GAF; Luborsky,measuresused[DeVeaugh-Geissetal.,2000;Laurenza 1962]. We paired baseline measures, prior to addinget al., 1999; Londborg et al., 1999]. lamotrigine, with those at 8 weeks and at 6 monthsTolerability and safety of lamotrigine has been after adding lamotrigine, utilizing a paired t-test.established in at least eight placebo-controlled clinical A qualified psychiatrist carried out ratings, andtrials, with an adverse-event profile generally compar- no interrater reliability measures were taken.able with that of placebo, when it is used asmonotherapy or as an adjunctive therapy. Serious rash TABLE 1. Patients’ demographicsoccurred rarely (0.1% incidence), and headaches wasthe commonest side effect [Goodwin et al., 2004]. DemographicdataN514 M(SD)Lamotrigine can be safely combined with mostAge 45(11.9)psychotropic drugs [Reimers et al., 2005].Sex(M/F) 5/9Illnessduration(years) 11.5(10)METHODS Durationofcurrentepisode(months) 20(8)Numberoffailedantidepressanttrials 4(2)Fourteen patients, both males and females between Numberofprevioushospitalizationsfordepression 1(0.9)ages 18 and 65, with DSM-IV-R diagnosis of unipolar Averagelamotriginedosage(mg) 125(55)depression were included in the study. Diagnosis was Numberofrelapsesduringthetrial 0confirmed by the Mini-International Neuropsychiatric Classificationoftreatmentresistancea PatientsInterview[MINI;SheehanandLecrubier,2001–2005]. Substitutionwithadifferentantidepressant 3Only patients who had failed to respond to at least Twoormoreantidepressantsofdifferentclass 4Combination/augmentation 5two 8-week trials of antidepressant treatment, defined(e.g.moodstabilizersornovelantipsychotics)as failure to respond with 450% reduction inECTandtranscranialmagneticstimulation 2symptoms of depression, as measured by Montgo-mery–A˚sberg Depression Rating Scale [MADRS; aModifiedfromThaseandRush[1997].DepressionandAnxietyDOI10.1002/da \n",
      "--------------------------------------------------------------------------------\n",
      "Extracted text for Page 3:\n",
      " BriefReport: Lamotrigine TreatmentinUnipolar Depression 487Monitoring for skin rashes, headache, dizziness, who had failed an ECT trial and a recent trial ofsomnolence, and gastrointestinal (GI) disturbances transcranial magnetic stimulation, reported robustwas carried out to assess tolerance to adjunctive mood improvement and relief of associated anxiety.treatments [Bowden et al., 2004]. Patients were A lawyer who had been nonfunctional for 4 yearsinstructed to stop the drug, and to report rashes started part-time work.immediately should they develop. All patients in Tolerance: Reported side effects were generally mildfollow-up visits were asked about headache, dizziness, and transient. Two patients reported mild drowsiness,somnolence, and insomnia, in addition to skin rashes. somnolence, and decrease in sexual desire; one patientreported mild transient headaches and dizziness, andanother complained of dry mouth and nervousness.RESULTS One patient discontinued the treatments after 8 weeksdue to the development of a scalp rash, which was notTable1displaysdemographicvariables,detailsoftheverified.current illness, and data on past failed biologicaltreatment trials. Twelve patients (85.7%) completedthe 6-month trial of the adjuvant treatment. Lamo- DISCUSSIONtrigine dosage ranged from 50mg/day to 200mg/day.Atthetimeofaddinglamotrigine,ninepatientswere Lamotrigine may have antidepressant properties inon one antidepressant (citalopram or venlafaxine), and patients with unipolar depression and may acceleratefive patients were on two or more antidepressants. In the onset of action when given in combination withaddition to the significant improvement of the core atypical antidepressants. Large-scale, double-blindsymptoms of depressive symptomatology at 8 weeks studies are critically needed to explore further theand at 6 months, some patients had recognizable efficacy and tolerability of lamotrigine treatment inclinicalimprovementwithinthefirst2weeks(Table2). unipolar depression.Ontheprimaryefficacymeasureat6months,therewas Clinical Implications: Clinicians will (1) consideratleasta1pointchange,frommoderatelyilltomildlyill lamotrigine as an adjunct to antidepressants in TRD;at week 8, and further improvement by 2 points, from (2) initiate large-scale, controlled trials to test lamo-mildly ill to borderline. At 6 months, four patients were trigine’sefficacyandtolerabilityinunipolardepression;verymuchimproved,sevenweremuchimproved,onewas and (3) recognize that lamotrigine is generally a safeminimallyimproved,andtwodisplayednochangeonthe drug if patients are monitored carefully.CGI Improvement (CGI-I) subscale. Two female Limitations: Limitations include small sample size,patients discontinued lamotrigine at week 8: one due open design, and heterogeneous antidepressantto the development of a scalp rash, which was not that patients were taking at the time lamotrigine wasverified,andtheotherduetotravel.Thesetwopatients added.did not report significant changes or improvements.Table 2 summarizes the efficacy measures findings. REFERENCESOccupational and Social Functioning: Eight patientsreturned to gainful employment and resumed regular Barbee JG, Jamhour NJ. 2002. Lamotrigine as an augmentationleisure activities. For example, a 62-year-old male agent in treatment-resistant depression. J Clin Psychiatry 63:resumedplayinghockey.A55-year-oldfemalewhohad 737–741.BarbosaL,BerkM,VorsterM.2003.Adouble-blind,randomized,suffered from nonremitting symptoms for 6 years, andplacebo-controlled trial of augmentation with lamotrigine orplacebo in patients concomitantly treated with fluoxetine forresistantmajordepressiveepisodes.JClinPsychiatry64:403–407.TABLE 2. Changes inefficacy measuresBowden CL, Asnis GM, Ginsberg LD, Bentley B, Leadbetter R,White R. 2004. Safety and tolerabilityof lamotrigine for bipolarPairedt-testdisorder.DrugSaf27:173–184.BowdenCL,CalabreseJR,SachsG,YathamN,AktharAS.2003.AAt8weeks At6monthsplacebo-controlled 18-month trial of lamotrigine and lithiummaintenance treatment in recently manic or hypomanic patientsMeasures M(SD)df:11 t(Pr) (Pr)withbipolarIdisorder.ArchGenPsychiatry60:392–400.CGI (cid:1) Baseline 3.8(0.7) Calabrese JR, Bowden CL, Sachs GS, Swann AC, McElroy SL,8weeks 2.4(0.5) Kusumakar V, Ascher JA, Earl NL, Greene PL, Monaghan ET.6months 1.6(0.7) 9.5(.001) 12.5(.0001) 2000. A double-blind, placebo-controlled, prophylaxis study ofMADRS Baseline 35(6) lamotrigineinrapid-cyclingbipolardisorder:Lamictal614Study8weeks 22(7) 6.0(.001) 14.0(.001) Group.JClinPsychiatry61:841–850.6months 15(6) Calabrese JR, Bowden CL, Sachs G, Yatham LN, Behnke K,GAF Baseline 49(7) Mehtonen OP, Montgomery P, Ascher J, Paska W, Earl N,8weeks 59(6) (cid:1)4.0(.002) (cid:1)5.0(.001) DeVeaugh-GeissJ.2003.Lamictal605StudyGroup:Aplacebo-6months 65(8) controlled18-monthtrialoflamotrigineandlithiummaintenancetreatment in recently depressed patients with bipolar I disorder.(cid:1)Baseline:priortoaddinglamotrigine. JClinPsychiatry64:1013–1024.DepressionandAnxietyDOI10.1002/da \n",
      "--------------------------------------------------------------------------------\n",
      "Extracted text for Page 4:\n",
      " 488 GabrielDeVeaugh-GeissJ,AscherJ,BrookS,CedroneJ,EarlN,EmsleyR, National Institute of Mental Health. 1970. CGI: Clinica GlobalFrangouS,HuffmanR.2000.Safetyandtolerabilityoflamotrigine Impression. In: Guy W, Bonato RR, editors. Manual for theincontrolledmonotherapytrialsinmooddisorders.Presentedat ECDEU assessment battery. 2nd rev. ed. Chevy Chase, MD:the 39th Annual ACNP Meeting, December 10–14, San Juan, Author.p12-1–12-6.PuertoRico. NormannC,HummelB,ScharerLO,HornM,GrunzeH,WaldenGoodwin GM, Bowden CL, Calabrese JR, Grunze H, Kasper S, J.2002.Lamotrigineasadjuncttoparoxetineinacutedepression:White R, Greene P, Leadbetter R. 2004. A pooled analysis of A placebo-controlled, double-blind study. J Clin Psychiatry 63:two placebo-controlled 18-month trials of lamotrigine and 337–344.lithium maintenance in bipolar I disorder. J Clin Psychiatry 65: ReimersA,SkogvollE,SundJK,SpigsetO.2005.Druginteractions432–441. between lamotrigine and psychoactive drugs: Evidence from aLaurenza A, Asnis G, Beaman M. 1999. A double-blind placebo therapeuticdrugmonitoringservice.JClinPsychopharmacol25:controlledstudysupportingtheefficacyoflamotrigineinunipolar 342–348.depression.BipolarDisorder1:39–40. Rocha FL, Hara C. 2003. Lamotrigine augmentation in unipolarLondborg PD, Cutler NR, Cunningham LA, Haines FX, Pahl JJ, depression.IntClinPsychopharmacol18:97–99.WestSA.1999.Adouble-blind,placebo-controlledstudysupport- SheehanDV,JanavsJ,BakerR(UniversityofSouthFlorida,Tampa),ing the efficacy of lamotrigine in unipolar depression. Poster Lecrubier Y, Hergueta T, Weiller E (INSERM, Paris, France),presentedattheAmericanPsychiatricAssociationAnnualMeeting, Proeschel T. M.I.N.I. SCREEN 5.0.0/English version/DSM-IVMay15–20,Washington,DC.(SCAA2011[613]). 1/1/05. r 2001–2005 Sheehan DV and Lecrubier Y. All rightsLuborskyL.1962.Clinician’sjudgmentofmentalhealth.ArchGen reserved.Psychiatry7:407–417. Thase ME, Rush AJ. 1997. When at first you don’t succeed:MontgomerySA,A˚sbergM.1979.Anewdepressionscaledesigned Sequential strategies for antidepressant nonresponders. J Clintobesensitivetochange.BrJPsychiatry134:382–389. Psychiatry58(Suppl13):23–29.DepressionandAnxietyDOI10.1002/da \n",
      "--------------------------------------------------------------------------------\n"
     ]
    }
   ],
   "source": [
    "pdf_folder = \"pdf_files\"  # Replace with your actual folder name\n",
    "\n",
    "# Select the first PDF file and process it\n",
    "ind = 0\n",
    "curr_file_path = os.path.join(pdf_folder, pdf_files[ind])  # First file\n",
    "\n",
    "# Open the PDF and extract text page-by-page\n",
    "with open(curr_file_path, 'rb') as file:\n",
    "    pages_text = read_pdf_by_page(file)  # Get text for each page separately\n",
    "\n",
    "# Save each page's text to separate files (optional)\n",
    "for i, page_text in enumerate(pages_text):\n",
    "    with open(f\"page_{i + 1}_text.txt\", \"w\", encoding=\"utf-8\") as text_file:\n",
    "        text_file.write(page_text)\n",
    "\n",
    "# print('\\n', curr_file_text)\n",
    "# print('\\n', extracted_text)"
   ]
  }
 ],
 "metadata": {
  "kernelspec": {
   "display_name": "Python 3",
   "language": "python",
   "name": "python3"
  },
  "language_info": {
   "codemirror_mode": {
    "name": "ipython",
    "version": 3
   },
   "file_extension": ".py",
   "mimetype": "text/x-python",
   "name": "python",
   "nbconvert_exporter": "python",
   "pygments_lexer": "ipython3",
   "version": "3.9.20"
  }
 },
 "nbformat": 4,
 "nbformat_minor": 2
}
