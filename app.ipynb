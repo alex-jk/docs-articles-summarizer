{
 "cells": [
  {
   "cell_type": "code",
   "execution_count": 73,
   "metadata": {},
   "outputs": [
    {
     "name": "stderr",
     "output_type": "stream",
     "text": [
      "[nltk_data] Downloading package punkt to /root/nltk_data...\n",
      "[nltk_data]   Package punkt is already up-to-date!\n",
      "[nltk_data] Downloading package punkt_tab to /root/nltk_data...\n",
      "[nltk_data]   Package punkt_tab is already up-to-date!\n",
      "[nltk_data] Downloading package words to /root/nltk_data...\n",
      "[nltk_data]   Package words is already up-to-date!\n",
      "[nltk_data] Downloading package averaged_perceptron_tagger_eng to\n",
      "[nltk_data]     /root/nltk_data...\n",
      "[nltk_data]   Package averaged_perceptron_tagger_eng is already up-to-\n",
      "[nltk_data]       date!\n",
      "[nltk_data] Downloading package wordnet to /root/nltk_data...\n",
      "[nltk_data]   Package wordnet is already up-to-date!\n"
     ]
    },
    {
     "data": {
      "text/plain": [
       "True"
      ]
     },
     "execution_count": 73,
     "metadata": {},
     "output_type": "execute_result"
    }
   ],
   "source": [
    "import streamlit as st\n",
    "from transformers import T5ForConditionalGeneration, T5Tokenizer\n",
    "import fitz  # PyMuPDF\n",
    "import os\n",
    "import re\n",
    "import easyocr\n",
    "import numpy as np\n",
    "from PIL import Image\n",
    "import nltk\n",
    "from nltk.corpus import wordnet\n",
    "from nltk.stem import WordNetLemmatizer\n",
    "from nltk.tokenize import TreebankWordTokenizer\n",
    "\n",
    "nltk.download('punkt')\n",
    "nltk.download('punkt_tab')\n",
    "nltk.download('words')\n",
    "nltk.download('averaged_perceptron_tagger_eng')\n",
    "nltk.download('wordnet')"
   ]
  },
  {
   "cell_type": "markdown",
   "metadata": {},
   "source": [
    "##### Load model"
   ]
  },
  {
   "cell_type": "code",
   "execution_count": 74,
   "metadata": {},
   "outputs": [],
   "source": [
    "def load_model():\n",
    "    model_directory = \"t5-base\"  # Using T5 for multilingual support\n",
    "    model = T5ForConditionalGeneration.from_pretrained(model_directory)\n",
    "    tokenizer = T5Tokenizer.from_pretrained(model_directory)\n",
    "    return model, tokenizer\n",
    "\n",
    "model, tokenizer = load_model()"
   ]
  },
  {
   "cell_type": "markdown",
   "metadata": {},
   "source": [
    "##### Preprocess text function"
   ]
  },
  {
   "cell_type": "code",
   "execution_count": 75,
   "metadata": {},
   "outputs": [],
   "source": [
    "def preprocess_text(text):\n",
    "    # Keep important punctuation marks: ., !, ?, ,, ; (and remove everything else)\n",
    "    cleaned_text = re.sub(r'[^\\w\\s.,!?;_–-]', '', text)  # Keep ., !, ?, ,, ;\n",
    "    cleaned_text = re.sub(r'\\s+', ' ', cleaned_text)  # Normalize whitespace\n",
    "    cleaned_text = cleaned_text.strip()  # Remove leading/trailing spaces\n",
    "    return cleaned_text"
   ]
  },
  {
   "cell_type": "markdown",
   "metadata": {},
   "source": [
    "##### Summarize text function"
   ]
  },
  {
   "cell_type": "code",
   "execution_count": 76,
   "metadata": {},
   "outputs": [],
   "source": [
    "def summarize_text(text, min_length, max_length, prompts=None):\n",
    "    cleaned_text = preprocess_text(text)  # Preprocess the text\n",
    "    \n",
    "    # Tokenize the input text for summarization\n",
    "    tokenized_text = tokenizer.encode(\n",
    "        f\"summarize: {cleaned_text}\", \n",
    "        return_tensors=\"pt\", \n",
    "        max_length=1024,  \n",
    "        truncation=True, \n",
    "        padding=True\n",
    "    )\n",
    "    \n",
    "    # Generate the summary with adjusted parameters to reduce repetition\n",
    "    summary_ids = model.generate(\n",
    "        tokenized_text,\n",
    "        max_length=max_length,  # Adjust max_length for longer or shorter summaries\n",
    "        min_length=min_length,\n",
    "        num_beams=6,  # Beam search to generate multiple candidates\n",
    "        repetition_penalty=3.0,  # Higher penalty to avoid repetition\n",
    "        early_stopping=False,  # Stop once the model generates a full sentence\n",
    "        no_repeat_ngram_size=3\n",
    "    )\n",
    "\n",
    "    # Decode the generated tokens into the final summary text\n",
    "    summary = tokenizer.decode(summary_ids[0], skip_special_tokens=True)\n",
    "    \n",
    "    return summary"
   ]
  },
  {
   "cell_type": "markdown",
   "metadata": {},
   "source": [
    "##### Functions to summarize in chunks"
   ]
  },
  {
   "cell_type": "code",
   "execution_count": 77,
   "metadata": {},
   "outputs": [],
   "source": [
    "def split_text_into_chunks(text, max_length=1024):\n",
    "    # Split the text into sentences\n",
    "    sentences = nltk.sent_tokenize(text)\n",
    "\n",
    "    # Group sentences into chunks that fit within the token limit\n",
    "    chunks = []\n",
    "    current_chunk = \"\"\n",
    "    current_tokens = 0\n",
    "\n",
    "    for sentence in sentences:\n",
    "        # Tokenize just the new sentence\n",
    "        sentence_tokens = tokenizer.encode(sentence, return_tensors=\"pt\", truncation=False)\n",
    "\n",
    "        # Check if adding this sentence will exceed the token limit\n",
    "        if current_tokens + len(sentence_tokens[0]) > max_length:\n",
    "            # If it exceeds the limit, finalize the current chunk and start a new one\n",
    "            if current_chunk:\n",
    "                chunks.append(current_chunk.strip())\n",
    "            # Start a new chunk with the current sentence\n",
    "            current_chunk = sentence\n",
    "            current_tokens = len(sentence_tokens[0])\n",
    "        else:\n",
    "            # If it fits, add the sentence to the current chunk\n",
    "            current_chunk += \" \" + sentence\n",
    "            current_tokens += len(sentence_tokens[0])\n",
    "\n",
    "    # Add the last chunk if any sentences remain\n",
    "    if current_chunk:\n",
    "        chunks.append(current_chunk.strip())\n",
    "\n",
    "    return chunks"
   ]
  },
  {
   "cell_type": "markdown",
   "metadata": {},
   "source": [
    "##### Function to detect valid summary part"
   ]
  },
  {
   "cell_type": "code",
   "execution_count": 78,
   "metadata": {},
   "outputs": [
    {
     "name": "stdout",
     "output_type": "stream",
     "text": [
      "homoeomerianism\n"
     ]
    }
   ],
   "source": [
    "# List of valid English words for reference\n",
    "valid_words = set(nltk.corpus.words.words())\n",
    "\n",
    "# List of valid English words for reference\n",
    "valid_words = set(nltk.corpus.words.words())\n",
    "\n",
    "domain_specific_words = ['lamotrigine', 'antidepressant', 'placebo', 'monotherapy']\n",
    "valid_words.update(domain_specific_words)\n",
    "\n",
    "print(list(valid_words)[0])"
   ]
  },
  {
   "cell_type": "code",
   "execution_count": 79,
   "metadata": {},
   "outputs": [],
   "source": [
    "# Initialize the lemmatizer\n",
    "lemmatizer = WordNetLemmatizer()\n",
    "\n",
    "# Function to convert nltk's POS tags to WordNet's format\n",
    "def get_wordnet_pos(treebank_tag, token):\n",
    "    if treebank_tag.startswith('J'):\n",
    "        return wordnet.ADJ\n",
    "    elif treebank_tag.startswith('V'):\n",
    "        return wordnet.VERB\n",
    "    elif treebank_tag.startswith('N'):\n",
    "        # Adjust for words ending in -ing misclassified as nouns\n",
    "        if token.endswith(\"ing\"):\n",
    "            return wordnet.VERB\n",
    "        return wordnet.NOUN\n",
    "    elif treebank_tag.startswith('R'):\n",
    "        return wordnet.ADV\n",
    "    else:\n",
    "        return wordnet.NOUN  # Default to noun if unsure"
   ]
  },
  {
   "cell_type": "markdown",
   "metadata": {},
   "source": [
    "###### Check NLTK pos tags"
   ]
  },
  {
   "cell_type": "code",
   "execution_count": 80,
   "metadata": {},
   "outputs": [
    {
     "data": {
      "text/plain": [
       "[('lamotrigine', 'NN'), ('evaluated', 'VBD')]"
      ]
     },
     "execution_count": 80,
     "metadata": {},
     "output_type": "execute_result"
    }
   ],
   "source": [
    "nltk.pos_tag(['lamotrigine', 'evaluated'])"
   ]
  },
  {
   "cell_type": "code",
   "execution_count": 81,
   "metadata": {},
   "outputs": [],
   "source": [
    "def is_valid_word(token, pos_tag):\n",
    "\n",
    "    if re.match(r'^\\d+(\\.\\d+)?$', token):\n",
    "        return True\n",
    "    \n",
    "    # Check if the token is a Roman numeral\n",
    "    if re.match(r'^(?=[MDCLXVI])M{0,4}(CM|CD|D?C{0,3})(XC|XL|L?X{0,3})(IX|IV|V?I{0,3})$', token):\n",
    "        return True\n",
    "\n",
    "    \"\"\"Validate if token is a meaningful word or a valid hyphenated term.\"\"\"\n",
    "    # Handle hyphenated words by checking each part separately\n",
    "    if '-' in token:\n",
    "        parts = token.split('-')\n",
    "        part_tags = nltk.pos_tag(parts)  # Tag each part separately\n",
    "        return all(is_valid_word(part, tag) for part, tag in part_tags)\n",
    "\n",
    "    # Get WordNet POS tag and lemmatize\n",
    "    wordnet_pos = get_wordnet_pos(pos_tag, token)\n",
    "    # print(f\"\\n token: {token}, pos tag: {pos_tag}, wordnet_pos: {wordnet_pos}\")\n",
    "    lemma = lemmatizer.lemmatize(token.lower(), pos=wordnet_pos)\n",
    "    # print(f\"\\n lemma: {lemma}\")\n",
    "    \n",
    "    # Validate as a single word\n",
    "    return lemma in valid_words or re.match(r'^[.,!?;_–-]$', token)"
   ]
  },
  {
   "cell_type": "markdown",
   "metadata": {},
   "source": [
    "##### Expand contractions"
   ]
  },
  {
   "cell_type": "code",
   "execution_count": 82,
   "metadata": {},
   "outputs": [],
   "source": [
    "contractions = {\n",
    "    \"don't\": \"do not\",\n",
    "    \"can't\": \"cannot\",\n",
    "    \"won't\": \"will not\",\n",
    "    \"isn't\": \"is not\",\n",
    "    \"aren't\": \"are not\",\n",
    "    \"wasn't\": \"was not\",\n",
    "    \"weren't\": \"were not\",\n",
    "    \"hasn't\": \"has not\",\n",
    "    \"haven't\": \"have not\",\n",
    "    \"hadn't\": \"had not\",\n",
    "    \"doesn't\": \"does not\",\n",
    "    \"didn't\": \"did not\",\n",
    "    \"couldn't\": \"could not\",\n",
    "    \"shouldn't\": \"should not\",\n",
    "    \"wouldn't\": \"would not\",\n",
    "    \"mightn't\": \"might not\",\n",
    "    \"mustn't\": \"must not\",\n",
    "    \"n't\": \" not\",  # catch-all for remaining \"n't\" forms\n",
    "}\n",
    "\n",
    "def expand_contractions(text):\n",
    "    \"\"\"Replace contractions in text with their expanded forms.\"\"\"\n",
    "    for contraction, replacement in contractions.items():\n",
    "        text = re.sub(r'\\b' + contraction + r'\\b', replacement, text)\n",
    "    return text"
   ]
  },
  {
   "cell_type": "code",
   "execution_count": 83,
   "metadata": {},
   "outputs": [
    {
     "data": {
      "text/plain": [
       "'also known is its ability to improve social and occupational functioning of patients who are not taking it if they do not feel well '"
      ]
     },
     "execution_count": 83,
     "metadata": {},
     "output_type": "execute_result"
    }
   ],
   "source": [
    "# check expland contractions\n",
    "check_text = \"also known is its ability to improve social and occupational functioning of patients who are not taking it if they don't feel well \"\n",
    "\n",
    "expand_contractions(check_text)"
   ]
  },
  {
   "cell_type": "markdown",
   "metadata": {},
   "source": [
    "###### Clean summary function"
   ]
  },
  {
   "cell_type": "code",
   "execution_count": 84,
   "metadata": {},
   "outputs": [
    {
     "name": "stdout",
     "output_type": "stream",
     "text": [
      "\n",
      "----- lamotrigine was evaluated for its antidepressant efficacy and safety\n",
      "\n",
      "----- ['lamotrigine', 'was', 'evaluated', 'for', 'its', 'antidepressant', 'efficacy', 'and', 'safety']\n",
      "\n",
      "----- [('lamotrigine', 'NN'), ('was', 'VBD'), ('evaluated', 'VBN'), ('for', 'IN'), ('its', 'PRP$'), ('antidepressant', 'JJ'), ('efficacy', 'NN'), ('and', 'CC'), ('safety', 'NN')]\n",
      "\n",
      " Cleaned tokens: ['lamotrigine', 'was', 'evaluated', 'for', 'its', 'antidepressant', 'efficacy', 'and', 'safety']\n"
     ]
    }
   ],
   "source": [
    "check_sentence = \"lamotrigine was evaluated for its antidepressant efficacy and safety\"\n",
    "print(f\"\\n----- {check_sentence}\")\n",
    "\n",
    "tokens = nltk.word_tokenize(check_sentence)\n",
    "print(f\"\\n----- {tokens}\")\n",
    "\n",
    "pos_tags = nltk.pos_tag(tokens)\n",
    "print(f\"\\n----- {pos_tags}\")\n",
    "\n",
    "cleaned_tokens = []\n",
    "for token, pos_tag in pos_tags:\n",
    "    # Check if the lemmatized form of the token is valid\n",
    "    if is_valid_word(token, pos_tag):\n",
    "        cleaned_tokens.append(token)\n",
    "    else:\n",
    "        # Once gibberish or non-valid words appear, stop processing\n",
    "        break\n",
    "print(f\"\\n Cleaned tokens: {cleaned_tokens}\")\n"
   ]
  },
  {
   "cell_type": "code",
   "execution_count": 85,
   "metadata": {},
   "outputs": [],
   "source": [
    "tokenizer_nltk = TreebankWordTokenizer()\n",
    "\n",
    "def clean_summary(summary):\n",
    "\n",
    "    expanded_summary = expand_contractions(summary)\n",
    "    # Tokenize the summary into words\n",
    "    # tokens = nltk.word_tokenize(summary)\n",
    "    tokens = tokenizer_nltk.tokenize(expanded_summary)\n",
    "    \n",
    "    # Get the POS tags for the tokens\n",
    "    pos_tags = nltk.pos_tag(tokens)\n",
    "\n",
    "    cleaned_tokens = []\n",
    "    for token, pos_tag in pos_tags:\n",
    "        # Check if the lemmatized form of the token is valid\n",
    "        # print(f\"\\n {token}\")\n",
    "        if is_valid_word(token, pos_tag):\n",
    "            cleaned_tokens.append(token)\n",
    "        else:\n",
    "            # Once gibberish or non-valid words appear, stop processing\n",
    "            break\n",
    "    \n",
    "    # Join the valid tokens back into a string\n",
    "    cleaned_summary = \" \".join(cleaned_tokens).strip()\n",
    "    \n",
    "    # Ensure the summary ends with a full sentence\n",
    "    if cleaned_summary and cleaned_summary[-1] not in \".!?\":\n",
    "        cleaned_summary += \".\"\n",
    "    \n",
    "    # If the summary is empty, return a fallback message or just an empty string\n",
    "    if not cleaned_summary:\n",
    "        cleaned_summary = \"Summary could not be generated properly.\"\n",
    "\n",
    "    return cleaned_summary"
   ]
  },
  {
   "cell_type": "code",
   "execution_count": 86,
   "metadata": {},
   "outputs": [],
   "source": [
    "def summarize_long_text(text, min_length, max_length, prompts=None):\n",
    "    # Split the text into chunks of full sentences\n",
    "    chunks = split_text_into_chunks(text)\n",
    "\n",
    "    # Summarize each chunk individually and collect the results\n",
    "    summaries = []\n",
    "    for chunk in chunks:\n",
    "        # print(\"\\n\")\n",
    "        # print(chunk)\n",
    "        summary = summarize_text(chunk, min_length, max_length, prompts)  # Summarize each chunk\n",
    "        summary_clean = clean_summary(summary)\n",
    "        summaries.append(summary_clean)\n",
    "    \n",
    "    # Combine the individual summaries into a final summary\n",
    "    combined_summary = \" \".join(summaries)\n",
    "\n",
    "    # Ensure the final summary ends with a full sentence\n",
    "    if combined_summary[-1] not in \".!?\":\n",
    "        combined_summary = combined_summary.rsplit(\" \", 1)[0] + \".\"\n",
    "\n",
    "    return combined_summary"
   ]
  },
  {
   "cell_type": "markdown",
   "metadata": {},
   "source": [
    "##### Functions to import text"
   ]
  },
  {
   "cell_type": "code",
   "execution_count": 87,
   "metadata": {},
   "outputs": [],
   "source": [
    "import pdfplumber\n",
    "\n",
    "def read_pdf_with_pdfplumber(file):\n",
    "    \"\"\"Read and extract text from a PDF file using pdfplumber with positional data.\"\"\"\n",
    "    text = \"\"\n",
    "    with pdfplumber.open(file) as pdf:\n",
    "        for page in pdf.pages:\n",
    "            # Use `extract_words` to get word positions and spacing information\n",
    "            words = page.extract_words()\n",
    "            page_text = \"\"\n",
    "\n",
    "            # Reconstruct text based on the word positions to handle missing spaces\n",
    "            for word in words:\n",
    "                # Use a space before the word if it's not the first word on the line\n",
    "                page_text += f\" {word['text']}\"\n",
    "            \n",
    "            text += page_text + \"\\n\"  # Add newline to separate each page's content\n",
    "    return text\n",
    "\n",
    "def read_pdf_by_page(file):\n",
    "    \"\"\"Read and extract text from a PDF file using pdfplumber, handling proper spacing between words.\"\"\"\n",
    "    pages_text = []  # Store text for each page separately\n",
    "\n",
    "    with pdfplumber.open(file) as pdf:\n",
    "        for page_num, page in enumerate(pdf.pages):\n",
    "            words = page.extract_words()  # Extract words with positional data\n",
    "            page_text = \"\"\n",
    "\n",
    "            # Variables to track previous word's position for proper spacing\n",
    "            prev_x1 = 0  # End x-coordinate of the previous word\n",
    "            prev_top = 0  # y-coordinate of the previous word's top position\n",
    "\n",
    "            for word in words:\n",
    "                x0, y0, x1, y1 = word['x0'], word['top'], word['x1'], word['bottom']\n",
    "                word_text = word['text']\n",
    "\n",
    "                # If there's a gap between words on the same line, insert a space\n",
    "                if prev_x1 > 0 and (x0 - prev_x1) > 1 and abs(y0 - prev_top) < 5:\n",
    "                    page_text += \" \" + word_text\n",
    "                else:\n",
    "                    page_text += word_text\n",
    "\n",
    "                # Update previous word's x1 and top position for spacing logic\n",
    "                prev_x1 = x1\n",
    "                prev_top = y0\n",
    "\n",
    "            # Print text for each page as it's extracted (optional)\n",
    "            print(f\"Extracted text for Page {page_num + 1}:\\n\", page_text, \"\\n\" + \"-\" * 80)\n",
    "\n",
    "            # Append extracted text for each page separately\n",
    "            pages_text.append(page_text.strip())  # Strip leading/trailing spaces for each page\n",
    "\n",
    "    return pages_text"
   ]
  },
  {
   "cell_type": "code",
   "execution_count": 88,
   "metadata": {},
   "outputs": [],
   "source": [
    "def read_txt(file):\n",
    "    return file.read().decode(\"cp1252\", errors='replace')"
   ]
  },
  {
   "cell_type": "code",
   "execution_count": 89,
   "metadata": {},
   "outputs": [
    {
     "name": "stdout",
     "output_type": "stream",
     "text": [
      "['NPR2-42-120.pdf']\n"
     ]
    }
   ],
   "source": [
    "import os\n",
    "\n",
    "# Define the path to the folder containing the PDFs\n",
    "pdf_folder = 'pdf_files'\n",
    "\n",
    "# List all files in the pdf_folder and filter to include only PDFs\n",
    "pdf_files = [f for f in os.listdir(pdf_folder) if f.endswith('.pdf')]\n",
    "print(pdf_files)"
   ]
  },
  {
   "cell_type": "code",
   "execution_count": 90,
   "metadata": {},
   "outputs": [],
   "source": [
    "prompts = [\n",
    "    \"Effects of lamotrigine on unipolar depression.\",\n",
    "    \"Impact of lamotrigine on unipolar depression.\",\n",
    "    \"Key findings related to lamotrigine in treating unipolar depression.\",\n",
    "    \"Outcomes and statistics related to lamotrigine and unipolar depression.\"\n",
    "]"
   ]
  },
  {
   "cell_type": "code",
   "execution_count": 91,
   "metadata": {},
   "outputs": [],
   "source": [
    "# Initialize a list to store the summaries\n",
    "summaries = []"
   ]
  },
  {
   "cell_type": "code",
   "execution_count": 92,
   "metadata": {},
   "outputs": [],
   "source": [
    "def extract_relevant_sections(text, keyword=\"lamotrigine\"):\n",
    "    \"\"\"Extract paragraphs or sentences containing the keyword from the text.\"\"\"\n",
    "    relevant_sections = []\n",
    "    for paragraph in text.split('\\n'):\n",
    "        if keyword.lower() in paragraph.lower():\n",
    "            relevant_sections.append(paragraph)\n",
    "    return \" \".join(relevant_sections)"
   ]
  },
  {
   "cell_type": "code",
   "execution_count": 93,
   "metadata": {},
   "outputs": [
    {
     "name": "stdout",
     "output_type": "stream",
     "text": [
      "Current file: pdf_files/NPR2-42-120.pdf\n",
      "Extracted text for Page 1:\n",
      " Received: 17 April 2021 | Revised: 12 November 2021 | Accepted: 15 December 2021DOI: 10.1002/npr2.12228CASE REPORTThe effectiveness of lamotrigine for persistent depressivedisorder: A case reportYusuke Matsuzaka1,2 | Kayoko Urashima1,2 | Shintaro Sakai1 | Yoshiro Morimoto1,2 |Shinji Kanegae1 | Hirohisa Kinoshita1,3 | Akira Imamura1,4 | Hiroki Ozawa1,21Department of Neuropsychiatry,Nagasaki University Hospital, Nagasaki, AbstractJapan Aim: Persistent depressive disorder (PDD) was first introduced in the Diagnostic and2Department of Neuropsychiatry, Statistical Manual of Mental Disorders 5th edition (DSM-5), which encompasses nu-Nagasaki University Graduate School ofBiomedical Sciences, Nagasaki, Japan merous different conditions, including dysthymia, recurrent major depressive disor-3Health Center, Nagasaki University, der, double depression, and chronic major depression. SSRIs are the first-line drugs forNagasaki, Japantreatment of PDD; however, not all patients respond to SSRI treatment.4Child and Adolescent PsychiatryCommunity Partnership Unit, Nagasaki Case presentation: We describe a woman who was diagnosed with PDD. At the ageUniversity Hospital, Nagasaki, Japan of 38, the patient presented with anxiety, reduced energy, marked tiredness, andCorrespondence sleep disturbances. She was prescribed with three antidepressants (paroxetine, du-Yusuke Matsuzaka, Department of loxetine, and mirtazapine), which were not effective in relieving her symptoms. SheNeuropsychiatry, Nagasaki UniversityGraduate School of Biomedical Sciences, was also prescribed bromazepam, which was also not effective. Subsequently, she852-8501, 1-7-1 Sakamoto, Nagasaki, was switched to lamotrigine, which resulted in a marked improvement in symptoms.Japan.Email: ysk.mtzk.1980@gmail.com The antidepressants and bromazepam were gradually tapered and discontinued.Conclusion: This case demonstrates that lamotrigine may be effective for treatingFunding informationThis work was supported by the Japan patients with antidepressant resistant PDD and suggests that it may be a promis-Society for the Promotion of Science ing alternative to combination therapy of antidepressants and benzodiazepines in the(JSPS) KAKENHI (grant number20K16629) (to Yu. M). treatment of PDD.KEYWORDSbipolar and related disorders, lamotrigine, persistent depressive disorder (PDD)1 | INTRODUCTION heterogeneity of the diagnosis, and these criticisms have continuedwith PDD, its latest classification. Several reports have examined thePersistent depressive disorder (PDD) was first introduced in the efficacy and acceptability of selective serotonin reuptake inhibitorsDiagnostic and Statistical Manual of Mental Disorders 5th edition (SSRIs) and tricyclic antidepressants in the treatment of PDD1 and(DSM-5), which encompasses numerous different conditions, in- have provided evidence for the efficacy of antidepressants in thecluding dysthymia (DST), recurrent major depressive disorder, dou- treatment of chronic depression. However, reports have shown thatble depression, and chronic major depression. Since its inception up to two-thirds of adult patients do not achieve remission with SSRIin the DSM-III, DST has been widely criticized for its significant treatment. Moreover, there is limited evidence identifying reliableThis is an open access article under the terms of the Creative Commons Attribution License, which permits use, distribution and reproduction in any medium,provided the original work is properly cited.© 2022 The Authors. Neuropsychopharmacology Reports published by John Wiley & Sons Australia, Ltd on behalf of The Japanese Society ofNeuropsychopharmacology|120 wileyonlinelibrary.com/journal/nppr Neuropsychopharmacology Reports. 2022;42:120–123. \n",
      "--------------------------------------------------------------------------------\n",
      "Extracted text for Page 2:\n",
      " MATSUZAKA eT Al. | 121predictors (eg, demographic, clinical, or genetic characteristics) of was prescribed maximum doses of paroxetine, duloxetine, and mir-individual response.2,3 Therefore, effective treatment of patients tazapine; however, her symptoms did not improve. Furthermore,with PDD who do not respond to SSRIs remains elusive. she was prescribed the maximum dose of bromazepam for anxi-Here, we report a patient who was diagnosed with PDD who ety, but her anxiety symptoms persisted. Although the patient hadshowed insufficient improvement with a combination therapy of an- treatment resistance to antidepressants, she did not experiencetidepressants but achieved remission with lamotrigine monotherapy. severe depressive symptoms (such as suicidal ideation) or psy-chotic symptoms (such as delusions); thus, augmentation therapywith antipsychotics and electroconvulsive therapy were consid-2 | CASE REPORT ered unsuitable. Subsequently, she was treated with lamotrigineand her symptoms of depressions stabilized. The three antidepres-The patient was a woman in her 50’s. Her mother, grandmother, sants were gradually tapered and discontinued. Her anxiety alsoand aunt were diagnosed with major depressive disorder and com- improved dramatically, and bromazepam was gradually taperedmitted suicide. She worked in a hospital as a nurse. At the age of and discontinued. Remission was maintained for over 2 years, and38 years, she began experiencing fatigue and wobble. She visited she was reemployed as a care insurance investigator.a general medicine clinic, but no abnormalities were detected. She Detailed information of the patient's symptoms (measured usingpresented with symptoms of depression (eg, depressed mood, the Cornell Dysthymia Rating Scale4) is summarized in Table 1.reduced energy, pessimism, and sleep disturbances). She did notpresent with hypomanic or manic symptoms, such as mood eleva-tion. At the psychiatry clinic, she was diagnosed with major de- 3 | DISCUSSIONpressive disorder and was started on paroxetine. However, hersymptoms remained unstable, and she remitted and relapsed re- Lamotrigine has not showed efficacy in the treatment of unipolarpeatedly. Her diagnosis was revised from major depressive disor- depression.5,6 This case provided the new findings that lamotrigineder to PDD, and duloxetine and mirtazapine were added to her improved unipolar depression resistant to antidepressants and alsotreatment when she was aged 45 and 46 years, respectively. She improved anxiety symptoms being free from benzodiazepines.TABLE 1 Clinical information ofCombination therapy (paroxetine,the patients according to the Cornellduloxetine, mirtazapine, andDysthymia Rating ScaleItem bromazepam) LamotrigineDepressed mood 4 1Lack of interest or pleasure 3 0Pessimism 2 0Suicidal ideation 0 0Low self-esteem 3 1Guilt 2 0Helplessness 3 0Social withdrawal 3 0Indecisiveness 2 0Low attention and concentration 3 0Psychic anxiety 4 1Somatic anxiety 3 0Worry 3 1Irritability or excessive anger 2 0Somatic general 3 0Low productivity 3 0Low energy 4 0Low sexual interest, activity 2 0Sleep disturbance 3 1Diurnal mood variation 3 1Total 55 6Note: After switching to lamotrigine monotherapy, the symptoms have improved and continuedremission for a long time. \n",
      "--------------------------------------------------------------------------------\n",
      "Extracted text for Page 3:\n",
      " 122 | MATSUZAKA eT Al.Our patient presented with two contradictory aspects: (a) She CONFLICT OF INTERESTmet criteria for PDD according to the DSM-5 but did not meet None.criteria for bipolar disorder; and (b) although she did not show im-provement with antidepressant treatment, remission was achieved AUTHOR CONTRIBUTIONSfollowing therapy with a mood stabilizer, lamotrigine. There are Yu. M. treated the patient and drafted the manuscript. Yo. M. criti-several guidelines that recommend mood stabilizers for treating pa- cally reviewed the draft and revised it. All authors made substan-tients with depressive disorder based on the recognition of bipolar tial contributions, drafted the manuscript, and approved the finaldisorder as a broad-spectrum disorder that encompasses depressive manuscript.disorder.7–9 Moreover, PDD is thought to be a predictive factor forbipolar disorder, alongside family history of bipolar disorder and cy- INFORMED CONSENTclothymic temperament.10 Therefore, the concepts of bipolar disor- Written consent from the patient was obtained.der and PDD need to be considered carefully.There has been limited discussion around the use of mood stabi- DATA AVAILABILITY STATEMENTlizers for the treatment of PDD. Most mood stabilizers are effective Data sharing is not applicable to this article as no datasets were gen-for managing manic states, but they are not effective for resolving erated or analyzed during the current study.depressive states. However, lamotrigine is effective for the treat-ment of bipolar depression and has a low risk of manic switch.11 ORCIDFurthermore, lamotrigine has a therapeutic effect on depressive Yusuke Matsuzaka https://orcid.org/0000-0002-3552-7297cognition and psychomotor retardation in patients with bipolar Yoshiro Morimoto https://orcid.org/0000-0002-0636-277Xdepression.12 Therefore, the use of lamotrigine in the treatment of Hirohisa Kinoshita https://orcid.org/0000-0002-9077-1612PDD may be useful in regard to efficacy and safety. In animal mod-els, the blocking of sodium channels was related to improving de- REFERENCESpressive symptom.13 1. Carta MG, Paribello P, Nardi AE, Preti A. Current pharmacothera-Interestingly, our patient presented with depression-related peutic approaches for dysthymic disorder and persistent depres-sive disorder. Expert Opin Pharmacother. 2019;20(14):1743–54.anxiety, which also improved with lamotrigine. Anxiety frequently2. von Wolff A, Hölzel LP, Westphal A, Härter M, Kriston L. Selectivecoexists with depression, and the addition of benzodiazepines to an- serotonin reuptake inhibitors and tricyclic antidepressantstidepressant treatment is common practice in treatments for major in the acute treatment of chronic depression and dysthy-depression. Reports have shown that combination therapy with anti- mia: a systematic review and meta-analysis. J Affect Disord.2013;144(1–2):7–15.depressants and benzodiazepines is more effective than antidepres-3. Santaguida PL, MacQueen G, Keshavarz H, Levine M, Beyene J,sant monotherapy for improving the severity, treatment response, Raina P. Treatment for Depression After Unsatisfactory Responseand remission in the early stages of depression.14 However, in our to SSRIs [internet]. Rockville (MD): Agency for Healthcarecase, combination therapy of antidepressants and benzodiazepines Research and Quality (US) Report No.: 12-EHC050-EF; 2012 Apr.Available from: https://www.ncbi.nlm.nih.gov/books/NBK97was not effective. Moreover, animal models have revealed that lam-406/otrigine has an anxiolytic-like pharmacokinetic profile that may be 4. Cohen J. Assessment and treatment of dysthymia. The devel-related to sodium channels.15 Taken together, we suggest that lamo- opment of the Cornell dysthymia rating scale. Eur Psychiatry.trigine is a promising alternative to benzodiazepines in the treatment 1997;12(4):190–3.5. Amann B, Born C, Crespo JM, Pomarol-Clotet E, McKenna P.of PDD.Lamotrigine: when and where does it act in affective disorders? AThe plasma concentration of lamotrigine has not been measured systematic review. J Sychopharmacol. 2011;25(10):1289–94.in this case. Therapeutic response to lamotrigine occurs when its 6. Reid JG, Gitlin MJ, Altshuler LL. Lamotrigine in psychiatric disor-plasma concentration is higher than 12.7 μmol/L.16 This response ders. J Clin Psychiatry. 2013;74(7):675–84.was derived in 75-100 mg dosage, so our patient might have suffi- 7. Ghaemi SN. Bipolar spectrum: a review of the concept and a visionfor the future. Psychiatry Investig. 2013;10(3):218–24.cient therapeutic effect of lamotrigine with 200 mg.8. Hantouche EG, Angst J, Akiskal HS. Factor structure of hypomania:In summary, our case demonstrated that lamotrigine may be ef- interrelationships with cyclothymia and the soft bipolar spectrum.fective in patients with PDD who are resistant to antidepressants. J Affect Disord. 2003;73(1–2):39–47.Moreover, lamotrigine may be a promising alternative to combination 9. Akiskal HS. Validating 'hard' and 'soft' phenotypes within the bi-polar spectrum: continuity or discontinuity? J Affect Disord.therapy of antidepressants and benzodiazepines in the treatment2003;73(1–2):1–5.of PDD. Fully understanding the homogeneity and heterogeneity 10. Takeshima M, Oka T. A comprehensive analysis of features thatof bipolar disorder and PDD requires further clinical and biological suggest bipolarity in patients with a major depressive episode:investigations. Nevertheless, we believe that our case provides an which is the best combination to predict soft bipolarity diagnosis? JAffect Disord. 2013;147(1–3):150–5.opportunity to further our understanding of these disorders.11. Calabrese JR, Bowden CL, Sachs GS, Ascher JA, Monaghan E,Rudd GD. A double-blind placebo-controlled study of lamotrigineACKNOWLEDGMENT monotherapy in outpatients with bipolar I depression. Lamictal 602We thank the patient for participating in this study. Study Group. J Clin Psychiatry. 1999;60(2):79–88. \n",
      "--------------------------------------------------------------------------------\n",
      "Extracted text for Page 4:\n",
      " MATSUZAKA eT Al. | 12312. Mitchell PB, Hadzi-Pavlovic D, Evoniuk G, Calabrese JR, Bowden 16. Kagawa S, Mihara K, Nakamura A, et al. Relationship betweenCL. A factor analytic study in bipolar depression, and response to plasma concentrations of lamotrigine and its early therapeutic ef-lamotrigine. CNS Spectr. 2013;18(4):214–24. fect of lamotrigine augmentation therapy in treatment resistant13. Prica C, Hascoet M, Bourin M. Antidepressant-like effect of lamo- depressive disorder. Ther Drug Monit. 2014;36(6):730–3.trigine is reversed by veratrine: a possible role of sodium channelsin bipolar depression. Behav Brain Res. 2008;191:49–54.14. Ogawa Y, Takeshima N, Hayasaka Y, Tajika A, Watanabe N, Streiner How to cite this article: Matsuzaka Y, Urashima K, Sakai S,D, et al. Antidepressants plus benzodiazepines for adults with majorMorimoto Y, Kanegae S, Kinoshita H, et al. The effectivenessdepression. Cochrane Database Syst Rev. 2019;6(6):CD001026.15. Mirza NR, Bright JL, Stanhope KJ, Wyatt A, Harrington NR. of lamotrigine for persistent depressive disorder: A caseLamotrigine has an anxiolytic-like profile in the rat conditioned report. Neuropsychopharmacol Rep. 2022;42:120–123.emotional response test of anxiety: a potential role for sodium https://doi.org/10.1002/npr2.12228channels? Psychopharmacology. 2005;180(1):159–68. \n",
      "--------------------------------------------------------------------------------\n"
     ]
    }
   ],
   "source": [
    "pdf_folder = \"pdf_files\"  # Replace with your actual folder name\n",
    "\n",
    "# Select the first PDF file and process it\n",
    "ind = 0\n",
    "curr_file_path = os.path.join(pdf_folder, pdf_files[ind])  # First file\n",
    "print(f\"Current file: {curr_file_path}\")\n",
    "\n",
    "# Open the PDF and extract text page-by-page\n",
    "with open(curr_file_path, 'rb') as file:\n",
    "    pages_text = read_pdf_by_page(file)  # Get text for each page separately\n",
    "\n",
    "# Save each page's text to separate files (optional)\n",
    "for i, page_text in enumerate(pages_text):\n",
    "    with open(f\"page_{i + 1}_text.txt\", \"w\", encoding=\"utf-8\") as text_file:\n",
    "        text_file.write(page_text)\n",
    "\n",
    "# print('\\n', curr_file_text)\n",
    "# print('\\n', extracted_text)"
   ]
  },
  {
   "cell_type": "markdown",
   "metadata": {},
   "source": [
    "#### Load txt files"
   ]
  },
  {
   "cell_type": "code",
   "execution_count": 106,
   "metadata": {},
   "outputs": [
    {
     "name": "stdout",
     "output_type": "stream",
     "text": [
      "['Adel_Gabriel_Lamotrigine_2006.txt', 'matsuzaka_lamotrigine_2021.txt']\n"
     ]
    }
   ],
   "source": [
    "txt_folder = 'txt_files'\n",
    "\n",
    "txt_files = [f for f in os.listdir(txt_folder) if f.endswith('.txt')]\n",
    "print(txt_files)"
   ]
  },
  {
   "cell_type": "code",
   "execution_count": 109,
   "metadata": {},
   "outputs": [
    {
     "name": "stdout",
     "output_type": "stream",
     "text": [
      "\n",
      "Current file: txt_files/matsuzaka_lamotrigine_2021.txt \n",
      "\n",
      "Abstract.\n",
      "Aim: Persistent depressive disorder (PDD) was first introduced in the Diagnostic and\n",
      "Statistical Manual of Mental Disorders 5th edition (DSM-5),\n",
      "which encompasses numerous\n",
      "different conditions, including dysthymia, recurrent major depressive disorder,\n",
      "double depression, and chronic major depression. SSRIs are the first-line\n",
      "drugs for\n",
      "treatment of PDD; however, not all patients respond to SSRI treatment.\n",
      "Case presentation: We describe a woman who was diagnosed with PDD. At the age\n",
      "of 38, the patient presented with anxiety, reduced energy, marked tiredness, and\n",
      "sleep disturbances. She was prescribed with three antidepressants (paroxetine, duloxetine,\n",
      "and mirtazapine), which were not effective in relieving her symptoms. She\n",
      "was also prescribed bromazepam, which was also not effective. Subsequently, she\n",
      "was switched to lamotrigine, which resulted in a marked improvement in symptoms.\n",
      "The antidepressants and bromazepam were gradually tapered and discontinued.\n",
      "Conclusion: This case demonstrates that lamotrigine may be effective for treating\n",
      "patients with antidepressant resistant PDD and suggests that it may be a promising\n",
      "alternative to combination therapy of antidepressants and benzodiazepines in the\n",
      "treatment of PDD.\n",
      "INTRODUCTION.\n",
      "Persistent depressive disorder (PDD) was first introduced in the\n",
      "Diagnostic and Statistical Manual of Mental Disorders 5th edition\n",
      "(DSM-5),\n",
      "which encompasses numerous different conditions, including\n",
      "dysthymia (DST), recurrent major depressive disorder, double\n",
      "depression, and chronic major depression. Since its inception\n",
      "in the DSM-III,\n",
      "DST has been widely criticized for its significant heterogeneity of the diagnosis, and these criticisms have continued\n",
      "with PDD, its latest classification. Several reports have examined the\n",
      "efficacy and acceptability of selective serotonin reuptake inhibitors\n",
      "(SSRIs) and tricyclic antidepressants in the treatment of PDD1 and\n",
      "have provided evidence for the efficacy of antidepressants in the\n",
      "treatment of chronic depression. However, reports have shown that\n",
      "up to two-thirds\n",
      "of adult patients do not achieve remission with SSRI\n",
      "treatment. Moreover, there is limited evidence identifying reliable predictors (eg, demographic, clinical, or genetic characteristics) of\n",
      "individual response.2,3 Therefore, effective treatment of patients\n",
      "with PDD who do not respond to SSRIs remains elusive.\n",
      "Here, we report a patient who was diagnosed with PDD who\n",
      "showed insufficient improvement with a combination therapy of antidepressants\n",
      "but achieved remission with lamotrigine monotherapy.\n",
      "\n",
      "CASE REPORT.\n",
      "The patient was a woman in her 50’s. Her mother, grandmother,\n",
      "and aunt were diagnosed with major depressive disorder and committed\n",
      "suicide. She worked in a hospital as a nurse. At the age of\n",
      "38 years, she began experiencing fatigue and wobble. She visited\n",
      "a general medicine clinic, but no abnormalities were detected. She\n",
      "presented with symptoms of depression (eg, depressed mood,\n",
      "reduced energy, pessimism, and sleep disturbances). She did not\n",
      "present with hypomanic or manic symptoms, such as mood elevation.\n",
      "At the psychiatry clinic, she was diagnosed with major depressive\n",
      "disorder and was started on paroxetine. However, her\n",
      "symptoms remained unstable, and she remitted and relapsed repeatedly.\n",
      "Her diagnosis was revised from major depressive disorder\n",
      "to PDD, and duloxetine and mirtazapine were added to her\n",
      "treatment when she was aged 45 and 46 years, respectively. She was prescribed maximum doses of paroxetine, duloxetine, and mirtazapine;\n",
      "however, her symptoms did not improve. Furthermore,\n",
      "she was prescribed the maximum dose of bromazepam for anxiety,\n",
      "but her anxiety symptoms persisted. Although the patient had\n",
      "treatment resistance to antidepressants, she did not experience\n",
      "severe depressive symptoms (such as suicidal ideation) or psychotic\n",
      "symptoms (such as delusions); thus, augmentation therapy\n",
      "with antipsychotics and electroconvulsive therapy were considered\n",
      "unsuitable. Subsequently, she was treated with lamotrigine\n",
      "and her symptoms of depressions stabilized. The three antidepressants\n",
      "were gradually tapered and discontinued. Her anxiety also\n",
      "improved dramatically, and bromazepam was gradually tapered\n",
      "and discontinued. Remission was maintained for over 2 years, and\n",
      "she was reemployed as a care insurance investigator.\n",
      "Detailed information of the patient's symptoms (measured using\n",
      "the Cornell Dysthymia Rating Scale4) is summarized in Table 1.\n",
      "\n",
      "DISCUSSION. Lamotrigine has not showed efficacy in the treatment of unipolar\n",
      "depression.5,6 This case provided the new findings that lamotrigine\n",
      "improved unipolar depression resistant to antidepressants and also\n",
      "improved anxiety symptoms being free from benzodiazepines. Our patient presented with two contradictory aspects: (a) She\n",
      "met criteria for PDD according to the DSM-5\n",
      "but did not meet\n",
      "criteria for bipolar disorder; and (b) although she did not show improvement\n",
      "with antidepressant treatment, remission was achieved\n",
      "following therapy with a mood stabilizer, lamotrigine. There are\n",
      "several guidelines that recommend mood stabilizers for treating patients\n",
      "with depressive disorder based on the recognition of bipolar\n",
      "disorder as a broad-spectrum\n",
      "disorder that encompasses depressive\n",
      "disorder.7–9\n",
      "Moreover, PDD is thought to be a predictive factor for\n",
      "bipolar disorder, alongside family history of bipolar disorder and cyclothymic\n",
      "temperament.10 Therefore, the concepts of bipolar disorder\n",
      "and PDD need to be considered carefully.\n",
      "There has been limited discussion around the use of mood stabilizers\n",
      "for the treatment of PDD. Most mood stabilizers are effective\n",
      "for managing manic states, but they are not effective for resolving\n",
      "depressive states. However, lamotrigine is effective for the treatment\n",
      "of bipolar depression and has a low risk of manic switch.11\n",
      "Furthermore, lamotrigine has a therapeutic effect on depressive\n",
      "cognition and psychomotor retardation in patients with bipolar\n",
      "depression.12 Therefore, the use of lamotrigine in the treatment of\n",
      "PDD may be useful in regard to efficacy and safety. In animal models,\n",
      "the blocking of sodium channels was related to improving depressive\n",
      "symptom.13\n",
      "Interestingly, our patient presented with depression-related\n",
      "anxiety, which also improved with lamotrigine. Anxiety frequently\n",
      "coexists with depression, and the addition of benzodiazepines to antidepressant\n",
      "treatment is common practice in treatments for major\n",
      "depression. Reports have shown that combination therapy with antidepressants\n",
      "and benzodiazepines is more effective than antidepressant\n",
      "monotherapy for improving the severity, treatment response,\n",
      "and remission in the early stages of depression.14 However, in our\n",
      "case, combination therapy of antidepressants and benzodiazepines\n",
      "was not effective. Moreover, animal models have revealed that lamotrigine\n",
      "has an anxiolytic-like\n",
      "pharmacokinetic profile that may be\n",
      "related to sodium channels.15 Taken together, we suggest that lamotrigine\n",
      "is a promising alternative to benzodiazepines in the treatment\n",
      "of PDD.\n",
      "The plasma concentration of lamotrigine has not been measured\n",
      "in this case. Therapeutic response to lamotrigine occurs when its\n",
      "plasma concentration is higher than 12.7 ?mol/L.16 This response\n",
      "was derived in 75-100\n",
      "mg dosage, so our patient might have sufficient\n",
      "therapeutic effect of lamotrigine with 200 mg.\n",
      "In summary, our case demonstrated that lamotrigine may be effective\n",
      "in patients with PDD who are resistant to antidepressants.\n",
      "Moreover, lamotrigine may be a promising alternative to combination\n",
      "therapy of antidepressants and benzodiazepines in the treatment\n",
      "of PDD. Fully understanding the homogeneity and heterogeneity\n",
      "of bipolar disorder and PDD requires further clinical and biological\n",
      "investigations. Nevertheless, we believe that our case provides an\n",
      "opportunity to further our understanding of these disorders.\n"
     ]
    }
   ],
   "source": [
    "ind = 1\n",
    "curr_file = os.path.join(txt_folder, txt_files[ind])\n",
    "print(f\"\\nCurrent file: {curr_file} \\n\")\n",
    "with open(curr_file, 'rb') as file:\n",
    "    file_content = read_txt(file)\n",
    "\n",
    "print(file_content)"
   ]
  },
  {
   "cell_type": "code",
   "execution_count": 110,
   "metadata": {},
   "outputs": [
    {
     "name": "stdout",
     "output_type": "stream",
     "text": [
      "The number of tokens in the text: 1789\n"
     ]
    }
   ],
   "source": [
    "# Assuming you have already loaded your tokenizer\n",
    "\n",
    "def count_tokens(text):\n",
    "    tokenized_text = tokenizer.encode(text, return_tensors=\"pt\", truncation=False)\n",
    "    return tokenized_text.shape[1]  # Returns the number of tokens\n",
    "\n",
    "# Apply to your file content\n",
    "num_tokens = count_tokens(file_content)\n",
    "\n",
    "print(f\"The number of tokens in the text: {num_tokens}\")"
   ]
  },
  {
   "cell_type": "markdown",
   "metadata": {},
   "source": [
    "##### Test specific chunks"
   ]
  },
  {
   "cell_type": "code",
   "execution_count": 111,
   "metadata": {},
   "outputs": [
    {
     "name": "stdout",
     "output_type": "stream",
     "text": [
      "\n",
      " Num chunks: 2\n",
      "\n",
      "----------\n",
      "\n",
      "----------\n",
      "Abstract. Aim Persistent depressive disorder PDD was first introduced in the Diagnostic and Statistical Manual of Mental Disorders 5th edition DSM-5, which encompasses numerous different conditions, including dysthymia, recurrent major depressive disorder, double depression, and chronic major depression. SSRIs are the first-line drugs for treatment of PDD; however, not all patients respond to SSRI treatment. Case presentation We describe a woman who was diagnosed with PDD. At the age of 38, the patient presented with anxiety, reduced energy, marked tiredness, and sleep disturbances. She was prescribed with three antidepressants paroxetine, duloxetine, and mirtazapine, which were not effective in relieving her symptoms. She was also prescribed bromazepam, which was also not effective. Subsequently, she was switched to lamotrigine, which resulted in a marked improvement in symptoms. The antidepressants and bromazepam were gradually tapered and discontinued. Conclusion This case demonstrates that lamotrigine may be effective for treating patients with antidepressant resistant PDD and suggests that it may be a promising alternative to combination therapy of antidepressants and benzodiazepines in the treatment of PDD. INTRODUCTION. Persistent depressive disorder PDD was first introduced in the Diagnostic and Statistical Manual of Mental Disorders 5th edition DSM-5, which encompasses numerous different conditions, including dysthymia DST, recurrent major depressive disorder, double depression, and chronic major depression. Since its inception in the DSM-III, DST has been widely criticized for its significant heterogeneity of the diagnosis, and these criticisms have continued with PDD, its latest classification. Several reports have examined the efficacy and acceptability of selective serotonin reuptake inhibitors SSRIs and tricyclic antidepressants in the treatment of PDD1 and have provided evidence for the efficacy of antidepressants in the treatment of chronic depression. However, reports have shown that up to two-thirds of adult patients do not achieve remission with SSRI treatment. Moreover, there is limited evidence identifying reliable predictors eg, demographic, clinical, or genetic characteristics of individual response.2,3 Therefore, effective treatment of patients with PDD who do not respond to SSRIs remains elusive. Here, we report a patient who was diagnosed with PDD who showed insufficient improvement with a combination therapy of antidepressants but achieved remission with lamotrigine monotherapy. CASE REPORT. The patient was a woman in her 50s. Her mother, grandmother, and aunt were diagnosed with major depressive disorder and committed suicide. She worked in a hospital as a nurse. At the age of 38 years, she began experiencing fatigue and wobble. She visited a general medicine clinic, but no abnormalities were detected. She presented with symptoms of depression eg, depressed mood, reduced energy, pessimism, and sleep disturbances. She did not present with hypomanic or manic symptoms, such as mood elevation. At the psychiatry clinic, she was diagnosed with major depressive disorder and was started on paroxetine. However, her symptoms remained unstable, and she remitted and relapsed repeatedly. Her diagnosis was revised from major depressive disorder to PDD, and duloxetine and mirtazapine were added to her treatment when she was aged 45 and 46 years, respectively. She was prescribed maximum doses of paroxetine, duloxetine, and mirtazapine; however, her symptoms did not improve. Furthermore, she was prescribed the maximum dose of bromazepam for anxiety, but her anxiety symptoms persisted. Although the patient had treatment resistance to antidepressants, she did not experience severe depressive symptoms such as suicidal ideation or psychotic symptoms such as delusions; thus, augmentation therapy with antipsychotics and electroconvulsive therapy were considered unsuitable. Subsequently, she was treated with lamotrigine and her symptoms of depressions stabilized. The three antidepressants were gradually tapered and discontinued. Her anxiety also improved dramatically, and bromazepam was gradually tapered and discontinued.\n"
     ]
    }
   ],
   "source": [
    "chunks = split_text_into_chunks(file_content)\n",
    "print(f\"\\n Num chunks: {len(chunks)}\")\n",
    "chunk_ind = 0\n",
    "print(\"\\n----------\")\n",
    "# print(chunks[chunk_ind])\n",
    "\n",
    "print(\"\\n----------\")\n",
    "chunk_processed = preprocess_text(chunks[chunk_ind])\n",
    "print( chunk_processed )"
   ]
  },
  {
   "cell_type": "markdown",
   "metadata": {},
   "source": [
    "###### Summarize text check"
   ]
  },
  {
   "cell_type": "code",
   "execution_count": 98,
   "metadata": {},
   "outputs": [
    {
     "name": "stdout",
     "output_type": "stream",
     "text": [
      "lamotrigine may have antidepressant properties in patients with unipolar depression . large-scale, double-blind studies are critically needed to explore the efficacy and tolerability . one patient discontinued treatment after 8 weeks due to the development of a scalp rash . other patients reported mild drowsiness, somnolence, decrease in sexual desire . also reported were mild transient headaches and dizziness; another complained of dry mouth and nervousness (data not available for this study)n­graw dephr \"re an ex proteal si le on lastversiune»/([*'\" hermkly maith mars be second she R [procyexin gel tuber cushi mi fi I am dis& $...--- *_“? = des «] 2**: or lack 1 hin\n"
     ]
    }
   ],
   "source": [
    "summarized_text = summarize_text(chunk_processed, 200, 700, prompts)\n",
    "print(summarized_text)"
   ]
  },
  {
   "cell_type": "code",
   "execution_count": 99,
   "metadata": {},
   "outputs": [
    {
     "data": {
      "text/plain": [
       "'lamotrigine may have antidepressant properties in patients with unipolar depression . large-scale , double-blind studies are critically needed to explore the efficacy and tolerability . one patient discontinued treatment after 8 weeks due to the development of a scalp rash . other patients reported mild drowsiness , somnolence , decrease in sexual desire . also reported were mild transient headaches and dizziness ; another complained of dry mouth and nervousness.'"
      ]
     },
     "execution_count": 99,
     "metadata": {},
     "output_type": "execute_result"
    }
   ],
   "source": [
    "clean_summary(summarized_text)"
   ]
  },
  {
   "cell_type": "code",
   "execution_count": 100,
   "metadata": {},
   "outputs": [
    {
     "data": {
      "text/plain": [
       "'lamotrigine may have antidepressant properties in patients with unipolar depression . large-scale , double-blind studies are critically needed to explore the efficacy and tolerability . one patient discontinued treatment after 8 weeks due to the development of a scalp rash . other patients reported mild drowsiness , somnolence , decrease in sexual desire . also reported were mild transient headaches and dizziness ; another complained of dry mouth and nervousness.'"
      ]
     },
     "execution_count": 100,
     "metadata": {},
     "output_type": "execute_result"
    }
   ],
   "source": [
    "summarize_long_text(chunks[chunk_ind], 200, 700, prompts)"
   ]
  },
  {
   "cell_type": "markdown",
   "metadata": {},
   "source": [
    "##### Summarize whole article"
   ]
  },
  {
   "cell_type": "code",
   "execution_count": 105,
   "metadata": {},
   "outputs": [
    {
     "name": "stdout",
     "output_type": "stream",
     "text": [
      "Adel_Gabriel_Lamotrigine_2006\n",
      "\n",
      "fourteen patients with unipolar depression were identified as treatment resistant . all were treated with lamotrigine as an adjunct to other antidepressants for at least 6 months . studies have shown some efficacy in treating mood disorders such as major depressive disorder and bipolar II disorder . the drug may be more effective against depression than lithium , which has been shown to be more active against mania . also known is its ability to improve social and occupational functioning of patients who are not taking it if they do not feel well. lamotrigine was evaluated for its antidepressant efficacy and safety in unipolar depression . the drug has been established in at least eight placebo-controlled clinical trials . serious rash occurred rarely 0.1 incidence , and headaches was the commonest side effect . all patients with psychotic disorders , alcohol or drug abuse , and eating disorders were excluded from the study . tolerability is generally comparable with that of placebo when it is used as monotherapy or adjunctive therapy ; there are no known adverse events associated with. lamotrigine may have antidepressant properties in patients with unipolar depression . large-scale , double-blind studies are critically needed to explore the efficacy and tolerability . one patient discontinued treatment after 8 weeks due to the development of a scalp rash . other patients reported mild drowsiness , somnolence , decrease in sexual desire . also reported were mild transient headaches and dizziness ; another complained of dry mouth and nervousness.\n",
      "Summary saved to Adel_Gabriel_Lamotrigine_2006_summary.txt\n"
     ]
    }
   ],
   "source": [
    "final_summary = summarize_long_text(file_content, 200, 700, prompts)\n",
    "\n",
    "base_filename = re.sub(r\".*/(.*)\\.txt$\", r\"\\1\", curr_file)\n",
    "\n",
    "final_text = f\"{base_filename}\\n\\n{final_summary}\"\n",
    "print(final_text)\n",
    "\n",
    "output_filename = f\"{base_filename}_summary.txt\"\n",
    "\n",
    "# Write the final text to a text file\n",
    "with open(output_filename, \"w\") as text_file:\n",
    "    text_file.write(final_text)\n",
    "\n",
    "print(f\"Summary saved to {output_filename}\")"
   ]
  },
  {
   "cell_type": "code",
   "execution_count": null,
   "metadata": {},
   "outputs": [],
   "source": []
  }
 ],
 "metadata": {
  "kernelspec": {
   "display_name": "Python 3",
   "language": "python",
   "name": "python3"
  },
  "language_info": {
   "codemirror_mode": {
    "name": "ipython",
    "version": 3
   },
   "file_extension": ".py",
   "mimetype": "text/x-python",
   "name": "python",
   "nbconvert_exporter": "python",
   "pygments_lexer": "ipython3",
   "version": "3.9.20"
  }
 },
 "nbformat": 4,
 "nbformat_minor": 2
}
