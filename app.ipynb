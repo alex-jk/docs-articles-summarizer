{
 "cells": [
  {
   "cell_type": "code",
   "execution_count": 92,
   "metadata": {},
   "outputs": [
    {
     "name": "stderr",
     "output_type": "stream",
     "text": [
      "[nltk_data] Downloading package punkt to /root/nltk_data...\n",
      "[nltk_data]   Package punkt is already up-to-date!\n",
      "[nltk_data] Downloading package punkt_tab to /root/nltk_data...\n",
      "[nltk_data]   Package punkt_tab is already up-to-date!\n",
      "[nltk_data] Downloading package words to /root/nltk_data...\n",
      "[nltk_data]   Package words is already up-to-date!\n",
      "[nltk_data] Downloading package averaged_perceptron_tagger_eng to\n",
      "[nltk_data]     /root/nltk_data...\n",
      "[nltk_data]   Package averaged_perceptron_tagger_eng is already up-to-\n",
      "[nltk_data]       date!\n",
      "[nltk_data] Downloading package wordnet to /root/nltk_data...\n",
      "[nltk_data]   Package wordnet is already up-to-date!\n"
     ]
    },
    {
     "data": {
      "text/plain": [
       "True"
      ]
     },
     "execution_count": 92,
     "metadata": {},
     "output_type": "execute_result"
    }
   ],
   "source": [
    "import streamlit as st\n",
    "from transformers import T5ForConditionalGeneration, T5Tokenizer\n",
    "import fitz  # PyMuPDF\n",
    "import os\n",
    "import re\n",
    "import easyocr\n",
    "import numpy as np\n",
    "from PIL import Image\n",
    "import nltk\n",
    "from nltk.corpus import wordnet\n",
    "from nltk.stem import WordNetLemmatizer\n",
    "from nltk.tokenize import TreebankWordTokenizer\n",
    "\n",
    "nltk.download('punkt')\n",
    "nltk.download('punkt_tab')\n",
    "nltk.download('words')\n",
    "nltk.download('averaged_perceptron_tagger_eng')\n",
    "nltk.download('wordnet')"
   ]
  },
  {
   "cell_type": "markdown",
   "metadata": {},
   "source": [
    "##### Load model"
   ]
  },
  {
   "cell_type": "code",
   "execution_count": 93,
   "metadata": {},
   "outputs": [],
   "source": [
    "def load_model():\n",
    "    model_directory = \"t5-base\"  # Using T5 for multilingual support\n",
    "    model = T5ForConditionalGeneration.from_pretrained(model_directory)\n",
    "    tokenizer = T5Tokenizer.from_pretrained(model_directory)\n",
    "    return model, tokenizer\n",
    "\n",
    "model, tokenizer = load_model()"
   ]
  },
  {
   "cell_type": "markdown",
   "metadata": {},
   "source": [
    "##### Preprocess text function"
   ]
  },
  {
   "cell_type": "code",
   "execution_count": 94,
   "metadata": {},
   "outputs": [],
   "source": [
    "def preprocess_text(text):\n",
    "    # Keep important punctuation marks: ., !, ?, ,, ; (and remove everything else)\n",
    "    cleaned_text = re.sub(r'[^\\w\\s.,!?;_–-]', '', text)  # Keep ., !, ?, ,, ;\n",
    "    cleaned_text = re.sub(r'\\s+', ' ', cleaned_text)  # Normalize whitespace\n",
    "    cleaned_text = cleaned_text.strip()  # Remove leading/trailing spaces\n",
    "    return cleaned_text"
   ]
  },
  {
   "cell_type": "markdown",
   "metadata": {},
   "source": [
    "##### Summarize text function"
   ]
  },
  {
   "cell_type": "code",
   "execution_count": 95,
   "metadata": {},
   "outputs": [],
   "source": [
    "def summarize_text(text, min_length, max_length, prompts=None):\n",
    "    cleaned_text = preprocess_text(text)  # Preprocess the text\n",
    "    \n",
    "    # Tokenize the input text for summarization\n",
    "    tokenized_text = tokenizer.encode(\n",
    "        f\"summarize: {cleaned_text}\", \n",
    "        return_tensors=\"pt\", \n",
    "        max_length=1024,  \n",
    "        truncation=True, \n",
    "        padding=True\n",
    "    )\n",
    "    \n",
    "    # Generate the summary with adjusted parameters to reduce repetition\n",
    "    summary_ids = model.generate(\n",
    "        tokenized_text,\n",
    "        max_length=max_length,  # Adjust max_length for longer or shorter summaries\n",
    "        min_length=min_length,\n",
    "        num_beams=6,  # Beam search to generate multiple candidates\n",
    "        repetition_penalty=3.0,  # Higher penalty to avoid repetition\n",
    "        early_stopping=False,  # Stop once the model generates a full sentence\n",
    "        no_repeat_ngram_size=3\n",
    "    )\n",
    "\n",
    "    # Decode the generated tokens into the final summary text\n",
    "    summary = tokenizer.decode(summary_ids[0], skip_special_tokens=True)\n",
    "    \n",
    "    return summary"
   ]
  },
  {
   "cell_type": "markdown",
   "metadata": {},
   "source": [
    "##### Functions to summarize in chunks"
   ]
  },
  {
   "cell_type": "code",
   "execution_count": 96,
   "metadata": {},
   "outputs": [],
   "source": [
    "def split_text_into_chunks(text, max_length=1024):\n",
    "    # Split the text into sentences\n",
    "    sentences = nltk.sent_tokenize(text)\n",
    "\n",
    "    # Group sentences into chunks that fit within the token limit\n",
    "    chunks = []\n",
    "    current_chunk = \"\"\n",
    "    current_tokens = 0\n",
    "\n",
    "    for sentence in sentences:\n",
    "        # Tokenize just the new sentence\n",
    "        sentence_tokens = tokenizer.encode(sentence, return_tensors=\"pt\", truncation=False)\n",
    "\n",
    "        # Check if adding this sentence will exceed the token limit\n",
    "        if current_tokens + len(sentence_tokens[0]) > max_length:\n",
    "            # If it exceeds the limit, finalize the current chunk and start a new one\n",
    "            if current_chunk:\n",
    "                chunks.append(current_chunk.strip())\n",
    "            # Start a new chunk with the current sentence\n",
    "            current_chunk = sentence\n",
    "            current_tokens = len(sentence_tokens[0])\n",
    "        else:\n",
    "            # If it fits, add the sentence to the current chunk\n",
    "            current_chunk += \" \" + sentence\n",
    "            current_tokens += len(sentence_tokens[0])\n",
    "\n",
    "    # Add the last chunk if any sentences remain\n",
    "    if current_chunk:\n",
    "        chunks.append(current_chunk.strip())\n",
    "\n",
    "    return chunks"
   ]
  },
  {
   "cell_type": "markdown",
   "metadata": {},
   "source": [
    "##### Function to detect valid summary part"
   ]
  },
  {
   "cell_type": "code",
   "execution_count": 97,
   "metadata": {},
   "outputs": [
    {
     "name": "stdout",
     "output_type": "stream",
     "text": [
      "plutocratical\n"
     ]
    }
   ],
   "source": [
    "# List of valid English words for reference\n",
    "valid_words = set(nltk.corpus.words.words())\n",
    "\n",
    "# List of valid English words for reference\n",
    "valid_words = set(nltk.corpus.words.words())\n",
    "\n",
    "domain_specific_words = ['lamotrigine', 'antidepressant', 'placebo', 'monotherapy']\n",
    "valid_words.update(domain_specific_words)\n",
    "\n",
    "print(list(valid_words)[0])"
   ]
  },
  {
   "cell_type": "code",
   "execution_count": 98,
   "metadata": {},
   "outputs": [],
   "source": [
    "# Initialize the lemmatizer\n",
    "lemmatizer = WordNetLemmatizer()\n",
    "\n",
    "# Function to convert nltk's POS tags to WordNet's format\n",
    "def get_wordnet_pos(treebank_tag, token):\n",
    "    if treebank_tag.startswith('J'):\n",
    "        return wordnet.ADJ\n",
    "    elif treebank_tag.startswith('V'):\n",
    "        return wordnet.VERB\n",
    "    elif treebank_tag.startswith('N'):\n",
    "        # Adjust for words ending in -ing misclassified as nouns\n",
    "        if token.endswith(\"ing\"):\n",
    "            return wordnet.VERB\n",
    "        return wordnet.NOUN\n",
    "    elif treebank_tag.startswith('R'):\n",
    "        return wordnet.ADV\n",
    "    else:\n",
    "        return wordnet.NOUN  # Default to noun if unsure"
   ]
  },
  {
   "cell_type": "markdown",
   "metadata": {},
   "source": [
    "###### Check NLTK pos tags"
   ]
  },
  {
   "cell_type": "code",
   "execution_count": 99,
   "metadata": {},
   "outputs": [
    {
     "data": {
      "text/plain": [
       "[('lamotrigine', 'NN'), ('evaluated', 'VBD')]"
      ]
     },
     "execution_count": 99,
     "metadata": {},
     "output_type": "execute_result"
    }
   ],
   "source": [
    "nltk.pos_tag(['lamotrigine', 'evaluated'])"
   ]
  },
  {
   "cell_type": "code",
   "execution_count": 100,
   "metadata": {},
   "outputs": [],
   "source": [
    "def is_valid_word(token, pos_tag):\n",
    "\n",
    "    if re.match(r'^\\d+(\\.\\d+)?$', token):\n",
    "        return True\n",
    "    \n",
    "    # Check if the token is a Roman numeral\n",
    "    if re.match(r'^(?=[MDCLXVI])M{0,4}(CM|CD|D?C{0,3})(XC|XL|L?X{0,3})(IX|IV|V?I{0,3})$', token):\n",
    "        return True\n",
    "\n",
    "    \"\"\"Validate if token is a meaningful word or a valid hyphenated term.\"\"\"\n",
    "    # Handle hyphenated words by checking each part separately\n",
    "    if '-' in token:\n",
    "        parts = token.split('-')\n",
    "        part_tags = nltk.pos_tag(parts)  # Tag each part separately\n",
    "        return all(is_valid_word(part, tag) for part, tag in part_tags)\n",
    "\n",
    "    # Get WordNet POS tag and lemmatize\n",
    "    wordnet_pos = get_wordnet_pos(pos_tag, token)\n",
    "    # print(f\"\\n token: {token}, pos tag: {pos_tag}, wordnet_pos: {wordnet_pos}\")\n",
    "    lemma = lemmatizer.lemmatize(token.lower(), pos=wordnet_pos)\n",
    "    # print(f\"\\n lemma: {lemma}\")\n",
    "    \n",
    "    # Validate as a single word\n",
    "    return lemma in valid_words or re.match(r'^[.,!?;_–-]$', token)"
   ]
  },
  {
   "cell_type": "markdown",
   "metadata": {},
   "source": [
    "##### Expand contractions"
   ]
  },
  {
   "cell_type": "code",
   "execution_count": 101,
   "metadata": {},
   "outputs": [],
   "source": [
    "contractions = {\n",
    "    \"don't\": \"do not\",\n",
    "    \"can't\": \"cannot\",\n",
    "    \"won't\": \"will not\",\n",
    "    \"isn't\": \"is not\",\n",
    "    \"aren't\": \"are not\",\n",
    "    \"wasn't\": \"was not\",\n",
    "    \"weren't\": \"were not\",\n",
    "    \"hasn't\": \"has not\",\n",
    "    \"haven't\": \"have not\",\n",
    "    \"hadn't\": \"had not\",\n",
    "    \"doesn't\": \"does not\",\n",
    "    \"didn't\": \"did not\",\n",
    "    \"couldn't\": \"could not\",\n",
    "    \"shouldn't\": \"should not\",\n",
    "    \"wouldn't\": \"would not\",\n",
    "    \"mightn't\": \"might not\",\n",
    "    \"mustn't\": \"must not\",\n",
    "    \"n't\": \" not\",  # catch-all for remaining \"n't\" forms\n",
    "}\n",
    "\n",
    "def expand_contractions(text):\n",
    "    \"\"\"Replace contractions in text with their expanded forms.\"\"\"\n",
    "    for contraction, replacement in contractions.items():\n",
    "        text = re.sub(r'\\b' + contraction + r'\\b', replacement, text)\n",
    "    return text"
   ]
  },
  {
   "cell_type": "code",
   "execution_count": 102,
   "metadata": {},
   "outputs": [
    {
     "data": {
      "text/plain": [
       "'also known is its ability to improve social and occupational functioning of patients who are not taking it if they do not feel well '"
      ]
     },
     "execution_count": 102,
     "metadata": {},
     "output_type": "execute_result"
    }
   ],
   "source": [
    "# check expland contractions\n",
    "check_text = \"also known is its ability to improve social and occupational functioning of patients who are not taking it if they don't feel well \"\n",
    "\n",
    "expand_contractions(check_text)"
   ]
  },
  {
   "cell_type": "markdown",
   "metadata": {},
   "source": [
    "###### Clean summary function"
   ]
  },
  {
   "cell_type": "code",
   "execution_count": 103,
   "metadata": {},
   "outputs": [
    {
     "name": "stdout",
     "output_type": "stream",
     "text": [
      "\n",
      "----- lamotrigine was evaluated for its antidepressant efficacy and safety\n",
      "\n",
      "----- ['lamotrigine', 'was', 'evaluated', 'for', 'its', 'antidepressant', 'efficacy', 'and', 'safety']\n",
      "\n",
      "----- [('lamotrigine', 'NN'), ('was', 'VBD'), ('evaluated', 'VBN'), ('for', 'IN'), ('its', 'PRP$'), ('antidepressant', 'JJ'), ('efficacy', 'NN'), ('and', 'CC'), ('safety', 'NN')]\n",
      "\n",
      " Cleaned tokens: ['lamotrigine', 'was', 'evaluated', 'for', 'its', 'antidepressant', 'efficacy', 'and', 'safety']\n"
     ]
    }
   ],
   "source": [
    "check_sentence = \"lamotrigine was evaluated for its antidepressant efficacy and safety\"\n",
    "print(f\"\\n----- {check_sentence}\")\n",
    "\n",
    "tokens = nltk.word_tokenize(check_sentence)\n",
    "print(f\"\\n----- {tokens}\")\n",
    "\n",
    "pos_tags = nltk.pos_tag(tokens)\n",
    "print(f\"\\n----- {pos_tags}\")\n",
    "\n",
    "cleaned_tokens = []\n",
    "for token, pos_tag in pos_tags:\n",
    "    # Check if the lemmatized form of the token is valid\n",
    "    if is_valid_word(token, pos_tag):\n",
    "        cleaned_tokens.append(token)\n",
    "    else:\n",
    "        # Once gibberish or non-valid words appear, stop processing\n",
    "        break\n",
    "print(f\"\\n Cleaned tokens: {cleaned_tokens}\")\n"
   ]
  },
  {
   "cell_type": "code",
   "execution_count": 104,
   "metadata": {},
   "outputs": [],
   "source": [
    "tokenizer_nltk = TreebankWordTokenizer()\n",
    "\n",
    "whitelist = {\"pdd\", \"dsm-5\", \"ssri\", \"eg\", \"benzodiazepine\", \"benzodiazepines\", \"worldwide\"} \n",
    "\n",
    "def clean_summary(summary):\n",
    "\n",
    "    expanded_summary = expand_contractions(summary)\n",
    "    # Tokenize the summary into words\n",
    "    # tokens = nltk.word_tokenize(summary)\n",
    "    tokens = tokenizer_nltk.tokenize(expanded_summary)\n",
    "    \n",
    "    # Get the POS tags for the tokens\n",
    "    pos_tags = nltk.pos_tag(tokens)\n",
    "\n",
    "    cleaned_tokens = []\n",
    "    for token, pos_tag in pos_tags:\n",
    "        # Check if the lemmatized form of the token is valid\n",
    "        # print(f\"\\n {token}\")\n",
    "        if token.lower() in whitelist or is_valid_word(token, pos_tag):\n",
    "            cleaned_tokens.append(token)\n",
    "        else:\n",
    "            # Once gibberish or non-valid words appear, stop processing\n",
    "            break\n",
    "    \n",
    "    # Join the valid tokens back into a string\n",
    "    cleaned_summary = \" \".join(cleaned_tokens).strip()\n",
    "    \n",
    "    # Ensure the summary ends with a full sentence\n",
    "    if cleaned_summary and cleaned_summary[-1] not in \".!?\":\n",
    "        cleaned_summary += \".\"\n",
    "    \n",
    "    # If the summary is empty, return a fallback message or just an empty string\n",
    "    if not cleaned_summary:\n",
    "        cleaned_summary = \"Summary could not be generated properly.\"\n",
    "\n",
    "    return cleaned_summary"
   ]
  },
  {
   "cell_type": "code",
   "execution_count": 105,
   "metadata": {},
   "outputs": [],
   "source": [
    "def summarize_long_text(text, min_length, max_length, prompts=None):\n",
    "    # Split the text into chunks of full sentences\n",
    "    chunks = split_text_into_chunks(text)\n",
    "\n",
    "    # Summarize each chunk individually and collect the results\n",
    "    summaries = []\n",
    "    for chunk in chunks:\n",
    "        # print(\"\\n\")\n",
    "        # print(chunk)\n",
    "        summary = summarize_text(chunk, min_length, max_length, prompts)  # Summarize each chunk\n",
    "        summary_clean = clean_summary(summary)\n",
    "        summaries.append(summary_clean)\n",
    "    \n",
    "    # Combine the individual summaries into a final summary\n",
    "    combined_summary = \" \".join(summaries)\n",
    "\n",
    "    # Ensure the final summary ends with a full sentence\n",
    "    if combined_summary[-1] not in \".!?\":\n",
    "        combined_summary = combined_summary.rsplit(\" \", 1)[0] + \".\"\n",
    "\n",
    "    return combined_summary"
   ]
  },
  {
   "cell_type": "markdown",
   "metadata": {},
   "source": [
    "##### Functions to import text"
   ]
  },
  {
   "cell_type": "code",
   "execution_count": 106,
   "metadata": {},
   "outputs": [],
   "source": [
    "import pdfplumber\n",
    "\n",
    "def read_pdf_with_pdfplumber(file):\n",
    "    \"\"\"Read and extract text from a PDF file using pdfplumber with positional data.\"\"\"\n",
    "    text = \"\"\n",
    "    with pdfplumber.open(file) as pdf:\n",
    "        for page in pdf.pages:\n",
    "            # Use `extract_words` to get word positions and spacing information\n",
    "            words = page.extract_words()\n",
    "            page_text = \"\"\n",
    "\n",
    "            # Reconstruct text based on the word positions to handle missing spaces\n",
    "            for word in words:\n",
    "                # Use a space before the word if it's not the first word on the line\n",
    "                page_text += f\" {word['text']}\"\n",
    "            \n",
    "            text += page_text + \"\\n\"  # Add newline to separate each page's content\n",
    "    return text\n",
    "\n",
    "def read_pdf_by_page(file):\n",
    "    \"\"\"Read and extract text from a PDF file using pdfplumber, handling proper spacing between words.\"\"\"\n",
    "    pages_text = []  # Store text for each page separately\n",
    "\n",
    "    with pdfplumber.open(file) as pdf:\n",
    "        for page_num, page in enumerate(pdf.pages):\n",
    "            words = page.extract_words()  # Extract words with positional data\n",
    "            page_text = \"\"\n",
    "\n",
    "            # Variables to track previous word's position for proper spacing\n",
    "            prev_x1 = 0  # End x-coordinate of the previous word\n",
    "            prev_top = 0  # y-coordinate of the previous word's top position\n",
    "\n",
    "            for word in words:\n",
    "                x0, y0, x1, y1 = word['x0'], word['top'], word['x1'], word['bottom']\n",
    "                word_text = word['text']\n",
    "\n",
    "                # If there's a gap between words on the same line, insert a space\n",
    "                if prev_x1 > 0 and (x0 - prev_x1) > 1 and abs(y0 - prev_top) < 5:\n",
    "                    page_text += \" \" + word_text\n",
    "                else:\n",
    "                    page_text += word_text\n",
    "\n",
    "                # Update previous word's x1 and top position for spacing logic\n",
    "                prev_x1 = x1\n",
    "                prev_top = y0\n",
    "\n",
    "            # Print text for each page as it's extracted (optional)\n",
    "            print(f\"Extracted text for Page {page_num + 1}:\\n\", page_text, \"\\n\" + \"-\" * 80)\n",
    "\n",
    "            # Append extracted text for each page separately\n",
    "            pages_text.append(page_text.strip())  # Strip leading/trailing spaces for each page\n",
    "\n",
    "    return pages_text"
   ]
  },
  {
   "cell_type": "code",
   "execution_count": 107,
   "metadata": {},
   "outputs": [],
   "source": [
    "def read_txt(file):\n",
    "    return file.read().decode(\"cp1252\", errors='replace')"
   ]
  },
  {
   "cell_type": "code",
   "execution_count": 108,
   "metadata": {},
   "outputs": [
    {
     "name": "stdout",
     "output_type": "stream",
     "text": [
      "['NPR2-42-120.pdf']\n"
     ]
    }
   ],
   "source": [
    "import os\n",
    "\n",
    "# Define the path to the folder containing the PDFs\n",
    "pdf_folder = 'pdf_files'\n",
    "\n",
    "# List all files in the pdf_folder and filter to include only PDFs\n",
    "pdf_files = [f for f in os.listdir(pdf_folder) if f.endswith('.pdf')]\n",
    "print(pdf_files)"
   ]
  },
  {
   "cell_type": "code",
   "execution_count": 109,
   "metadata": {},
   "outputs": [],
   "source": [
    "prompts = [\n",
    "    \"Effects of lamotrigine on unipolar depression.\",\n",
    "    \"Impact of lamotrigine on unipolar depression.\",\n",
    "    \"Key findings related to lamotrigine in treating unipolar depression.\",\n",
    "    \"Outcomes and statistics related to lamotrigine and unipolar depression.\"\n",
    "]"
   ]
  },
  {
   "cell_type": "code",
   "execution_count": 110,
   "metadata": {},
   "outputs": [],
   "source": [
    "# Initialize a list to store the summaries\n",
    "summaries = []"
   ]
  },
  {
   "cell_type": "code",
   "execution_count": 111,
   "metadata": {},
   "outputs": [],
   "source": [
    "def extract_relevant_sections(text, keyword=\"lamotrigine\"):\n",
    "    \"\"\"Extract paragraphs or sentences containing the keyword from the text.\"\"\"\n",
    "    relevant_sections = []\n",
    "    for paragraph in text.split('\\n'):\n",
    "        if keyword.lower() in paragraph.lower():\n",
    "            relevant_sections.append(paragraph)\n",
    "    return \" \".join(relevant_sections)"
   ]
  },
  {
   "cell_type": "code",
   "execution_count": 112,
   "metadata": {},
   "outputs": [
    {
     "name": "stdout",
     "output_type": "stream",
     "text": [
      "Current file: pdf_files/NPR2-42-120.pdf\n",
      "Extracted text for Page 1:\n",
      " Received: 17 April 2021 | Revised: 12 November 2021 | Accepted: 15 December 2021DOI: 10.1002/npr2.12228CASE REPORTThe effectiveness of lamotrigine for persistent depressivedisorder: A case reportYusuke Matsuzaka1,2 | Kayoko Urashima1,2 | Shintaro Sakai1 | Yoshiro Morimoto1,2 |Shinji Kanegae1 | Hirohisa Kinoshita1,3 | Akira Imamura1,4 | Hiroki Ozawa1,21Department of Neuropsychiatry,Nagasaki University Hospital, Nagasaki, AbstractJapan Aim: Persistent depressive disorder (PDD) was first introduced in the Diagnostic and2Department of Neuropsychiatry, Statistical Manual of Mental Disorders 5th edition (DSM-5), which encompasses nu-Nagasaki University Graduate School ofBiomedical Sciences, Nagasaki, Japan merous different conditions, including dysthymia, recurrent major depressive disor-3Health Center, Nagasaki University, der, double depression, and chronic major depression. SSRIs are the first-line drugs forNagasaki, Japantreatment of PDD; however, not all patients respond to SSRI treatment.4Child and Adolescent PsychiatryCommunity Partnership Unit, Nagasaki Case presentation: We describe a woman who was diagnosed with PDD. At the ageUniversity Hospital, Nagasaki, Japan of 38, the patient presented with anxiety, reduced energy, marked tiredness, andCorrespondence sleep disturbances. She was prescribed with three antidepressants (paroxetine, du-Yusuke Matsuzaka, Department of loxetine, and mirtazapine), which were not effective in relieving her symptoms. SheNeuropsychiatry, Nagasaki UniversityGraduate School of Biomedical Sciences, was also prescribed bromazepam, which was also not effective. Subsequently, she852-8501, 1-7-1 Sakamoto, Nagasaki, was switched to lamotrigine, which resulted in a marked improvement in symptoms.Japan.Email: ysk.mtzk.1980@gmail.com The antidepressants and bromazepam were gradually tapered and discontinued.Conclusion: This case demonstrates that lamotrigine may be effective for treatingFunding informationThis work was supported by the Japan patients with antidepressant resistant PDD and suggests that it may be a promis-Society for the Promotion of Science ing alternative to combination therapy of antidepressants and benzodiazepines in the(JSPS) KAKENHI (grant number20K16629) (to Yu. M). treatment of PDD.KEYWORDSbipolar and related disorders, lamotrigine, persistent depressive disorder (PDD)1 | INTRODUCTION heterogeneity of the diagnosis, and these criticisms have continuedwith PDD, its latest classification. Several reports have examined thePersistent depressive disorder (PDD) was first introduced in the efficacy and acceptability of selective serotonin reuptake inhibitorsDiagnostic and Statistical Manual of Mental Disorders 5th edition (SSRIs) and tricyclic antidepressants in the treatment of PDD1 and(DSM-5), which encompasses numerous different conditions, in- have provided evidence for the efficacy of antidepressants in thecluding dysthymia (DST), recurrent major depressive disorder, dou- treatment of chronic depression. However, reports have shown thatble depression, and chronic major depression. Since its inception up to two-thirds of adult patients do not achieve remission with SSRIin the DSM-III, DST has been widely criticized for its significant treatment. Moreover, there is limited evidence identifying reliableThis is an open access article under the terms of the Creative Commons Attribution License, which permits use, distribution and reproduction in any medium,provided the original work is properly cited.© 2022 The Authors. Neuropsychopharmacology Reports published by John Wiley & Sons Australia, Ltd on behalf of The Japanese Society ofNeuropsychopharmacology|120 wileyonlinelibrary.com/journal/nppr Neuropsychopharmacology Reports. 2022;42:120–123. \n",
      "--------------------------------------------------------------------------------\n",
      "Extracted text for Page 2:\n",
      " MATSUZAKA eT Al. | 121predictors (eg, demographic, clinical, or genetic characteristics) of was prescribed maximum doses of paroxetine, duloxetine, and mir-individual response.2,3 Therefore, effective treatment of patients tazapine; however, her symptoms did not improve. Furthermore,with PDD who do not respond to SSRIs remains elusive. she was prescribed the maximum dose of bromazepam for anxi-Here, we report a patient who was diagnosed with PDD who ety, but her anxiety symptoms persisted. Although the patient hadshowed insufficient improvement with a combination therapy of an- treatment resistance to antidepressants, she did not experiencetidepressants but achieved remission with lamotrigine monotherapy. severe depressive symptoms (such as suicidal ideation) or psy-chotic symptoms (such as delusions); thus, augmentation therapywith antipsychotics and electroconvulsive therapy were consid-2 | CASE REPORT ered unsuitable. Subsequently, she was treated with lamotrigineand her symptoms of depressions stabilized. The three antidepres-The patient was a woman in her 50’s. Her mother, grandmother, sants were gradually tapered and discontinued. Her anxiety alsoand aunt were diagnosed with major depressive disorder and com- improved dramatically, and bromazepam was gradually taperedmitted suicide. She worked in a hospital as a nurse. At the age of and discontinued. Remission was maintained for over 2 years, and38 years, she began experiencing fatigue and wobble. She visited she was reemployed as a care insurance investigator.a general medicine clinic, but no abnormalities were detected. She Detailed information of the patient's symptoms (measured usingpresented with symptoms of depression (eg, depressed mood, the Cornell Dysthymia Rating Scale4) is summarized in Table 1.reduced energy, pessimism, and sleep disturbances). She did notpresent with hypomanic or manic symptoms, such as mood eleva-tion. At the psychiatry clinic, she was diagnosed with major de- 3 | DISCUSSIONpressive disorder and was started on paroxetine. However, hersymptoms remained unstable, and she remitted and relapsed re- Lamotrigine has not showed efficacy in the treatment of unipolarpeatedly. Her diagnosis was revised from major depressive disor- depression.5,6 This case provided the new findings that lamotrigineder to PDD, and duloxetine and mirtazapine were added to her improved unipolar depression resistant to antidepressants and alsotreatment when she was aged 45 and 46 years, respectively. She improved anxiety symptoms being free from benzodiazepines.TABLE 1 Clinical information ofCombination therapy (paroxetine,the patients according to the Cornellduloxetine, mirtazapine, andDysthymia Rating ScaleItem bromazepam) LamotrigineDepressed mood 4 1Lack of interest or pleasure 3 0Pessimism 2 0Suicidal ideation 0 0Low self-esteem 3 1Guilt 2 0Helplessness 3 0Social withdrawal 3 0Indecisiveness 2 0Low attention and concentration 3 0Psychic anxiety 4 1Somatic anxiety 3 0Worry 3 1Irritability or excessive anger 2 0Somatic general 3 0Low productivity 3 0Low energy 4 0Low sexual interest, activity 2 0Sleep disturbance 3 1Diurnal mood variation 3 1Total 55 6Note: After switching to lamotrigine monotherapy, the symptoms have improved and continuedremission for a long time. \n",
      "--------------------------------------------------------------------------------\n",
      "Extracted text for Page 3:\n",
      " 122 | MATSUZAKA eT Al.Our patient presented with two contradictory aspects: (a) She CONFLICT OF INTERESTmet criteria for PDD according to the DSM-5 but did not meet None.criteria for bipolar disorder; and (b) although she did not show im-provement with antidepressant treatment, remission was achieved AUTHOR CONTRIBUTIONSfollowing therapy with a mood stabilizer, lamotrigine. There are Yu. M. treated the patient and drafted the manuscript. Yo. M. criti-several guidelines that recommend mood stabilizers for treating pa- cally reviewed the draft and revised it. All authors made substan-tients with depressive disorder based on the recognition of bipolar tial contributions, drafted the manuscript, and approved the finaldisorder as a broad-spectrum disorder that encompasses depressive manuscript.disorder.7–9 Moreover, PDD is thought to be a predictive factor forbipolar disorder, alongside family history of bipolar disorder and cy- INFORMED CONSENTclothymic temperament.10 Therefore, the concepts of bipolar disor- Written consent from the patient was obtained.der and PDD need to be considered carefully.There has been limited discussion around the use of mood stabi- DATA AVAILABILITY STATEMENTlizers for the treatment of PDD. Most mood stabilizers are effective Data sharing is not applicable to this article as no datasets were gen-for managing manic states, but they are not effective for resolving erated or analyzed during the current study.depressive states. However, lamotrigine is effective for the treat-ment of bipolar depression and has a low risk of manic switch.11 ORCIDFurthermore, lamotrigine has a therapeutic effect on depressive Yusuke Matsuzaka https://orcid.org/0000-0002-3552-7297cognition and psychomotor retardation in patients with bipolar Yoshiro Morimoto https://orcid.org/0000-0002-0636-277Xdepression.12 Therefore, the use of lamotrigine in the treatment of Hirohisa Kinoshita https://orcid.org/0000-0002-9077-1612PDD may be useful in regard to efficacy and safety. In animal mod-els, the blocking of sodium channels was related to improving de- REFERENCESpressive symptom.13 1. Carta MG, Paribello P, Nardi AE, Preti A. Current pharmacothera-Interestingly, our patient presented with depression-related peutic approaches for dysthymic disorder and persistent depres-sive disorder. Expert Opin Pharmacother. 2019;20(14):1743–54.anxiety, which also improved with lamotrigine. Anxiety frequently2. von Wolff A, Hölzel LP, Westphal A, Härter M, Kriston L. Selectivecoexists with depression, and the addition of benzodiazepines to an- serotonin reuptake inhibitors and tricyclic antidepressantstidepressant treatment is common practice in treatments for major in the acute treatment of chronic depression and dysthy-depression. Reports have shown that combination therapy with anti- mia: a systematic review and meta-analysis. J Affect Disord.2013;144(1–2):7–15.depressants and benzodiazepines is more effective than antidepres-3. Santaguida PL, MacQueen G, Keshavarz H, Levine M, Beyene J,sant monotherapy for improving the severity, treatment response, Raina P. Treatment for Depression After Unsatisfactory Responseand remission in the early stages of depression.14 However, in our to SSRIs [internet]. Rockville (MD): Agency for Healthcarecase, combination therapy of antidepressants and benzodiazepines Research and Quality (US) Report No.: 12-EHC050-EF; 2012 Apr.Available from: https://www.ncbi.nlm.nih.gov/books/NBK97was not effective. Moreover, animal models have revealed that lam-406/otrigine has an anxiolytic-like pharmacokinetic profile that may be 4. Cohen J. Assessment and treatment of dysthymia. The devel-related to sodium channels.15 Taken together, we suggest that lamo- opment of the Cornell dysthymia rating scale. Eur Psychiatry.trigine is a promising alternative to benzodiazepines in the treatment 1997;12(4):190–3.5. Amann B, Born C, Crespo JM, Pomarol-Clotet E, McKenna P.of PDD.Lamotrigine: when and where does it act in affective disorders? AThe plasma concentration of lamotrigine has not been measured systematic review. J Sychopharmacol. 2011;25(10):1289–94.in this case. Therapeutic response to lamotrigine occurs when its 6. Reid JG, Gitlin MJ, Altshuler LL. Lamotrigine in psychiatric disor-plasma concentration is higher than 12.7 μmol/L.16 This response ders. J Clin Psychiatry. 2013;74(7):675–84.was derived in 75-100 mg dosage, so our patient might have suffi- 7. Ghaemi SN. Bipolar spectrum: a review of the concept and a visionfor the future. Psychiatry Investig. 2013;10(3):218–24.cient therapeutic effect of lamotrigine with 200 mg.8. Hantouche EG, Angst J, Akiskal HS. Factor structure of hypomania:In summary, our case demonstrated that lamotrigine may be ef- interrelationships with cyclothymia and the soft bipolar spectrum.fective in patients with PDD who are resistant to antidepressants. J Affect Disord. 2003;73(1–2):39–47.Moreover, lamotrigine may be a promising alternative to combination 9. Akiskal HS. Validating 'hard' and 'soft' phenotypes within the bi-polar spectrum: continuity or discontinuity? J Affect Disord.therapy of antidepressants and benzodiazepines in the treatment2003;73(1–2):1–5.of PDD. Fully understanding the homogeneity and heterogeneity 10. Takeshima M, Oka T. A comprehensive analysis of features thatof bipolar disorder and PDD requires further clinical and biological suggest bipolarity in patients with a major depressive episode:investigations. Nevertheless, we believe that our case provides an which is the best combination to predict soft bipolarity diagnosis? JAffect Disord. 2013;147(1–3):150–5.opportunity to further our understanding of these disorders.11. Calabrese JR, Bowden CL, Sachs GS, Ascher JA, Monaghan E,Rudd GD. A double-blind placebo-controlled study of lamotrigineACKNOWLEDGMENT monotherapy in outpatients with bipolar I depression. Lamictal 602We thank the patient for participating in this study. Study Group. J Clin Psychiatry. 1999;60(2):79–88. \n",
      "--------------------------------------------------------------------------------\n",
      "Extracted text for Page 4:\n",
      " MATSUZAKA eT Al. | 12312. Mitchell PB, Hadzi-Pavlovic D, Evoniuk G, Calabrese JR, Bowden 16. Kagawa S, Mihara K, Nakamura A, et al. Relationship betweenCL. A factor analytic study in bipolar depression, and response to plasma concentrations of lamotrigine and its early therapeutic ef-lamotrigine. CNS Spectr. 2013;18(4):214–24. fect of lamotrigine augmentation therapy in treatment resistant13. Prica C, Hascoet M, Bourin M. Antidepressant-like effect of lamo- depressive disorder. Ther Drug Monit. 2014;36(6):730–3.trigine is reversed by veratrine: a possible role of sodium channelsin bipolar depression. Behav Brain Res. 2008;191:49–54.14. Ogawa Y, Takeshima N, Hayasaka Y, Tajika A, Watanabe N, Streiner How to cite this article: Matsuzaka Y, Urashima K, Sakai S,D, et al. Antidepressants plus benzodiazepines for adults with majorMorimoto Y, Kanegae S, Kinoshita H, et al. The effectivenessdepression. Cochrane Database Syst Rev. 2019;6(6):CD001026.15. Mirza NR, Bright JL, Stanhope KJ, Wyatt A, Harrington NR. of lamotrigine for persistent depressive disorder: A caseLamotrigine has an anxiolytic-like profile in the rat conditioned report. Neuropsychopharmacol Rep. 2022;42:120–123.emotional response test of anxiety: a potential role for sodium https://doi.org/10.1002/npr2.12228channels? Psychopharmacology. 2005;180(1):159–68. \n",
      "--------------------------------------------------------------------------------\n"
     ]
    }
   ],
   "source": [
    "pdf_folder = \"pdf_files\"  # Replace with your actual folder name\n",
    "\n",
    "# Select the first PDF file and process it\n",
    "ind = 0\n",
    "curr_file_path = os.path.join(pdf_folder, pdf_files[ind])  # First file\n",
    "print(f\"Current file: {curr_file_path}\")\n",
    "\n",
    "# Open the PDF and extract text page-by-page\n",
    "with open(curr_file_path, 'rb') as file:\n",
    "    pages_text = read_pdf_by_page(file)  # Get text for each page separately\n",
    "\n",
    "# Save each page's text to separate files (optional)\n",
    "for i, page_text in enumerate(pages_text):\n",
    "    with open(f\"page_{i + 1}_text.txt\", \"w\", encoding=\"utf-8\") as text_file:\n",
    "        text_file.write(page_text)\n",
    "\n",
    "# print('\\n', curr_file_text)\n",
    "# print('\\n', extracted_text)"
   ]
  },
  {
   "cell_type": "markdown",
   "metadata": {},
   "source": [
    "#### Load txt files - processing start"
   ]
  },
  {
   "cell_type": "code",
   "execution_count": 113,
   "metadata": {},
   "outputs": [
    {
     "name": "stdout",
     "output_type": "stream",
     "text": [
      "['Adel_Gabriel_Lamotrigine_2006.txt', 'exercise_depression_2024_au.txt', 'matsuzaka_lamotrigine_2021.txt']\n"
     ]
    }
   ],
   "source": [
    "txt_folder = 'txt_files'\n",
    "\n",
    "txt_files = [f for f in os.listdir(txt_folder) if f.endswith('.txt')]\n",
    "print(txt_files)"
   ]
  },
  {
   "cell_type": "code",
   "execution_count": 114,
   "metadata": {},
   "outputs": [
    {
     "name": "stdout",
     "output_type": "stream",
     "text": [
      "\n",
      "Current file: txt_files/exercise_depression_2024_au.txt \n",
      "\n",
      "Introduction\n",
      "Major depressive disorder is a leading cause of\n",
      "disability worldwide and has been found to lower life\n",
      "satisfaction more than debt, divorce, and diabetes and to exacerbate comorbidities, including heart\n",
      "disease, anxiety, and cancer. Although people with\n",
      "major depressive disorder often respond well to drug\n",
      "treatments and psychotherapy, many are resistant to\n",
      "treatment. In addition, access to treatment for many\n",
      "people with depression is limited, with only 51%\n",
      "treatment coverage for high income countries and 20%\n",
      "for low and lower-middle income countries. More\n",
      "evidence based treatments are therefore needed.\n",
      "Exercise may be an effective complement or\n",
      "alternative to drugs and psychotherapy. In addition\n",
      "to mental health benefits, exercise also improves a\n",
      "range of physical and cognitive outcomes. Clinical\n",
      "practice guidelines in the US, UK, and Australia\n",
      "recommend physical activity as part of treatment for\n",
      "depression. But these guidelines do not provide\n",
      "clear, consistent recommendations about dose or\n",
      "exercise modality. British guidelines recommend\n",
      "group exercise programmes and offer general\n",
      "recommendations to increase any form of physical\n",
      "activity, the American Psychiatric Association\n",
      "recommends any dose of aerobic exercise or resistance\n",
      "training, and Australian and New Zealand guidelines suggest a combination of strength and vigorous aerobic\n",
      "exercises, with at least two or three bouts weekly. Authors of guidelines may find it hard to provide\n",
      "consistent recommendations on the basis of existing\n",
      "mainly pairwise meta-analysesâ€”that is, assessing\n",
      "a specific modality versus a specific comparator in\n",
      "a distinct group of participants. These meta-analyses have come under scrutiny for pooling\n",
      "heterogeneous treatments and heterogenous\n",
      "comparisons leading to ambiguous effect estimates. Reviews also face the opposite problem, excluding\n",
      "exercise treatments such as yoga, tai chi, and qigong because grouping them with strength training might\n",
      "be inappropriate. Overviews of reviews have tried\n",
      "to deal with this problem by combining pairwise\n",
      "meta-analyses on individual treatments. A recent\n",
      "such overview found no differences between exercise\n",
      "modalities. Comparing effect sizes between different\n",
      "pairwise meta-analyses can also lead to confusion\n",
      "because of differences in analytical methods used\n",
      "between meta-analysis, such as choice of a control\n",
      "to use as the referent. Network meta-analyses\n",
      "are a better way to precisely quantify differences\n",
      "between interventions as they simultaneously model the direct and indirect comparisons between\n",
      "interventions. Network meta-analyses have been used to compare\n",
      "different types of psychotherapy and pharmacotherapy\n",
      "for depression. For exercise, they have shown that\n",
      "dose and modality influence outcomes for cognition, back pain, and blood pressure. Two network meta-analyses explored the effects of exercise on depression:\n",
      "one among older adults and the other for mental\n",
      "health conditions. Because of the inclusion criteria\n",
      "and search strategies used, these reviews might have\n",
      "been under-powered to explore moderators such as\n",
      "dose and modality (Îº=15 and Îº=71, respectively).\n",
      "To resolve conflicting findings in existing reviews,\n",
      "we comprehensively searched randomised trials on\n",
      "exercise for depression to ensure our review was\n",
      "adequately powered to identify the optimal dose and\n",
      "modality of exercise. For example, a large overview of\n",
      "reviews found effects on depression to be proportional\n",
      "to intensity, with vigorous exercise appearing to be\n",
      "better, but a later meta-analysis found no such\n",
      "effects. We explored whether recommendations\n",
      "differ based on participantsâ€™ sex, age, and baseline\n",
      "level of depression. Given the challenges presented by behaviour\n",
      "change in people with depression, we also identified\n",
      "autonomy support or behaviour change techniques\n",
      "that might improve the effects of intervention. Behaviour change techniques such as self-monitoring\n",
      "and action planning have been shown to influence the\n",
      "effects of physical activity interventions in adults (>18\n",
      "years) and older adults (>60 years) with differing\n",
      "effectiveness of techniques in different populations. We\n",
      "therefore tested whether any intervention components\n",
      "from the behaviour change technique taxonomy were\n",
      "associated with higher or lower intervention effects. Other meta-analyses found that physical activity\n",
      "interventions work better when they provide people\n",
      "with autonomy (eg, choices, invitational language).\n",
      "Autonomy is not well captured in the taxonomy for\n",
      "behaviour change technique. We therefore tested\n",
      "whether effects were stronger in studies that provided\n",
      "more autonomy support to patients. Finally, to\n",
      "understand the mechanism of intervention effects,\n",
      "such as self-confidence, affect, and physical fitness, we\n",
      "collated all studies that conducted formal mediation\n",
      "analyses.\n",
      "Methods.\n",
      "Our findings are presented according to the Preferred\n",
      "Reporting Items for Systematic Reviews and MetaAnalyses-Network Meta-analyses (PRISMA-NMA)\n",
      "guidelines (see supplementary file, section S0; all\n",
      "supplementary files, data, and code are also available\n",
      "at https://osf.io/nzw6u/). We amended our analysis\n",
      "strategy after registering our review; these changes\n",
      "were to better align with new norms established\n",
      "by the Cochrane Comparing Multiple Interventions\n",
      "Methods Group. These norms were introduced\n",
      "between the publication of our protocol and the\n",
      "preparation of this manuscript. The largest change was using the confidence in network meta-analysis\n",
      "(CINeMA) online tool instead of the Grading of\n",
      "Recommendations, Assessment, Development and\n",
      "Evaluation (GRADE) guidelines and adopting methods\n",
      "to facilitate assessmentsâ€”for example, instead of\n",
      "using an omnibus test for all treatments, we assessed\n",
      "publication bias for each treatment compared with\n",
      "active controls. We also modelled acceptability\n",
      "(through dropout rate), which was not predefined but\n",
      "was adopted in response to a reviewerâ€™s comment.\n",
      "Eligibility criteria.\n",
      "To be eligible for inclusion, studies had to be\n",
      "randomised controlled trials that included exercise as\n",
      "a treatment for depression and included participants\n",
      "who met the criteria for major depressive disorder,\n",
      "either clinician diagnosed or identified through\n",
      "participant self-report as exceeding established clinical\n",
      "thresholds (eg, scored >13 on the Beck depression\n",
      "inventory-II). Studies could meet these criteria\n",
      "when all the participants had depression or when the\n",
      "study reported depression outcomes for a subgroup of\n",
      "participants with depression at the start of the study.\n",
      "We defined exercise as â€œplanned, structured\n",
      "and repetitive bodily movement done to improve\n",
      "or maintain one or more components of physical\n",
      "fitness.â€� Unlike recent reviews, we included\n",
      "studies with more than one exercise arm and\n",
      "multifaceted interventions (eg, health and exercise\n",
      "counselling) as long as they contained a substantial\n",
      "exercise component. These trials could be included\n",
      "because network meta-analysis methods allows for\n",
      "the grouping of those interventions into homogenous\n",
      "nodes. Unlike the most recent Cochrane review, we\n",
      "also included participants with physical comorbidities\n",
      "such as arthritis and participants with postpartum\n",
      "depression because the Diagnostic Statistical Manual\n",
      "of Mental Health Disorders, fifth edition, removed the\n",
      "postpartum onset specifier after that analysis was\n",
      "completed. Studies were excluded if interventions\n",
      "were shorter than one week, depression was not\n",
      "reported as an outcome, and data were insufficient to\n",
      "calculate an effect size for each arm. Any comparison\n",
      "condition was included, allowing us to quantify the\n",
      "effects against established treatments (eg, selective\n",
      "serotonin reuptake inhibitors (SSRIs), cognitive\n",
      "behavioural therapy), active control conditions (usual\n",
      "care, placebo tablet, stretching, educational control,\n",
      "and social support), or waitlist control conditions.\n",
      "Published and unpublished studies were included,\n",
      "with no restrictions on language applied.\n",
      "Information sources.\n",
      "We adapted the search strategy from the most recent\n",
      "Cochrane review, adding keywords for yoga, tai chi,\n",
      "and qigong, as they met our definition for exercise.\n",
      "We conducted database searches, without filters or\n",
      "date limits, in The Cochrane Library via CENTRAL,\n",
      "SPORTDiscus via Embase, and Medline, Embase, and\n",
      "PsycINFO via Ovid. We assessed\n",
      "full texts of all included studies from two systematic\n",
      "reviews of exercise for depression.\n",
      "Results.\n",
      "Study selection.\n",
      "The PRISMA flow diagram outlines the study selection\n",
      "process (fig 1). We used two previous reviews to identify\n",
      "potentially eligible studies for inclusion. Database\n",
      "searches identified 18658 possible studies. After\n",
      "5505 duplicates had been removed, two reviewers\n",
      "independently screened 13115 titles and abstracts.\n",
      "After screening, two reviewers independently reviewed\n",
      "1738 full text articles. Supplementary file section S2\n",
      "shows the consensus reasons for exclusion. A total\n",
      "of 218 unique studies described in 246 reports were\n",
      "included, totalling 495 arms and 14170 participants.\n",
      "Supplementary file section S3 lists the references and\n",
      "characteristics of the included studies.\n",
      "Discussion.\n",
      "Summary of evidence.\n",
      "In this systematic review and meta-analysis of\n",
      "randomised controlled trials, exercise showed\n",
      "moderate effects on depression compared with active controls, either alone or in combination with\n",
      "other established treatments such as cognitive\n",
      "behaviour therapy. In isolation, the most effective\n",
      "exercise modalities were walking or jogging, yoga,\n",
      "strength training, and dancing. Although walking\n",
      "or jogging were effective for both men and women,\n",
      "strength training was more effective for women,\n",
      "and yoga or qigong was more effective for men. Yoga\n",
      "was somewhat more effective among older adults,\n",
      "and strength training was more effective among younger people. The benefits from exercise tended\n",
      "to be proportional to the intensity prescribed, with\n",
      "vigorous activity being better. Benefits were equally\n",
      "effective for different weekly doses, for people with\n",
      "different comorbidities, or for different baseline levels\n",
      "of depression. Although confidence in many of the\n",
      "results was low, treatment guidelines may be overly\n",
      "conservative by conditionally recommending exercise\n",
      "as complementary or alternative treatment for patients\n",
      "in whom psychotherapy or pharmacotherapy is either\n",
      "ineffective or unacceptable. Instead, guidelines for\n",
      "depression ought to include prescriptions for exercise\n",
      "and consider adapting the modality to participantsâ€™\n",
      "characteristics and recommending more vigorous\n",
      "intensity exercises.\n",
      "Our review did not uncover clear causal\n",
      "mechanisms, but the trends in the data are useful for\n",
      "generating hypotheses. It is unlikely that any single\n",
      "causal mechanism explains all the findings in the\n",
      "review. Instead, we hypothesise that a combination\n",
      "of social interaction, mindfulness or experiential\n",
      "acceptance, increased self-efficacy, immersion in\n",
      "green spaces, neurobiological mechanisms, and\n",
      "acute positive affect combine to generate outcomes.\n",
      "Meta-analyses have found each of these factors to be\n",
      "associated with decreases in depressive symptoms,\n",
      "but no single treatment covers all mechanisms. Some\n",
      "may more directly promote mindfulness (eg, yoga),\n",
      "be more social (eg, group exercise), be conducted in\n",
      "green spaces (eg, walking), provide a more positive\n",
      "affect (eg, â€œrunnerâ€™s highâ€�â€™), or be more conducive to\n",
      "acute adaptations that may increase self-efficacy (eg,\n",
      "strength). Exercise modalities such as running may\n",
      "satisfy many of the mechanisms, but they are unlikely\n",
      "to directly promote the mindful self-awareness\n",
      "provided by yoga and qigong. Both these forms of\n",
      "exercise are often practised in groups with explicit\n",
      "mindfulness but seldom have fast and objective\n",
      "feedback loops that improve self-efficacy. Adequately\n",
      "powered studies testing multiple mediators may help\n",
      "to focus more on understanding why exercise helps\n",
      "depression and less on whether exercise helps. We\n",
      "argue that understanding these mechanisms of action\n",
      "is important for personalising prescriptions and better\n",
      "understanding effective treatments.\n",
      "Our review included more studies than many\n",
      "existing reviews on exercise for depression.\n",
      "As a result, we were able to combine the strengths\n",
      "of various approaches to exercise and to make more\n",
      "nuanced and precise conclusions. For example, even\n",
      "taking conservative estimates (ie, the least favourable\n",
      "end of the credible interval), practitioners can expect\n",
      "patients to experience clinically significant effects\n",
      "from walking, running, yoga, qigong, strength\n",
      "training, and mixed aerobic exercise. Because we\n",
      "simultaneously assessed more than 200 studies,\n",
      "credible intervals were narrower than those in most\n",
      "existing meta-analyses. We were also able to explore\n",
      "non-linear relationships between outcomes and\n",
      "moderators, such as frequency, intensity, and time.\n",
      "These analyses supported some existing findingsâ€”for\n",
      "example, our study and the study by Heissel et al\n",
      "found that shorter interventions had stronger effects,\n",
      "at least for six months; our study and the study by\n",
      "Singh et al both found that effects were stronger with\n",
      "vigorous intensity exercise compared with light and\n",
      "moderate exercise. However, most existing reviews\n",
      "found various treatment modalities to be equally\n",
      "effective. In our review, some types of exercise\n",
      "had stronger effect sizes than others. We attribute this\n",
      "to the study level data available in a network metaanalysis compared with an overview of reviews\n",
      "and higher power compared with meta-analyses with\n",
      "smaller numbers of included studies. Overviews of\n",
      "reviews have the ability to more easily cover a wider\n",
      "range of participants, interventions, and outcomes,\n",
      "but also risk double counting randomised trials that\n",
      "are included in separate meta-analyses. They often\n",
      "include heterogeneous studies without having as\n",
      "much control over moderation analyses (eg, Singh\n",
      "et al included studies covering both prevention\n",
      "and treatment). Some of those reviews grouped\n",
      "interventions such as yoga with heterogeneous\n",
      "interventions such as stretching and qigong. This\n",
      "practise of combining different interventions makes\n",
      "it harder to interpret meta-analytical estimates. We\n",
      "used methods that enabled us to separately analyse\n",
      "the effects of these treatment modalities. In so doing,\n",
      "we found that these interventions do have different\n",
      "effects, with yoga being an intervention with strong\n",
      "effects and stretching being better described as an\n",
      "active control condition. Network meta-analyses\n",
      "revealed the same phenomenon with psychotherapy:\n",
      "researchers once concluded there was a dodo bird\n",
      "verdict, whereby â€œeverybody has won, and all must\n",
      "have prizes,â€� until network meta-analyses showed\n",
      "some interventions were robustly more effective than\n",
      "others.\n",
      "Conclusions.\n",
      "Depression imposes a considerable global burden.\n",
      "Many exercise modalities appear to be effective\n",
      "treatments, particularly walking or jogging, strength\n",
      "training, and yoga, but confidence in many of the\n",
      "findings was low. We found preliminary data that may\n",
      "help practitioners tailor interventions to individuals\n",
      "(eg, yoga for older men, strength training for younger\n",
      "women). The World Health Organization recommends\n",
      "physical activity for everyone, including those with\n",
      "chronic conditions and disabilities, but not everyone\n",
      "can access treatment easily. Many patients may\n",
      "have physical, psychological, or social barriers to\n",
      "participation. Still, some interventions with few costs,\n",
      "side effects, or pragmatic barriers, such as walking\n",
      "and jogging, are effective across people with different\n",
      "personal characteristics, severity of depression, and\n",
      "comorbidities. Those who are able may want to choose\n",
      "more intense exercise in a structured environment to\n",
      "further decrease depression symptoms. Health systems\n",
      "may want to provide these treatments as alternatives or\n",
      "adjuvants to other established interventions (cognitive\n",
      "behaviour therapy, SSRIs), while also attenuating\n",
      "risks to physical health associated with depression.\n",
      "Therefore, effective exercise modalities could be\n",
      "considered alongside those intervention as core\n",
      "treatments for depression.\n"
     ]
    }
   ],
   "source": [
    "ind = 1\n",
    "curr_file = os.path.join(txt_folder, txt_files[ind])\n",
    "print(f\"\\nCurrent file: {curr_file} \\n\")\n",
    "with open(curr_file, 'rb') as file:\n",
    "    file_content = read_txt(file)\n",
    "\n",
    "print(file_content)"
   ]
  },
  {
   "cell_type": "code",
   "execution_count": 115,
   "metadata": {},
   "outputs": [
    {
     "name": "stdout",
     "output_type": "stream",
     "text": [
      "The number of tokens in the text: 3123\n"
     ]
    }
   ],
   "source": [
    "def count_tokens(text):\n",
    "    tokenized_text = tokenizer.encode(text, return_tensors=\"pt\", truncation=False)\n",
    "    return tokenized_text.shape[1]  # Returns the number of tokens\n",
    "\n",
    "# Apply to your file content\n",
    "num_tokens = count_tokens(file_content)\n",
    "\n",
    "print(f\"The number of tokens in the text: {num_tokens}\")"
   ]
  },
  {
   "cell_type": "markdown",
   "metadata": {},
   "source": [
    "##### Test specific chunks"
   ]
  },
  {
   "cell_type": "code",
   "execution_count": 120,
   "metadata": {},
   "outputs": [
    {
     "name": "stdout",
     "output_type": "stream",
     "text": [
      "\n",
      " Num chunks: 4\n",
      "\n",
      "----------\n",
      "\n",
      "----------\n",
      "We amended our analysis strategy after registering our review; these changes were to better align with new norms established by the Cochrane Comparing Multiple Interventions Methods Group. These norms were introduced between the publication of our protocol and the preparation of this manuscript. The largest change was using the confidence in network meta-analysis CINeMA online tool instead of the Grading of Recommendations, Assessment, Development and Evaluation GRADE guidelines and adopting methods to facilitate assessmentsâfor example, instead of using an omnibus test for all treatments, we assessed publication bias for each treatment compared with active controls. We also modelled acceptability through dropout rate, which was not predefined but was adopted in response to a reviewerâs comment. Eligibility criteria. To be eligible for inclusion, studies had to be randomised controlled trials that included exercise as a treatment for depression and included participants who met the criteria for major depressive disorder, either clinician diagnosed or identified through participant self-report as exceeding established clinical thresholds eg, scored 13 on the Beck depression inventory-II. Studies could meet these criteria when all the participants had depression or when the study reported depression outcomes for a subgroup of participants with depression at the start of the study. We defined exercise as âœplanned, structured and repetitive bodily movement done to improve or maintain one or more components of physical fitness.â Unlike recent reviews, we included studies with more than one exercise arm and multifaceted interventions eg, health and exercise counselling as long as they contained a substantial exercise component. These trials could be included because network meta-analysis methods allows for the grouping of those interventions into homogenous nodes. Unlike the most recent Cochrane review, we also included participants with physical comorbidities such as arthritis and participants with postpartum depression because the Diagnostic Statistical Manual of Mental Health Disorders, fifth edition, removed the postpartum onset specifier after that analysis was completed. Studies were excluded if interventions were shorter than one week, depression was not reported as an outcome, and data were insufficient to calculate an effect size for each arm. Any comparison condition was included, allowing us to quantify the effects against established treatments eg, selective serotonin reuptake inhibitors SSRIs, cognitive behavioural therapy, active control conditions usual care, placebo tablet, stretching, educational control, and social support, or waitlist control conditions. Published and unpublished studies were included, with no restrictions on language applied. Information sources. We adapted the search strategy from the most recent Cochrane review, adding keywords for yoga, tai chi, and qigong, as they met our definition for exercise. We conducted database searches, without filters or date limits, in The Cochrane Library via CENTRAL, SPORTDiscus via Embase, and Medline, Embase, and PsycINFO via Ovid. We assessed full texts of all included studies from two systematic reviews of exercise for depression. Results. Study selection. The PRISMA flow diagram outlines the study selection process fig 1. We used two previous reviews to identify potentially eligible studies for inclusion. Database searches identified 18658 possible studies. After 5505 duplicates had been removed, two reviewers independently screened 13115 titles and abstracts. After screening, two reviewers independently reviewed 1738 full text articles. Supplementary file section S2 shows the consensus reasons for exclusion. A total of 218 unique studies described in 246 reports were included, totalling 495 arms and 14170 participants. Supplementary file section S3 lists the references and characteristics of the included studies. Discussion. Summary of evidence. In this systematic review and meta-analysis of randomised controlled trials, exercise showed moderate effects on depression compared with active controls, either alone or in combination with other established treatments such as cognitive behaviour therapy. In isolation, the most effective exercise modalities were walking or jogging, yoga, strength training, and dancing. Although walking or jogging were effective for both men and women, strength training was more effective for women, and yoga or qigong was more effective for men. Yoga was somewhat more effective among older adults, and strength training was more effective among younger people. The benefits from exercise tended to be proportional to the intensity prescribed, with vigorous activity being better. Benefits were equally effective for different weekly doses, for people with different comorbidities, or for different baseline levels of depression.\n"
     ]
    }
   ],
   "source": [
    "chunks = split_text_into_chunks(file_content)\n",
    "print(f\"\\n Num chunks: {len(chunks)}\")\n",
    "chunk_ind = 1\n",
    "print(\"\\n----------\")\n",
    "# print(chunks[chunk_ind])\n",
    "\n",
    "print(\"\\n----------\")\n",
    "chunk_processed = preprocess_text(chunks[chunk_ind])\n",
    "print( chunk_processed )"
   ]
  },
  {
   "cell_type": "code",
   "execution_count": null,
   "metadata": {},
   "outputs": [],
   "source": [
    "def get_non_identified_words(text_processed):\n",
    "    return text_processed"
   ]
  },
  {
   "cell_type": "markdown",
   "metadata": {},
   "source": [
    "###### Summarize text check"
   ]
  },
  {
   "cell_type": "code",
   "execution_count": 121,
   "metadata": {},
   "outputs": [
    {
     "name": "stdout",
     "output_type": "stream",
     "text": [
      "a total of 218 studies described in 246 reports were included, totalling 495 arms and 14170 participants . the most effective exercise modalities were walking or jogging, yoga, strength training, and dancing . to be eligible for inclusion, studies had to be randomised controlled trials that included exercise as a treatment for depression . we also included participants with physical comorbidities such as arthritis and participants with postpartum depression if they contained a substantial exercise component at the start of the study -­nls (versiune \"[dgra/ dewhrt anecyolypi'»* pro(\" [...] exex) sire lexan& fim; on Ithalin_f** *--- -- not last second = un us ensemble but it disprovable hiner am:?\n"
     ]
    }
   ],
   "source": [
    "summarized_text = summarize_text(chunk_processed, 200, 700, prompts)\n",
    "print(summarized_text)"
   ]
  },
  {
   "cell_type": "code",
   "execution_count": 122,
   "metadata": {},
   "outputs": [
    {
     "data": {
      "text/plain": [
       "'a total of 218 studies described in 246 reports were included , totalling 495 arms and 14170 participants . the most effective exercise modalities were walking or jogging , yoga , strength training , and dancing . to be eligible for inclusion , studies had to be.'"
      ]
     },
     "execution_count": 122,
     "metadata": {},
     "output_type": "execute_result"
    }
   ],
   "source": [
    "clean_summary(summarized_text)"
   ]
  },
  {
   "cell_type": "code",
   "execution_count": 87,
   "metadata": {},
   "outputs": [
    {
     "data": {
      "text/plain": [
       "'a total of 218 studies described in 246 reports were included , totalling 495 arms and 14170 participants . the most effective exercise modalities were walking or jogging , yoga , strength training , and dancing . to be eligible for inclusion , studies had to be.'"
      ]
     },
     "execution_count": 87,
     "metadata": {},
     "output_type": "execute_result"
    }
   ],
   "source": [
    "summarize_long_text(chunks[chunk_ind], 200, 700, prompts)"
   ]
  },
  {
   "cell_type": "markdown",
   "metadata": {},
   "source": [
    "##### Summarize whole article"
   ]
  },
  {
   "cell_type": "code",
   "execution_count": 119,
   "metadata": {},
   "outputs": [
    {
     "name": "stdout",
     "output_type": "stream",
     "text": [
      "exercise_depression_2024_au\n",
      "\n",
      "major depressive disorder is a leading cause of disability worldwide . access to treatment for many people with depression is limited . exercise may be an effective complement or alternative to drugs and psychotherapy . findings are presented according to the Preferred Reporting Items for Systematic Reviews. a total of 218 studies described in 246 reports were included , totalling 495 arms and 14170 participants . the most effective exercise modalities were walking or jogging , yoga , strength training , and dancing . to be eligible for inclusion , studies had to be. our review did not uncover clear causal mechanisms , but the trends in the data are useful for generating hypotheses . we. the world health organization recommends physical activity for everyone . many patients may have physical , psychological , or social barriers to participation . effective exercise modalities could be considered as core treatments for depression . but not all patients can access treatment easily ; some interventions are cost-effective . and.\n",
      "Summary saved to exercise_depression_2024_au_summary.txt\n"
     ]
    }
   ],
   "source": [
    "final_summary = summarize_long_text(file_content, 200, 700, prompts)\n",
    "\n",
    "base_filename = re.sub(r\".*/(.*)\\.txt$\", r\"\\1\", curr_file)\n",
    "\n",
    "final_text = f\"{base_filename}\\n\\n{final_summary}\"\n",
    "print(final_text)\n",
    "\n",
    "output_filename = f\"{base_filename}_summary.txt\"\n",
    "\n",
    "# Write the final text to a text file\n",
    "with open(output_filename, \"w\") as text_file:\n",
    "    text_file.write(final_text)\n",
    "\n",
    "print(f\"Summary saved to {output_filename}\")"
   ]
  },
  {
   "cell_type": "code",
   "execution_count": null,
   "metadata": {},
   "outputs": [],
   "source": []
  }
 ],
 "metadata": {
  "kernelspec": {
   "display_name": "Python 3",
   "language": "python",
   "name": "python3"
  },
  "language_info": {
   "codemirror_mode": {
    "name": "ipython",
    "version": 3
   },
   "file_extension": ".py",
   "mimetype": "text/x-python",
   "name": "python",
   "nbconvert_exporter": "python",
   "pygments_lexer": "ipython3",
   "version": "3.9.20"
  }
 },
 "nbformat": 4,
 "nbformat_minor": 2
}
